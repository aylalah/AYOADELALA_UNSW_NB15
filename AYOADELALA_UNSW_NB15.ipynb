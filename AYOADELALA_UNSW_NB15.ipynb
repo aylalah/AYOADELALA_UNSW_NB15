{
  "nbformat": 4,
  "nbformat_minor": 0,
  "metadata": {
    "colab": {
      "name": "AYOADELALA-UNSW-NB15.ipynb",
      "provenance": [],
      "collapsed_sections": []
    },
    "kernelspec": {
      "name": "python3",
      "display_name": "Python 3"
    },
    "language_info": {
      "name": "python"
    }
  },
  "cells": [
    {
      "cell_type": "code",
      "source": [
        "from google.colab import drive\n",
        "drive.mount('/content/drive')"
      ],
      "metadata": {
        "colab": {
          "base_uri": "https://localhost:8080/"
        },
        "id": "7VeyECW8Oe7x",
        "outputId": "f36d5130-ea3d-4dc1-dc54-70be88c0df64"
      },
      "execution_count": null,
      "outputs": [
        {
          "output_type": "stream",
          "name": "stdout",
          "text": [
            "Mounted at /content/drive\n"
          ]
        }
      ]
    },
    {
      "cell_type": "markdown",
      "source": [
        "## Create Spark Clusters"
      ],
      "metadata": {
        "id": "Mx4aE2X-OGW6"
      }
    },
    {
      "cell_type": "code",
      "source": [
        "#Update system packages\n",
        "!sudo apt-get update"
      ],
      "metadata": {
        "colab": {
          "base_uri": "https://localhost:8080/"
        },
        "id": "xIIHDRHlVMsO",
        "outputId": "d186a1e3-f256-48a2-af71-750349be565e"
      },
      "execution_count": null,
      "outputs": [
        {
          "output_type": "stream",
          "name": "stdout",
          "text": [
            "Get:1 https://cloud.r-project.org/bin/linux/ubuntu bionic-cran40/ InRelease [3,626 B]\n",
            "Ign:2 https://developer.download.nvidia.com/compute/cuda/repos/ubuntu1804/x86_64  InRelease\n",
            "Ign:3 https://developer.download.nvidia.com/compute/machine-learning/repos/ubuntu1804/x86_64  InRelease\n",
            "Hit:4 https://developer.download.nvidia.com/compute/cuda/repos/ubuntu1804/x86_64  Release\n",
            "Hit:5 https://developer.download.nvidia.com/compute/machine-learning/repos/ubuntu1804/x86_64  Release\n",
            "Hit:6 http://archive.ubuntu.com/ubuntu bionic InRelease\n",
            "Get:7 http://ppa.launchpad.net/c2d4u.team/c2d4u4.0+/ubuntu bionic InRelease [15.9 kB]\n",
            "Get:10 http://archive.ubuntu.com/ubuntu bionic-updates InRelease [88.7 kB]\n",
            "Get:11 http://security.ubuntu.com/ubuntu bionic-security InRelease [88.7 kB]\n",
            "Hit:12 http://ppa.launchpad.net/cran/libgit2/ubuntu bionic InRelease\n",
            "Hit:13 http://archive.ubuntu.com/ubuntu bionic-backports InRelease\n",
            "Get:14 http://ppa.launchpad.net/deadsnakes/ppa/ubuntu bionic InRelease [15.9 kB]\n",
            "Get:15 http://archive.ubuntu.com/ubuntu bionic-updates/main amd64 Packages [2,929 kB]\n",
            "Get:16 http://security.ubuntu.com/ubuntu bionic-security/universe amd64 Packages [1,459 kB]\n",
            "Get:17 http://ppa.launchpad.net/graphics-drivers/ppa/ubuntu bionic InRelease [21.3 kB]\n",
            "Get:18 http://security.ubuntu.com/ubuntu bionic-security/main amd64 Packages [2,489 kB]\n",
            "Get:19 http://archive.ubuntu.com/ubuntu bionic-updates/universe amd64 Packages [2,238 kB]\n",
            "Get:20 http://ppa.launchpad.net/c2d4u.team/c2d4u4.0+/ubuntu bionic/main Sources [1,822 kB]\n",
            "Get:21 http://archive.ubuntu.com/ubuntu bionic-updates/multiverse amd64 Packages [34.5 kB]\n",
            "Get:22 http://archive.ubuntu.com/ubuntu bionic-updates/restricted amd64 Packages [749 kB]\n",
            "Get:23 http://security.ubuntu.com/ubuntu bionic-security/restricted amd64 Packages [716 kB]\n",
            "Get:24 http://security.ubuntu.com/ubuntu bionic-security/multiverse amd64 Packages [26.8 kB]\n",
            "Get:25 http://ppa.launchpad.net/c2d4u.team/c2d4u4.0+/ubuntu bionic/main amd64 Packages [934 kB]\n",
            "Get:26 http://ppa.launchpad.net/deadsnakes/ppa/ubuntu bionic/main amd64 Packages [45.3 kB]\n",
            "Get:27 http://ppa.launchpad.net/graphics-drivers/ppa/ubuntu bionic/main amd64 Packages [44.7 kB]\n",
            "Fetched 13.7 MB in 9s (1,553 kB/s)\n",
            "Reading package lists... Done\n"
          ]
        }
      ]
    },
    {
      "cell_type": "markdown",
      "source": [
        "#install Java"
      ],
      "metadata": {
        "id": "tQE-1uZxOd_9"
      }
    },
    {
      "cell_type": "code",
      "source": [
        "!apt-get install openjdk-8-jdk-headless "
      ],
      "metadata": {
        "id": "q2I2o5jOdha5",
        "colab": {
          "base_uri": "https://localhost:8080/"
        },
        "outputId": "8493df08-c073-46fb-b23b-52c1f28da1b8"
      },
      "execution_count": null,
      "outputs": [
        {
          "output_type": "stream",
          "name": "stdout",
          "text": [
            "Reading package lists... Done\n",
            "Building dependency tree       \n",
            "Reading state information... Done\n",
            "The following additional packages will be installed:\n",
            "  openjdk-8-jre-headless\n",
            "Suggested packages:\n",
            "  openjdk-8-demo openjdk-8-source libnss-mdns fonts-dejavu-extra\n",
            "  fonts-ipafont-gothic fonts-ipafont-mincho fonts-wqy-microhei\n",
            "  fonts-wqy-zenhei fonts-indic\n",
            "The following NEW packages will be installed:\n",
            "  openjdk-8-jdk-headless openjdk-8-jre-headless\n",
            "0 upgraded, 2 newly installed, 0 to remove and 61 not upgraded.\n",
            "Need to get 36.5 MB of archives.\n",
            "After this operation, 143 MB of additional disk space will be used.\n",
            "Get:1 http://archive.ubuntu.com/ubuntu bionic-updates/universe amd64 openjdk-8-jre-headless amd64 8u312-b07-0ubuntu1~18.04 [28.2 MB]\n",
            "Get:2 http://archive.ubuntu.com/ubuntu bionic-updates/universe amd64 openjdk-8-jdk-headless amd64 8u312-b07-0ubuntu1~18.04 [8,298 kB]\n",
            "Fetched 36.5 MB in 5s (6,697 kB/s)\n",
            "Selecting previously unselected package openjdk-8-jre-headless:amd64.\n",
            "(Reading database ... 155225 files and directories currently installed.)\n",
            "Preparing to unpack .../openjdk-8-jre-headless_8u312-b07-0ubuntu1~18.04_amd64.deb ...\n",
            "Unpacking openjdk-8-jre-headless:amd64 (8u312-b07-0ubuntu1~18.04) ...\n",
            "Selecting previously unselected package openjdk-8-jdk-headless:amd64.\n",
            "Preparing to unpack .../openjdk-8-jdk-headless_8u312-b07-0ubuntu1~18.04_amd64.deb ...\n",
            "Unpacking openjdk-8-jdk-headless:amd64 (8u312-b07-0ubuntu1~18.04) ...\n",
            "Setting up openjdk-8-jre-headless:amd64 (8u312-b07-0ubuntu1~18.04) ...\n",
            "update-alternatives: using /usr/lib/jvm/java-8-openjdk-amd64/jre/bin/orbd to provide /usr/bin/orbd (orbd) in auto mode\n",
            "update-alternatives: using /usr/lib/jvm/java-8-openjdk-amd64/jre/bin/servertool to provide /usr/bin/servertool (servertool) in auto mode\n",
            "update-alternatives: using /usr/lib/jvm/java-8-openjdk-amd64/jre/bin/tnameserv to provide /usr/bin/tnameserv (tnameserv) in auto mode\n",
            "Setting up openjdk-8-jdk-headless:amd64 (8u312-b07-0ubuntu1~18.04) ...\n",
            "update-alternatives: using /usr/lib/jvm/java-8-openjdk-amd64/bin/idlj to provide /usr/bin/idlj (idlj) in auto mode\n",
            "update-alternatives: using /usr/lib/jvm/java-8-openjdk-amd64/bin/wsimport to provide /usr/bin/wsimport (wsimport) in auto mode\n",
            "update-alternatives: using /usr/lib/jvm/java-8-openjdk-amd64/bin/jsadebugd to provide /usr/bin/jsadebugd (jsadebugd) in auto mode\n",
            "update-alternatives: using /usr/lib/jvm/java-8-openjdk-amd64/bin/native2ascii to provide /usr/bin/native2ascii (native2ascii) in auto mode\n",
            "update-alternatives: using /usr/lib/jvm/java-8-openjdk-amd64/bin/javah to provide /usr/bin/javah (javah) in auto mode\n",
            "update-alternatives: using /usr/lib/jvm/java-8-openjdk-amd64/bin/hsdb to provide /usr/bin/hsdb (hsdb) in auto mode\n",
            "update-alternatives: using /usr/lib/jvm/java-8-openjdk-amd64/bin/clhsdb to provide /usr/bin/clhsdb (clhsdb) in auto mode\n",
            "update-alternatives: using /usr/lib/jvm/java-8-openjdk-amd64/bin/xjc to provide /usr/bin/xjc (xjc) in auto mode\n",
            "update-alternatives: using /usr/lib/jvm/java-8-openjdk-amd64/bin/schemagen to provide /usr/bin/schemagen (schemagen) in auto mode\n",
            "update-alternatives: using /usr/lib/jvm/java-8-openjdk-amd64/bin/extcheck to provide /usr/bin/extcheck (extcheck) in auto mode\n",
            "update-alternatives: using /usr/lib/jvm/java-8-openjdk-amd64/bin/jhat to provide /usr/bin/jhat (jhat) in auto mode\n",
            "update-alternatives: using /usr/lib/jvm/java-8-openjdk-amd64/bin/wsgen to provide /usr/bin/wsgen (wsgen) in auto mode\n"
          ]
        }
      ]
    },
    {
      "cell_type": "markdown",
      "source": [
        "## Import Pyspark Library"
      ],
      "metadata": {
        "id": "CmzXRXbPOwxW"
      }
    },
    {
      "cell_type": "code",
      "source": [
        "#Install pyspark\n",
        "!pip install -q findspark\n",
        "!pip install pyspark"
      ],
      "metadata": {
        "colab": {
          "base_uri": "https://localhost:8080/"
        },
        "id": "qngNIjh7O0g8",
        "outputId": "f8bc949b-29ca-4e4a-fbf0-96e7ace19ffa"
      },
      "execution_count": null,
      "outputs": [
        {
          "output_type": "stream",
          "name": "stdout",
          "text": [
            "Collecting pyspark\n",
            "  Downloading pyspark-3.2.0.tar.gz (281.3 MB)\n",
            "\u001b[K     |████████████████████████████████| 281.3 MB 39 kB/s \n",
            "\u001b[?25hCollecting py4j==0.10.9.2\n",
            "  Downloading py4j-0.10.9.2-py2.py3-none-any.whl (198 kB)\n",
            "\u001b[K     |████████████████████████████████| 198 kB 56.5 MB/s \n",
            "\u001b[?25hBuilding wheels for collected packages: pyspark\n",
            "  Building wheel for pyspark (setup.py) ... \u001b[?25l\u001b[?25hdone\n",
            "  Created wheel for pyspark: filename=pyspark-3.2.0-py2.py3-none-any.whl size=281805912 sha256=c42b56f0fbfa2e21b405fe17ea61f59b05720fd4fe10cc3a2ee8f86895b6ed2b\n",
            "  Stored in directory: /root/.cache/pip/wheels/0b/de/d2/9be5d59d7331c6c2a7c1b6d1a4f463ce107332b1ecd4e80718\n",
            "Successfully built pyspark\n",
            "Installing collected packages: py4j, pyspark\n",
            "Successfully installed py4j-0.10.9.2 pyspark-3.2.0\n"
          ]
        }
      ]
    },
    {
      "cell_type": "code",
      "source": [
        "import pandas as pd\n",
        "import numpy as np\n",
        "import matplotlib.pyplot as plt\n",
        "%matplotlib inline\n",
        "\n",
        "import pyspark\n",
        "from pyspark.sql import *\n",
        "from pyspark.sql.functions import *\n",
        "from pyspark import SparkContext, SparkConf\n",
        "\n",
        "import pyarrow"
      ],
      "metadata": {
        "id": "zBwL3nuNR8Z7"
      },
      "execution_count": null,
      "outputs": []
    },
    {
      "cell_type": "markdown",
      "source": [
        "#setting the environment path \n"
      ],
      "metadata": {
        "id": "wA_ce6xBPTDD"
      }
    },
    {
      "cell_type": "code",
      "source": [
        "import os\n",
        "os.environ[\"JAVA_HOME\"] = \"/usr/lib/jvm/java-8-openjdk-amd64\""
      ],
      "metadata": {
        "id": "13oR5C6BgPDv"
      },
      "execution_count": null,
      "outputs": []
    },
    {
      "cell_type": "markdown",
      "source": [
        "#Running a local SparkSession\n"
      ],
      "metadata": {
        "id": "ChSoW_Z9PVZN"
      }
    },
    {
      "cell_type": "code",
      "source": [
        "# create the session\n",
        "conf = SparkConf().set(\"spark.ui.port\", \"4050\")\n",
        "\n",
        "# create the context\n",
        "sc = pyspark.SparkContext(conf=conf)\n",
        "spark = SparkSession.builder.getOrCreate()"
      ],
      "metadata": {
        "id": "pfOKXWbZgy5n"
      },
      "execution_count": null,
      "outputs": []
    },
    {
      "cell_type": "code",
      "source": [
        "spark"
      ],
      "metadata": {
        "colab": {
          "base_uri": "https://localhost:8080/",
          "height": 222
        },
        "id": "EshWRmW7u17y",
        "outputId": "4b15023a-4226-4f89-8510-af23b7581b30"
      },
      "execution_count": null,
      "outputs": [
        {
          "output_type": "execute_result",
          "data": {
            "text/html": [
              "\n",
              "            <div>\n",
              "                <p><b>SparkSession - in-memory</b></p>\n",
              "                \n",
              "        <div>\n",
              "            <p><b>SparkContext</b></p>\n",
              "\n",
              "            <p><a href=\"http://3661c384aa5d:4050\">Spark UI</a></p>\n",
              "\n",
              "            <dl>\n",
              "              <dt>Version</dt>\n",
              "                <dd><code>v3.2.0</code></dd>\n",
              "              <dt>Master</dt>\n",
              "                <dd><code>local[*]</code></dd>\n",
              "              <dt>AppName</dt>\n",
              "                <dd><code>pyspark-shell</code></dd>\n",
              "            </dl>\n",
              "        </div>\n",
              "        \n",
              "            </div>\n",
              "        "
            ],
            "text/plain": [
              "<pyspark.sql.session.SparkSession at 0x7f625e7c5ed0>"
            ]
          },
          "metadata": {},
          "execution_count": 8
        }
      ]
    },
    {
      "cell_type": "markdown",
      "source": [
        "## Other Libraries"
      ],
      "metadata": {
        "id": "_GCsq8YXPa8X"
      }
    },
    {
      "cell_type": "code",
      "source": [
        "from pyspark.sql.functions import *\n",
        "from functools import reduce\n",
        "from pyspark.ml.classification import  RandomForestClassifier\n",
        "from pyspark.ml.feature import StringIndexer, OneHotEncoder, VectorAssembler, VectorSlicer\n",
        "from pyspark.ml import Pipeline\n",
        "from pyspark.ml.evaluation import BinaryClassificationEvaluator\n",
        "from pyspark.ml.linalg import Vectors\n",
        "from pyspark.ml.tuning import ParamGridBuilder, TrainValidationSplit\n",
        "import seaborn as sns\n",
        "from sklearn.metrics import classification_report\n",
        "from pyspark.sql.functions import col,sum"
      ],
      "metadata": {
        "id": "Sq-AHsafSGPZ"
      },
      "execution_count": null,
      "outputs": []
    },
    {
      "cell_type": "markdown",
      "source": [
        "## Load Data"
      ],
      "metadata": {
        "id": "BE2zMeYDu8z0"
      }
    },
    {
      "cell_type": "code",
      "source": [
        "df = spark.read.csv(\"/content/drive/MyDrive/UNSW-NB15.csv\", inferSchema=True)"
      ],
      "metadata": {
        "id": "OVHu6HqFSlaV"
      },
      "execution_count": null,
      "outputs": []
    },
    {
      "cell_type": "markdown",
      "source": [
        "## Reanme Columns"
      ],
      "metadata": {
        "id": "36Eu5OAOxCOm"
      }
    },
    {
      "cell_type": "code",
      "source": [
        "newColumns = ['srcip', 'sport', 'dstip', 'dsport', 'proto', 'state', 'dur',\n",
        "       'sbytes', 'dbytes', 'sttl', 'dttl', 'sloss', 'dloss', 'service',\n",
        "       'Sload', 'Dload', 'Spkts', 'Dpkts', 'swin', 'dwin', 'stcpb',\n",
        "       'dtcpb', 'smeansz', 'dmeansz', 'trans_depth', 'res_bdy_len',\n",
        "       'Sjit', 'Djit', 'Stime', 'Ltime', 'Sintpkt', 'Dintpkt', 'tcprtt',\n",
        "       'synack', 'ackdat', 'is_sm_ips_ports', 'ct_state_ttl',\n",
        "       'ct_flw_http_mthd', 'is_ftp_login', 'ct_ftp_cmd', 'ct_srv_src',\n",
        "       'ct_srv_dst', 'ct_dst_ltm', 'ct_src_ ltm', 'ct_src_dport_ltm',\n",
        "       'ct_dst_sport_ltm', 'ct_dst_src_ltm', 'attack_cat', 'Label']"
      ],
      "metadata": {
        "id": "SHFgua9ayh9_"
      },
      "execution_count": null,
      "outputs": []
    },
    {
      "cell_type": "code",
      "source": [
        "for c,n in zip(df.columns,newColumns):\n",
        "    df=df.withColumnRenamed(c,n)"
      ],
      "metadata": {
        "id": "cOuDgCQ9xdtM"
      },
      "execution_count": null,
      "outputs": []
    },
    {
      "cell_type": "code",
      "source": [
        "df.printSchema"
      ],
      "metadata": {
        "colab": {
          "base_uri": "https://localhost:8080/"
        },
        "id": "ugRuJgT7r0EA",
        "outputId": "1c1b17e2-b904-4738-b984-d9ce70749cfd"
      },
      "execution_count": null,
      "outputs": [
        {
          "output_type": "execute_result",
          "data": {
            "text/plain": [
              "<bound method DataFrame.printSchema of DataFrame[srcip: string, sport: int, dstip: string, dsport: int, proto: string, state: string, dur: double, sbytes: int, dbytes: int, sttl: int, dttl: int, sloss: int, dloss: int, service: string, Sload: double, Dload: double, Spkts: int, Dpkts: int, swin: int, dwin: int, stcpb: bigint, dtcpb: bigint, smeansz: int, dmeansz: int, trans_depth: int, res_bdy_len: int, Sjit: double, Djit: double, Stime: int, Ltime: int, Sintpkt: double, Dintpkt: double, tcprtt: double, synack: double, ackdat: double, is_sm_ips_ports: int, ct_state_ttl: int, ct_flw_http_mthd: int, is_ftp_login: int, ct_ftp_cmd: int, ct_srv_src: int, ct_srv_dst: int, ct_dst_ltm: int, ct_src_ ltm: int, ct_src_dport_ltm: int, ct_dst_sport_ltm: int, ct_dst_src_ltm: int, attack_cat: string, Label: int]>"
            ]
          },
          "metadata": {},
          "execution_count": 13
        }
      ]
    },
    {
      "cell_type": "code",
      "source": [
        "df.show()"
      ],
      "metadata": {
        "colab": {
          "base_uri": "https://localhost:8080/"
        },
        "id": "zof9ZJ_uyWJH",
        "outputId": "8cf8c3fe-91eb-4e35-fc76-0cc6cf40088e"
      },
      "execution_count": null,
      "outputs": [
        {
          "output_type": "stream",
          "name": "stdout",
          "text": [
            "+----------+-----+-------------+------+-----+-----+------------+------+------+----+----+-----+-----+--------+---------+---------+-----+-----+----+----+----------+----------+-------+-------+-----------+-----------+----------+---------+----------+----------+------------+------------+------------+------------+------------+---------------+------------+----------------+------------+----------+----------+----------+----------+-----------+----------------+----------------+--------------+----------+-----+\n",
            "|     srcip|sport|        dstip|dsport|proto|state|         dur|sbytes|dbytes|sttl|dttl|sloss|dloss| service|    Sload|    Dload|Spkts|Dpkts|swin|dwin|     stcpb|     dtcpb|smeansz|dmeansz|trans_depth|res_bdy_len|      Sjit|     Djit|     Stime|     Ltime|     Sintpkt|     Dintpkt|      tcprtt|      synack|      ackdat|is_sm_ips_ports|ct_state_ttl|ct_flw_http_mthd|is_ftp_login|ct_ftp_cmd|ct_srv_src|ct_srv_dst|ct_dst_ltm|ct_src_ ltm|ct_src_dport_ltm|ct_dst_sport_ltm|ct_dst_src_ltm|attack_cat|Label|\n",
            "+----------+-----+-------------+------+-----+-----+------------+------+------+----+----+-----+-----+--------+---------+---------+-----+-----+----+----+----------+----------+-------+-------+-----------+-----------+----------+---------+----------+----------+------------+------------+------------+------------+------------+---------------+------------+----------------+------------+----------+----------+----------+----------+-----------+----------------+----------------+--------------+----------+-----+\n",
            "|59.166.0.3|56716|149.171.126.8|   143|  tcp|  FIN|  0.82546002|  7812| 16236|  31|  29|   30|   32|       -| 75090.25|156111.73|  122|  126| 255| 255|2751097753|2748686736|     64|    129|          0|          0| 445.25928| 474.9451|1421970774|1421970775|   6.8190908|    6.599896|5.9700001E-4|4.6899999E-4|     1.28E-4|              0|           0|               0|           0|         0|         2|         7|         1|          4|               1|               1|             1|      null|    0|\n",
            "|59.166.0.0|43467|149.171.126.6| 49729|  tcp|  FIN|    0.101815|  4238| 65628|  31|  29|    7|   30|       -|328438.84|5087030.5|   72|   74| 255| 255| 961515433|3225510659|     59|    887|          0|          0|       0.0|91.579567|1421970775|1421970775|    1.429493|    1.387192|      6.8E-4|5.4600002E-4|     1.34E-4|              0|           0|               0|           0|         0|         7|         4|         1|          6|               1|               1|             1|      null|    0|\n",
            "|59.166.0.5|41289|149.171.126.2|  9574|  tcp|  FIN| 0.044002999|  2750| 29104|  31|  29|    7|   17|       -|488693.97|5181101.5|   44|   48| 255| 255|3291096757|1191410228|     63|    606|          0|          0| 78.126968|62.206562|1421970775|1421970775|    1.014977|  0.92583001|     0.00125|     4.85E-4|     7.65E-4|              0|           0|               0|           0|         0|         3|         5|         3|          3|               1|               1|             1|      null|    0|\n",
            "|59.166.0.9|43785|149.171.126.0|  6881|  tcp|  FIN|   2.7908299| 10476|395734|  31|  29|   16|  143|       -|29863.518|1130840.8|  180|  320| 255| 255|3934392726|3961690324|     58|   1237|          0|          0| 2707.4927| 2018.976|1421970772|1421970775|   15.589459|   8.7470121|6.8400003E-4|5.3199998E-4|1.5199999E-4|              0|           0|               0|           0|         0|        11|         4|         3|          2|               1|               1|             1|      null|    0|\n",
            "|59.166.0.8|40691|149.171.126.9|  6881|  tcp|  FIN|   2.6335001| 13350|548216|  31|  29|   21|  197|       -|40381.238|1661560.6|  232|  438| 255| 255|   1518931|  18267719|     58|   1252|          0|          0| 718.33679|500.57288|1421970773|1421970775|   11.399026|   6.0251832|     6.19E-4|     4.89E-4|      1.3E-4|              0|           0|               0|           0|         0|        16|         7|         7|          1|               1|               1|             1|      null|    0|\n",
            "|59.166.0.3|20393|149.171.126.3|  5190|  tcp|  FIN|    0.115048|  1958|  2308|  31|  29|    6|    6|       -|129963.15|153814.06|   22|   24| 255| 255|3646899201|3651364285|     89|     96|          0|          0| 435.26627|417.08563|1421970775|1421970775|    5.460381|    4.976913|7.0999999E-4|     5.73E-4|     1.37E-4|              0|           0|               0|           0|         0|         2|         6|         1|          4|               1|               1|             1|      null|    0|\n",
            "|59.166.0.7|19792|149.171.126.0|    53|  udp|  CON|    0.003362|   146|   178|  31|  29|    0|    0|     dns|173706.13| 211778.7|    2|    2|   0|   0|         0|         0|     73|     89|          0|          0|       0.0|      0.0|1421970775|1421970775|       0.011|0.0060000001|         0.0|         0.0|         0.0|              0|           0|               0|           0|         0|         3|         2|         3|          3|               3|               1|             1|      null|    0|\n",
            "|59.166.0.3|14382|149.171.126.9|  3354|  tcp|  FIN|  0.45305201|   424|  8824|  31|  29|    1|    4|ftp-data| 6551.124| 142835.7|    8|   12| 255| 255|2206905053|3307670308|     53|    735|          0|          0| 3906.7949|3074.6694|1421970775|1421970775|   64.671288|   41.134998|      6.8E-4|5.5900001E-4|     1.21E-4|              0|           0|               0|           0|         0|         4|         6|         7|          4|               1|               1|             2|      null|    0|\n",
            "|59.166.0.9|37074|149.171.126.2|    53|  udp|  CON|    0.001088|   146|   178|  31|  29|    0|    0|     dns|536764.69|654411.75|    2|    2|   0|   0|         0|         0|     73|     89|          0|          0|       0.0|      0.0|1421970775|1421970775|       0.001|0.0089999996|         0.0|         0.0|         0.0|              0|           0|               0|           0|         0|         2|         5|         3|          2|               1|               1|             1|      null|    0|\n",
            "|59.166.0.7|12569|149.171.126.5|    53|  udp|  CON|9.6899999E-4|   146|   178|  31|  29|    0|    0|     dns|602683.19|734778.13|    2|    2|   0|   0|         0|         0|     73|     89|          0|          0|       0.0|      0.0|1421970775|1421970775|0.0099999998|       0.003|         0.0|         0.0|         0.0|              0|           0|               0|           0|         0|         3|         1|         2|          3|               3|               1|             1|      null|    0|\n",
            "|59.166.0.1|12792|149.171.126.7|    53|  udp|  CON|0.0010629999|   146|   178|  31|  29|    0|    0|     dns|549388.56| 669802.5|    2|    2|   0|   0|         0|         0|     73|     89|          0|          0|       0.0|      0.0|1421970780|1421970780|0.0020000001|       0.003|         0.0|         0.0|         0.0|              0|           0|               0|           0|         0|         5|         3|         2|          4|               3|               1|             1|      null|    0|\n",
            "|59.166.0.0|63414|149.171.126.9| 10330|  tcp|  FIN|  0.26501101|  8928|   320|  31|  29|    4|    1|ftp-data|250283.94|8060.0425|   14|    6| 255| 255|2386904726|3699988372|    638|     53|          0|          0| 1725.2916|71.464249|1421970775|1421970776|   20.385462|   52.644802|7.7500002E-4|6.3299999E-4|     1.42E-4|              0|           0|               0|           0|         0|         3|         6|         6|          5|               1|               1|             2|      null|    0|\n",
            "|59.166.0.1|33555|149.171.126.3|  6881|  tcp|  FIN|  0.51712799|  1540|  1644|  31|  29|    4|    4|       -|22338.764|  24025.0|   16|   18| 255| 255|1741520309|3943579644|     96|     91|          0|          0| 2036.1301| 51.91766|1421970776|1421970776|   34.433331|   30.388353|6.5399997E-4|5.2200002E-4|     1.32E-4|              0|           0|               0|           0|         0|         4|         6|         5|          7|               4|               1|             4|      null|    0|\n",
            "|59.166.0.8|10867|149.171.126.8|   111|  udp|  CON|0.0053389999|   568|   312|  31|  29|    0|    0|       -|638321.81|350627.47|    4|    4|   0|   0|         0|         0|    142|     78|          0|          0| 1.7430201| 1.757632|1421970776|1421970776|        1.24|    1.252333|         0.0|         0.0|         0.0|              0|           0|               0|           0|         0|        16|         7|         5|          5|               1|               1|             4|      null|    0|\n",
            "|59.166.0.8|12411|149.171.126.8|  1715|  udp|  CON|    0.001739|   512|   304|  31|  29|    0|    0|       -|1766532.5|1048878.6|    4|    4|   0|   0|         0|         0|    128|     76|          0|          0|0.63026798| 0.318434|1421970776|1421970776|  0.44966701|    0.227667|         0.0|         0.0|         0.0|              0|           0|               0|           0|         0|        16|         7|         5|          5|               1|               1|             4|      null|    0|\n",
            "|59.166.0.8|46725|149.171.126.2|    53|  udp|  CON|    0.001018|   146|   178|  31|  29|    0|    0|     dns|573673.88|699410.63|    2|    2|   0|   0|         0|         0|     73|     89|          0|          0|       0.0|      0.0|1421970776|1421970776|       0.011|       0.011|         0.0|         0.0|         0.0|              0|           0|               0|           0|         0|         2|         5|         3|          5|               1|               1|             1|      null|    0|\n",
            "|59.166.0.1|51562|149.171.126.4|    53|  udp|  CON|    0.001044|   146|   178|  31|  29|    0|    0|     dns|559386.94|681992.31|    2|    2|   0|   0|         0|         0|     73|     89|          0|          0|       0.0|      0.0|1421970776|1421970776|       0.011|       0.003|         0.0|         0.0|         0.0|              0|           0|               0|           0|         0|         2|         3|         5|          7|               2|               1|             3|      null|    0|\n",
            "|59.166.0.3|48838|149.171.126.2|    53|  udp|  CON|9.8699995E-4|   146|   178|  31|  29|    0|    0|     dns| 591692.0|721377.94|    2|    2|   0|   0|         0|         0|     73|     89|          0|          0|       0.0|      0.0|1421970776|1421970776|0.0080000004|       0.003|         0.0|         0.0|         0.0|              0|           0|               0|           0|         0|         2|         5|         3|          3|               1|               1|             1|      null|    0|\n",
            "|59.166.0.0|16907|149.171.126.9|    21|  tcp|  FIN|   2.2547121|  2934|  3740|  31|  29|   11|   15|     ftp|10211.503|13025.166|   52|   54| 255| 255| 241515551|2584135680|     56|     69|          0|          0| 3141.3708| 99.93412|1421970773|1421970776|   44.203648|   42.531734|6.6100003E-4|5.2499998E-4|     1.36E-4|              0|           0|               0|           0|         0|         1|         3|         6|          5|               1|               1|             2|      null|    0|\n",
            "|59.166.0.0| 1915|149.171.126.4| 32945|  tcp|  FIN| 0.051220998|  2854| 29104|  31|  29|    7|   17|       -|436071.16|4450987.0|   46|   48| 255| 255|1921515932|1974066994|     62|    606|          0|          0| 78.226654|76.387978|1421970776|1421970776|   1.1294219|   1.0781699|      8.1E-4|     5.43E-4|     2.67E-4|              0|           0|               0|           0|         0|         7|         2|         5|          5|               1|               1|             2|      null|    0|\n",
            "+----------+-----+-------------+------+-----+-----+------------+------+------+----+----+-----+-----+--------+---------+---------+-----+-----+----+----+----------+----------+-------+-------+-----------+-----------+----------+---------+----------+----------+------------+------------+------------+------------+------------+---------------+------------+----------------+------------+----------+----------+----------+----------+-----------+----------------+----------------+--------------+----------+-----+\n",
            "only showing top 20 rows\n",
            "\n"
          ]
        }
      ]
    },
    {
      "cell_type": "markdown",
      "source": [
        "## Number of Rows"
      ],
      "metadata": {
        "id": "yQS4nvkWAUFh"
      }
    },
    {
      "cell_type": "code",
      "source": [
        "print(\"Total Number of Data\", df.count())"
      ],
      "metadata": {
        "colab": {
          "base_uri": "https://localhost:8080/"
        },
        "id": "B6tcWE8qAVzN",
        "outputId": "0b9915e9-b319-42ff-8ddd-864d81117d62"
      },
      "execution_count": null,
      "outputs": [
        {
          "output_type": "stream",
          "name": "stdout",
          "text": [
            "Total Number of Data 2539739\n"
          ]
        }
      ]
    },
    {
      "cell_type": "markdown",
      "source": [
        "## Data Describtion"
      ],
      "metadata": {
        "id": "KljoRMhnAes5"
      }
    },
    {
      "cell_type": "code",
      "source": [
        "df.describe().show()"
      ],
      "metadata": {
        "colab": {
          "base_uri": "https://localhost:8080/"
        },
        "id": "omCyxImNAwxd",
        "outputId": "60f3a73a-4d01-4c0e-fb22-f7a47e51134d"
      },
      "execution_count": null,
      "outputs": [
        {
          "output_type": "stream",
          "name": "stdout",
          "text": [
            "+-------+-----------+------------------+-----------+------------------+-------+-------+------------------+-----------------+------------------+-----------------+------------------+-----------------+------------------+-------+--------------------+-----------------+-----------------+------------------+------------------+------------------+--------------------+--------------------+------------------+------------------+-------------------+------------------+------------------+------------------+--------------------+--------------------+------------------+-----------------+--------------------+--------------------+-------------------+--------------------+-------------------+-------------------+-------------------+--------------------+------------------+------------------+-----------------+-----------------+-----------------+-----------------+------------------+----------+-------------------+\n",
            "|summary|      srcip|             sport|      dstip|            dsport|  proto|  state|               dur|           sbytes|            dbytes|             sttl|              dttl|            sloss|             dloss|service|               Sload|            Dload|            Spkts|             Dpkts|              swin|              dwin|               stcpb|               dtcpb|           smeansz|           dmeansz|        trans_depth|       res_bdy_len|              Sjit|              Djit|               Stime|               Ltime|           Sintpkt|          Dintpkt|              tcprtt|              synack|             ackdat|     is_sm_ips_ports|       ct_state_ttl|   ct_flw_http_mthd|       is_ftp_login|          ct_ftp_cmd|        ct_srv_src|        ct_srv_dst|       ct_dst_ltm|      ct_src_ ltm| ct_src_dport_ltm| ct_dst_sport_ltm|    ct_dst_src_ltm|attack_cat|              Label|\n",
            "+-------+-----------+------------------+-----------+------------------+-------+-------+------------------+-----------------+------------------+-----------------+------------------+-----------------+------------------+-------+--------------------+-----------------+-----------------+------------------+------------------+------------------+--------------------+--------------------+------------------+------------------+-------------------+------------------+------------------+------------------+--------------------+--------------------+------------------+-----------------+--------------------+--------------------+-------------------+--------------------+-------------------+-------------------+-------------------+--------------------+------------------+------------------+-----------------+-----------------+-----------------+-----------------+------------------+----------+-------------------+\n",
            "|  count|    2539739|           2539739|    2539739|           2539739|2539739|2539739|           2539739|          2539739|           2539739|          2539739|           2539739|          2539739|           2539739|2539739|             2539739|          2539739|          2539739|           2539739|           2539739|           2539739|             2539739|             2539739|           2539739|           2539739|            2539739|           2539739|           2539739|           2539739|             2539739|             2539739|           2539739|          2539739|             2539739|             2539739|            2539739|             2539739|            2539739|            2539739|            2539739|             2539739|           2539739|           2539739|          2539739|          2539739|          2539739|          2539739|           2539739|    321283|            2539739|\n",
            "|   mean|       null| 30536.93108583205|       null|11235.096788685767|   null|   null|0.6588634003800393|4340.072263330996| 36432.01132478574|62.78149802007214|   30.770440978384|5.164547223159545|16.331423819534212|   null| 3.694927939363408E7|2451158.440857539| 33.2925678583508|42.731821655689814|150.10695075360107|149.76404347060858|1.2618542900429437E9|1.2619194806546414E9|124.25270588828222|276.70543193611627|0.08326328020320198| 4242.632264575218|1589.1543650105623| 730.1640026779703|1.4232606949103932E9|1.4232606956744623E9| 193.0465504924596|78.83432357570544|0.006181224255109452|0.003287993858563316|0.00289323039543641|0.001651744529654425|0.26118471228736495|0.11009123378425893|0.01735335796316078|0.020560380417042855| 9.207911915358231| 8.989882818667587|6.439727074317479|6.901640286659378|4.642571933572702|3.593031803661715|  6.84655746121944|      null| 0.1265023689442104|\n",
            "| stddev|       null|20441.216792342224|       null| 18438.20083577165|   null|   null|13.925767633289283|56409.39812286232|161105.30400824756|74.62669956848524|42.851922189518724|22.51836838779722|56.597890353205116|   null|1.1860413786386509E8|4225032.897503491|76.28775585678378|121.50842004704197|125.47913122211004|125.54062192608511| 1.422045057823864E9| 1.422157469789883E9|151.92108772283464| 335.6231650135929|0.35002455674771116|47503.383153168135|16911.377637309888|3438.7574708801694|  1134456.4636742047|  1134456.2648463438|2778.5830034350847|1433.278071549331|  0.0461613828526482|0.025937245439328835|0.02394810919858883|0.040608089328964335| 0.6831310323762818| 0.5564518805021055|0.13346510417617913|  0.1843730431164465|10.837080948770966|10.822813466163238|8.162329925209063|8.205340175616495|8.478001123292248|6.174757636883334|11.258797786324628|      null|0.33241474561750184|\n",
            "|    min|10.40.170.2|                 0|10.40.170.2|                 0|    3pc|    ACC|               0.0|                0|                 0|                0|                 0|                0|                 0|      -|                 0.0|              0.0|                0|                 0|                 0|                 0|                   0|                   0|                 0|                 0|                  0|                 0|               0.0|               0.0|          1421927377|          1421927414|               0.0|              0.0|                 0.0|                 0.0|                0.0|                   0|                  0|                  0|                  0|                   0|                 1|                 1|                1|                1|                1|                1|                 1|  Analysis|                  0|\n",
            "|    max| 59.166.0.9|             65535| 59.166.0.9|             65535|   zero|     no|         8786.6377|         14355774|          14657531|              255|               254|             5319|              5507|    ssl|         5.9880003E9|       1.287619E8|            10646|             11018|               255|               255|          4294958913|          4294953724|              1504|              1500|                172|           6558056|         1483830.9|         781221.13|          1424262068|          1424262069|         84371.492|         59485.32|           10.037506|           4.5252719|          5.5122342|                   1|                  6|                 36|                  4|                   8|                67|                67|               67|               67|               67|               60|                67|     Worms|                  1|\n",
            "+-------+-----------+------------------+-----------+------------------+-------+-------+------------------+-----------------+------------------+-----------------+------------------+-----------------+------------------+-------+--------------------+-----------------+-----------------+------------------+------------------+------------------+--------------------+--------------------+------------------+------------------+-------------------+------------------+------------------+------------------+--------------------+--------------------+------------------+-----------------+--------------------+--------------------+-------------------+--------------------+-------------------+-------------------+-------------------+--------------------+------------------+------------------+-----------------+-----------------+-----------------+-----------------+------------------+----------+-------------------+\n",
            "\n"
          ]
        }
      ]
    },
    {
      "cell_type": "markdown",
      "source": [
        "## Data Schema"
      ],
      "metadata": {
        "id": "qWhtHSFPA1pX"
      }
    },
    {
      "cell_type": "code",
      "source": [
        "df.printSchema()"
      ],
      "metadata": {
        "colab": {
          "base_uri": "https://localhost:8080/"
        },
        "id": "8Sm4OzbkA3Ja",
        "outputId": "4c6e84a7-5d4d-4ba3-8d80-04aed13796f8"
      },
      "execution_count": null,
      "outputs": [
        {
          "output_type": "stream",
          "name": "stdout",
          "text": [
            "root\n",
            " |-- srcip: string (nullable = true)\n",
            " |-- sport: integer (nullable = true)\n",
            " |-- dstip: string (nullable = true)\n",
            " |-- dsport: integer (nullable = true)\n",
            " |-- proto: string (nullable = true)\n",
            " |-- state: string (nullable = true)\n",
            " |-- dur: double (nullable = true)\n",
            " |-- sbytes: integer (nullable = true)\n",
            " |-- dbytes: integer (nullable = true)\n",
            " |-- sttl: integer (nullable = true)\n",
            " |-- dttl: integer (nullable = true)\n",
            " |-- sloss: integer (nullable = true)\n",
            " |-- dloss: integer (nullable = true)\n",
            " |-- service: string (nullable = true)\n",
            " |-- Sload: double (nullable = true)\n",
            " |-- Dload: double (nullable = true)\n",
            " |-- Spkts: integer (nullable = true)\n",
            " |-- Dpkts: integer (nullable = true)\n",
            " |-- swin: integer (nullable = true)\n",
            " |-- dwin: integer (nullable = true)\n",
            " |-- stcpb: long (nullable = true)\n",
            " |-- dtcpb: long (nullable = true)\n",
            " |-- smeansz: integer (nullable = true)\n",
            " |-- dmeansz: integer (nullable = true)\n",
            " |-- trans_depth: integer (nullable = true)\n",
            " |-- res_bdy_len: integer (nullable = true)\n",
            " |-- Sjit: double (nullable = true)\n",
            " |-- Djit: double (nullable = true)\n",
            " |-- Stime: integer (nullable = true)\n",
            " |-- Ltime: integer (nullable = true)\n",
            " |-- Sintpkt: double (nullable = true)\n",
            " |-- Dintpkt: double (nullable = true)\n",
            " |-- tcprtt: double (nullable = true)\n",
            " |-- synack: double (nullable = true)\n",
            " |-- ackdat: double (nullable = true)\n",
            " |-- is_sm_ips_ports: integer (nullable = true)\n",
            " |-- ct_state_ttl: integer (nullable = true)\n",
            " |-- ct_flw_http_mthd: integer (nullable = true)\n",
            " |-- is_ftp_login: integer (nullable = true)\n",
            " |-- ct_ftp_cmd: integer (nullable = true)\n",
            " |-- ct_srv_src: integer (nullable = true)\n",
            " |-- ct_srv_dst: integer (nullable = true)\n",
            " |-- ct_dst_ltm: integer (nullable = true)\n",
            " |-- ct_src_ ltm: integer (nullable = true)\n",
            " |-- ct_src_dport_ltm: integer (nullable = true)\n",
            " |-- ct_dst_sport_ltm: integer (nullable = true)\n",
            " |-- ct_dst_src_ltm: integer (nullable = true)\n",
            " |-- attack_cat: string (nullable = true)\n",
            " |-- Label: integer (nullable = true)\n",
            "\n"
          ]
        }
      ]
    },
    {
      "cell_type": "markdown",
      "source": [
        "## Fill Attack Cat Null values with Normal"
      ],
      "metadata": {
        "id": "BXBffTq9G364"
      }
    },
    {
      "cell_type": "code",
      "source": [
        "df = df.na.fill(value='Normal',subset=[\"attack_cat\"])"
      ],
      "metadata": {
        "id": "QZ4JoSXcG6pf"
      },
      "execution_count": null,
      "outputs": []
    },
    {
      "cell_type": "markdown",
      "source": [
        "## Checking Null Values"
      ],
      "metadata": {
        "id": "OQq9IY5ZGxa-"
      }
    },
    {
      "cell_type": "code",
      "source": [
        "df.select(*(sum(col(c).isNull().cast(\"int\")).alias(c) for c in df.columns)).show()"
      ],
      "metadata": {
        "colab": {
          "base_uri": "https://localhost:8080/"
        },
        "id": "WWCjf-yOGzAp",
        "outputId": "2dfd2a5d-482f-47fa-b711-b6e4c6002d0e"
      },
      "execution_count": null,
      "outputs": [
        {
          "output_type": "stream",
          "name": "stdout",
          "text": [
            "+-----+-----+-----+------+-----+-----+---+------+------+----+----+-----+-----+-------+-----+-----+-----+-----+----+----+-----+-----+-------+-------+-----------+-----------+----+----+-----+-----+-------+-------+------+------+------+---------------+------------+----------------+------------+----------+----------+----------+----------+-----------+----------------+----------------+--------------+----------+-----+\n",
            "|srcip|sport|dstip|dsport|proto|state|dur|sbytes|dbytes|sttl|dttl|sloss|dloss|service|Sload|Dload|Spkts|Dpkts|swin|dwin|stcpb|dtcpb|smeansz|dmeansz|trans_depth|res_bdy_len|Sjit|Djit|Stime|Ltime|Sintpkt|Dintpkt|tcprtt|synack|ackdat|is_sm_ips_ports|ct_state_ttl|ct_flw_http_mthd|is_ftp_login|ct_ftp_cmd|ct_srv_src|ct_srv_dst|ct_dst_ltm|ct_src_ ltm|ct_src_dport_ltm|ct_dst_sport_ltm|ct_dst_src_ltm|attack_cat|Label|\n",
            "+-----+-----+-----+------+-----+-----+---+------+------+----+----+-----+-----+-------+-----+-----+-----+-----+----+----+-----+-----+-------+-------+-----------+-----------+----+----+-----+-----+-------+-------+------+------+------+---------------+------------+----------------+------------+----------+----------+----------+----------+-----------+----------------+----------------+--------------+----------+-----+\n",
            "|    0|    0|    0|     0|    0|    0|  0|     0|     0|   0|   0|    0|    0|      0|    0|    0|    0|    0|   0|   0|    0|    0|      0|      0|          0|          0|   0|   0|    0|    0|      0|      0|     0|     0|     0|              0|           0|               0|           0|         0|         0|         0|         0|          0|               0|               0|             0|         0|    0|\n",
            "+-----+-----+-----+------+-----+-----+---+------+------+----+----+-----+-----+-------+-----+-----+-----+-----+----+----+-----+-----+-------+-------+-----------+-----------+----+----+-----+-----+-------+-------+------+------+------+---------------+------------+----------------+------------+----------+----------+----------+----------+-----------+----------------+----------------+--------------+----------+-----+\n",
            "\n"
          ]
        }
      ]
    },
    {
      "cell_type": "markdown",
      "source": [
        "## Creating Hive Table"
      ],
      "metadata": {
        "id": "tUwCLWXrGv7n"
      }
    },
    {
      "cell_type": "code",
      "source": [
        "df.createOrReplaceTempView(\"hiveunsw\")"
      ],
      "metadata": {
        "id": "VzPThlcOHCRF"
      },
      "execution_count": null,
      "outputs": []
    },
    {
      "cell_type": "code",
      "source": [
        "spark.sql(\"show tables\").show()"
      ],
      "metadata": {
        "colab": {
          "base_uri": "https://localhost:8080/"
        },
        "id": "nl21OESbJ23i",
        "outputId": "a5b23805-4ad1-40ca-9b69-e849ac8384ac"
      },
      "execution_count": null,
      "outputs": [
        {
          "output_type": "stream",
          "name": "stdout",
          "text": [
            "+---------+---------+-----------+\n",
            "|namespace|tableName|isTemporary|\n",
            "+---------+---------+-----------+\n",
            "|         | hiveunsw|       true|\n",
            "+---------+---------+-----------+\n",
            "\n"
          ]
        }
      ]
    },
    {
      "cell_type": "markdown",
      "source": [
        "## Exploratory Analysis"
      ],
      "metadata": {
        "id": "spHtpsOIGtU0"
      }
    },
    {
      "cell_type": "code",
      "source": [
        "data = spark.sql(\"SELECT * FROM hiveunsw\")"
      ],
      "metadata": {
        "id": "hp5qdo_IGqGY"
      },
      "execution_count": null,
      "outputs": []
    },
    {
      "cell_type": "code",
      "source": [
        "data.show()"
      ],
      "metadata": {
        "colab": {
          "base_uri": "https://localhost:8080/"
        },
        "id": "O38-XwyhJ-M6",
        "outputId": "4372cf1c-bddb-4ec6-9846-309f07e5aed2"
      },
      "execution_count": null,
      "outputs": [
        {
          "output_type": "stream",
          "name": "stdout",
          "text": [
            "+----------+-----+-------------+------+-----+-----+------------+------+------+----+----+-----+-----+--------+---------+---------+-----+-----+----+----+----------+----------+-------+-------+-----------+-----------+----------+---------+----------+----------+------------+------------+------------+------------+------------+---------------+------------+----------------+------------+----------+----------+----------+----------+-----------+----------------+----------------+--------------+----------+-----+\n",
            "|     srcip|sport|        dstip|dsport|proto|state|         dur|sbytes|dbytes|sttl|dttl|sloss|dloss| service|    Sload|    Dload|Spkts|Dpkts|swin|dwin|     stcpb|     dtcpb|smeansz|dmeansz|trans_depth|res_bdy_len|      Sjit|     Djit|     Stime|     Ltime|     Sintpkt|     Dintpkt|      tcprtt|      synack|      ackdat|is_sm_ips_ports|ct_state_ttl|ct_flw_http_mthd|is_ftp_login|ct_ftp_cmd|ct_srv_src|ct_srv_dst|ct_dst_ltm|ct_src_ ltm|ct_src_dport_ltm|ct_dst_sport_ltm|ct_dst_src_ltm|attack_cat|Label|\n",
            "+----------+-----+-------------+------+-----+-----+------------+------+------+----+----+-----+-----+--------+---------+---------+-----+-----+----+----+----------+----------+-------+-------+-----------+-----------+----------+---------+----------+----------+------------+------------+------------+------------+------------+---------------+------------+----------------+------------+----------+----------+----------+----------+-----------+----------------+----------------+--------------+----------+-----+\n",
            "|59.166.0.3|56716|149.171.126.8|   143|  tcp|  FIN|  0.82546002|  7812| 16236|  31|  29|   30|   32|       -| 75090.25|156111.73|  122|  126| 255| 255|2751097753|2748686736|     64|    129|          0|          0| 445.25928| 474.9451|1421970774|1421970775|   6.8190908|    6.599896|5.9700001E-4|4.6899999E-4|     1.28E-4|              0|           0|               0|           0|         0|         2|         7|         1|          4|               1|               1|             1|    Normal|    0|\n",
            "|59.166.0.0|43467|149.171.126.6| 49729|  tcp|  FIN|    0.101815|  4238| 65628|  31|  29|    7|   30|       -|328438.84|5087030.5|   72|   74| 255| 255| 961515433|3225510659|     59|    887|          0|          0|       0.0|91.579567|1421970775|1421970775|    1.429493|    1.387192|      6.8E-4|5.4600002E-4|     1.34E-4|              0|           0|               0|           0|         0|         7|         4|         1|          6|               1|               1|             1|    Normal|    0|\n",
            "|59.166.0.5|41289|149.171.126.2|  9574|  tcp|  FIN| 0.044002999|  2750| 29104|  31|  29|    7|   17|       -|488693.97|5181101.5|   44|   48| 255| 255|3291096757|1191410228|     63|    606|          0|          0| 78.126968|62.206562|1421970775|1421970775|    1.014977|  0.92583001|     0.00125|     4.85E-4|     7.65E-4|              0|           0|               0|           0|         0|         3|         5|         3|          3|               1|               1|             1|    Normal|    0|\n",
            "|59.166.0.9|43785|149.171.126.0|  6881|  tcp|  FIN|   2.7908299| 10476|395734|  31|  29|   16|  143|       -|29863.518|1130840.8|  180|  320| 255| 255|3934392726|3961690324|     58|   1237|          0|          0| 2707.4927| 2018.976|1421970772|1421970775|   15.589459|   8.7470121|6.8400003E-4|5.3199998E-4|1.5199999E-4|              0|           0|               0|           0|         0|        11|         4|         3|          2|               1|               1|             1|    Normal|    0|\n",
            "|59.166.0.8|40691|149.171.126.9|  6881|  tcp|  FIN|   2.6335001| 13350|548216|  31|  29|   21|  197|       -|40381.238|1661560.6|  232|  438| 255| 255|   1518931|  18267719|     58|   1252|          0|          0| 718.33679|500.57288|1421970773|1421970775|   11.399026|   6.0251832|     6.19E-4|     4.89E-4|      1.3E-4|              0|           0|               0|           0|         0|        16|         7|         7|          1|               1|               1|             1|    Normal|    0|\n",
            "|59.166.0.3|20393|149.171.126.3|  5190|  tcp|  FIN|    0.115048|  1958|  2308|  31|  29|    6|    6|       -|129963.15|153814.06|   22|   24| 255| 255|3646899201|3651364285|     89|     96|          0|          0| 435.26627|417.08563|1421970775|1421970775|    5.460381|    4.976913|7.0999999E-4|     5.73E-4|     1.37E-4|              0|           0|               0|           0|         0|         2|         6|         1|          4|               1|               1|             1|    Normal|    0|\n",
            "|59.166.0.7|19792|149.171.126.0|    53|  udp|  CON|    0.003362|   146|   178|  31|  29|    0|    0|     dns|173706.13| 211778.7|    2|    2|   0|   0|         0|         0|     73|     89|          0|          0|       0.0|      0.0|1421970775|1421970775|       0.011|0.0060000001|         0.0|         0.0|         0.0|              0|           0|               0|           0|         0|         3|         2|         3|          3|               3|               1|             1|    Normal|    0|\n",
            "|59.166.0.3|14382|149.171.126.9|  3354|  tcp|  FIN|  0.45305201|   424|  8824|  31|  29|    1|    4|ftp-data| 6551.124| 142835.7|    8|   12| 255| 255|2206905053|3307670308|     53|    735|          0|          0| 3906.7949|3074.6694|1421970775|1421970775|   64.671288|   41.134998|      6.8E-4|5.5900001E-4|     1.21E-4|              0|           0|               0|           0|         0|         4|         6|         7|          4|               1|               1|             2|    Normal|    0|\n",
            "|59.166.0.9|37074|149.171.126.2|    53|  udp|  CON|    0.001088|   146|   178|  31|  29|    0|    0|     dns|536764.69|654411.75|    2|    2|   0|   0|         0|         0|     73|     89|          0|          0|       0.0|      0.0|1421970775|1421970775|       0.001|0.0089999996|         0.0|         0.0|         0.0|              0|           0|               0|           0|         0|         2|         5|         3|          2|               1|               1|             1|    Normal|    0|\n",
            "|59.166.0.7|12569|149.171.126.5|    53|  udp|  CON|9.6899999E-4|   146|   178|  31|  29|    0|    0|     dns|602683.19|734778.13|    2|    2|   0|   0|         0|         0|     73|     89|          0|          0|       0.0|      0.0|1421970775|1421970775|0.0099999998|       0.003|         0.0|         0.0|         0.0|              0|           0|               0|           0|         0|         3|         1|         2|          3|               3|               1|             1|    Normal|    0|\n",
            "|59.166.0.1|12792|149.171.126.7|    53|  udp|  CON|0.0010629999|   146|   178|  31|  29|    0|    0|     dns|549388.56| 669802.5|    2|    2|   0|   0|         0|         0|     73|     89|          0|          0|       0.0|      0.0|1421970780|1421970780|0.0020000001|       0.003|         0.0|         0.0|         0.0|              0|           0|               0|           0|         0|         5|         3|         2|          4|               3|               1|             1|    Normal|    0|\n",
            "|59.166.0.0|63414|149.171.126.9| 10330|  tcp|  FIN|  0.26501101|  8928|   320|  31|  29|    4|    1|ftp-data|250283.94|8060.0425|   14|    6| 255| 255|2386904726|3699988372|    638|     53|          0|          0| 1725.2916|71.464249|1421970775|1421970776|   20.385462|   52.644802|7.7500002E-4|6.3299999E-4|     1.42E-4|              0|           0|               0|           0|         0|         3|         6|         6|          5|               1|               1|             2|    Normal|    0|\n",
            "|59.166.0.1|33555|149.171.126.3|  6881|  tcp|  FIN|  0.51712799|  1540|  1644|  31|  29|    4|    4|       -|22338.764|  24025.0|   16|   18| 255| 255|1741520309|3943579644|     96|     91|          0|          0| 2036.1301| 51.91766|1421970776|1421970776|   34.433331|   30.388353|6.5399997E-4|5.2200002E-4|     1.32E-4|              0|           0|               0|           0|         0|         4|         6|         5|          7|               4|               1|             4|    Normal|    0|\n",
            "|59.166.0.8|10867|149.171.126.8|   111|  udp|  CON|0.0053389999|   568|   312|  31|  29|    0|    0|       -|638321.81|350627.47|    4|    4|   0|   0|         0|         0|    142|     78|          0|          0| 1.7430201| 1.757632|1421970776|1421970776|        1.24|    1.252333|         0.0|         0.0|         0.0|              0|           0|               0|           0|         0|        16|         7|         5|          5|               1|               1|             4|    Normal|    0|\n",
            "|59.166.0.8|12411|149.171.126.8|  1715|  udp|  CON|    0.001739|   512|   304|  31|  29|    0|    0|       -|1766532.5|1048878.6|    4|    4|   0|   0|         0|         0|    128|     76|          0|          0|0.63026798| 0.318434|1421970776|1421970776|  0.44966701|    0.227667|         0.0|         0.0|         0.0|              0|           0|               0|           0|         0|        16|         7|         5|          5|               1|               1|             4|    Normal|    0|\n",
            "|59.166.0.8|46725|149.171.126.2|    53|  udp|  CON|    0.001018|   146|   178|  31|  29|    0|    0|     dns|573673.88|699410.63|    2|    2|   0|   0|         0|         0|     73|     89|          0|          0|       0.0|      0.0|1421970776|1421970776|       0.011|       0.011|         0.0|         0.0|         0.0|              0|           0|               0|           0|         0|         2|         5|         3|          5|               1|               1|             1|    Normal|    0|\n",
            "|59.166.0.1|51562|149.171.126.4|    53|  udp|  CON|    0.001044|   146|   178|  31|  29|    0|    0|     dns|559386.94|681992.31|    2|    2|   0|   0|         0|         0|     73|     89|          0|          0|       0.0|      0.0|1421970776|1421970776|       0.011|       0.003|         0.0|         0.0|         0.0|              0|           0|               0|           0|         0|         2|         3|         5|          7|               2|               1|             3|    Normal|    0|\n",
            "|59.166.0.3|48838|149.171.126.2|    53|  udp|  CON|9.8699995E-4|   146|   178|  31|  29|    0|    0|     dns| 591692.0|721377.94|    2|    2|   0|   0|         0|         0|     73|     89|          0|          0|       0.0|      0.0|1421970776|1421970776|0.0080000004|       0.003|         0.0|         0.0|         0.0|              0|           0|               0|           0|         0|         2|         5|         3|          3|               1|               1|             1|    Normal|    0|\n",
            "|59.166.0.0|16907|149.171.126.9|    21|  tcp|  FIN|   2.2547121|  2934|  3740|  31|  29|   11|   15|     ftp|10211.503|13025.166|   52|   54| 255| 255| 241515551|2584135680|     56|     69|          0|          0| 3141.3708| 99.93412|1421970773|1421970776|   44.203648|   42.531734|6.6100003E-4|5.2499998E-4|     1.36E-4|              0|           0|               0|           0|         0|         1|         3|         6|          5|               1|               1|             2|    Normal|    0|\n",
            "|59.166.0.0| 1915|149.171.126.4| 32945|  tcp|  FIN| 0.051220998|  2854| 29104|  31|  29|    7|   17|       -|436071.16|4450987.0|   46|   48| 255| 255|1921515932|1974066994|     62|    606|          0|          0| 78.226654|76.387978|1421970776|1421970776|   1.1294219|   1.0781699|      8.1E-4|     5.43E-4|     2.67E-4|              0|           0|               0|           0|         0|         7|         2|         5|          5|               1|               1|             2|    Normal|    0|\n",
            "+----------+-----+-------------+------+-----+-----+------------+------+------+----+----+-----+-----+--------+---------+---------+-----+-----+----+----+----------+----------+-------+-------+-----------+-----------+----------+---------+----------+----------+------------+------------+------------+------------+------------+---------------+------------+----------------+------------+----------+----------+----------+----------+-----------+----------------+----------------+--------------+----------+-----+\n",
            "only showing top 20 rows\n",
            "\n"
          ]
        }
      ]
    },
    {
      "cell_type": "markdown",
      "source": [
        "## Data Visulization"
      ],
      "metadata": {
        "id": "AHOA_PFNKgfB"
      }
    },
    {
      "cell_type": "markdown",
      "source": [
        "## Binary Label\n",
        "\n",
        "* 1 is attack\n",
        "* 0 is normal"
      ],
      "metadata": {
        "id": "c2NTjFjXKiZ1"
      }
    },
    {
      "cell_type": "code",
      "source": [
        "binary = spark.sql(\"SELECT Label, count(Label) as total FROM hiveunsw group by Label\")\n",
        "binary.show()"
      ],
      "metadata": {
        "colab": {
          "base_uri": "https://localhost:8080/"
        },
        "id": "NULP8SzXKkOI",
        "outputId": "b9295fd4-13f9-46ea-ab7b-da05b9cdc1b8"
      },
      "execution_count": null,
      "outputs": [
        {
          "output_type": "stream",
          "name": "stdout",
          "text": [
            "+-----+-------+\n",
            "|Label|  total|\n",
            "+-----+-------+\n",
            "|    1| 321283|\n",
            "|    0|2218456|\n",
            "+-----+-------+\n",
            "\n"
          ]
        }
      ]
    },
    {
      "cell_type": "code",
      "source": [
        "binary  = binary.toPandas()"
      ],
      "metadata": {
        "id": "YYXB3lPSKssy"
      },
      "execution_count": null,
      "outputs": []
    },
    {
      "cell_type": "code",
      "source": [
        "color_palette_list = ['#009ACD', '#ADD8E6', '#63D1F4', '#0EBFE9', \n",
        "                      '#C1F0F6', '#0099CC']"
      ],
      "metadata": {
        "id": "tf902lIiOu9_"
      },
      "execution_count": null,
      "outputs": []
    },
    {
      "cell_type": "code",
      "source": [
        "fig, ax = plt.subplots()\n",
        "plt.rcParams['font.sans-serif'] = 'Arial'\n",
        "plt.rcParams['font.family'] = 'sans-serif'\n",
        "plt.rcParams['text.color'] = '#909090'\n",
        "plt.rcParams['axes.labelcolor']= '#909090'\n",
        "plt.rcParams['xtick.color'] = '#909090'\n",
        "plt.rcParams['ytick.color'] = '#909090'\n",
        "plt.rcParams['font.size']=12\n",
        "\n",
        "explode=(0.1,0)\n",
        "ax.pie(binary['total'], explode=explode, labels=binary['Label'],  \n",
        "       colors=color_palette_list[0:2], autopct='%1.0f%%', \n",
        "       shadow=False, startangle=0,   \n",
        "       pctdistance=1.2,labeldistance=1.4)\n",
        "ax.axis('equal')\n",
        "ax.set_title(\"Binary Labels\")\n",
        "ax.legend(frameon=False, bbox_to_anchor=(1.5,0.8))"
      ],
      "metadata": {
        "colab": {
          "base_uri": "https://localhost:8080/",
          "height": 300
        },
        "id": "o4_aWohVOijP",
        "outputId": "e1197aae-70a2-42b0-acdb-ae29648cde52"
      },
      "execution_count": null,
      "outputs": [
        {
          "output_type": "execute_result",
          "data": {
            "text/plain": [
              "<matplotlib.legend.Legend at 0x7f3891e5eb50>"
            ]
          },
          "metadata": {},
          "execution_count": 102
        },
        {
          "output_type": "stream",
          "name": "stderr",
          "text": [
            "findfont: Font family ['sans-serif'] not found. Falling back to DejaVu Sans.\n",
            "findfont: Font family ['sans-serif'] not found. Falling back to DejaVu Sans.\n"
          ]
        },
        {
          "output_type": "display_data",
          "data": {
            "image/png": "[encoded data removed]",
            "text/plain": [
              "<Figure size 432x288 with 1 Axes>"
            ]
          },
          "metadata": {}
        }
      ]
    },
    {
      "cell_type": "markdown",
      "source": [
        "## Multi label"
      ],
      "metadata": {
        "id": "Nc0601WzMorf"
      }
    },
    {
      "cell_type": "code",
      "source": [
        "multi = spark.sql(\"SELECT attack_cat, count(attack_cat) as total FROM hiveunsw group by attack_cat\")\n",
        "multi.show()"
      ],
      "metadata": {
        "colab": {
          "base_uri": "https://localhost:8080/"
        },
        "outputId": "eb78b558-52de-4231-9331-faea9d222615",
        "id": "geeWcAobMrUS"
      },
      "execution_count": null,
      "outputs": [
        {
          "output_type": "stream",
          "name": "stdout",
          "text": [
            "+---------------+-------+\n",
            "|     attack_cat|  total|\n",
            "+---------------+-------+\n",
            "|          Worms|    174|\n",
            "|       Analysis|   2677|\n",
            "|     Shellcode |   1288|\n",
            "|            DoS|  16353|\n",
            "|Reconnaissance |  12228|\n",
            "|       Backdoor|   1795|\n",
            "|       Fuzzers |  19195|\n",
            "|       Exploits|  44525|\n",
            "|         Normal|2218456|\n",
            "|        Generic| 215481|\n",
            "|      Shellcode|    223|\n",
            "|      Backdoors|    534|\n",
            "|        Fuzzers|   5051|\n",
            "| Reconnaissance|   1759|\n",
            "+---------------+-------+\n",
            "\n"
          ]
        }
      ]
    },
    {
      "cell_type": "code",
      "source": [
        "multi  = multi.toPandas()"
      ],
      "metadata": {
        "id": "fKUkDIF4MrUT"
      },
      "execution_count": null,
      "outputs": []
    },
    {
      "cell_type": "code",
      "source": [
        "fig, ax = plt.subplots(figsize = (15,8))\n",
        "sns.barplot(x='attack_cat', y = 'total',  \n",
        "            data = multi, palette=color_palette_list, \n",
        "            label=\"Multi Label\",ax=ax, \n",
        "            ci=None)"
      ],
      "metadata": {
        "colab": {
          "base_uri": "https://localhost:8080/",
          "height": 533
        },
        "id": "4TnnH7owQaXi",
        "outputId": "b51a9861-0dcb-40b8-f491-62a783e10f38"
      },
      "execution_count": null,
      "outputs": [
        {
          "output_type": "execute_result",
          "data": {
            "text/plain": [
              "<matplotlib.axes._subplots.AxesSubplot at 0x7f388ffea510>"
            ]
          },
          "metadata": {},
          "execution_count": 121
        },
        {
          "output_type": "display_data",
          "data": {
            "image/png": "[encoded data removed]",
            "text/plain": [
              "<Figure size 1080x576 with 1 Axes>"
            ]
          },
          "metadata": {
            "needs_background": "dark"
          }
        }
      ]
    },
    {
      "cell_type": "markdown",
      "source": [
        "## Checking Top State or Protocal used for attacking"
      ],
      "metadata": {
        "id": "ba1qs81wQ-Lx"
      }
    },
    {
      "cell_type": "code",
      "source": [
        "data.show()"
      ],
      "metadata": {
        "colab": {
          "base_uri": "https://localhost:8080/"
        },
        "id": "jlJ6MHkaRI91",
        "outputId": "59dce8d6-231b-4090-af66-1fede3ba37a8"
      },
      "execution_count": null,
      "outputs": [
        {
          "output_type": "stream",
          "name": "stdout",
          "text": [
            "+----------+-----+-------------+------+-----+-----+------------+------+------+----+----+-----+-----+--------+---------+---------+-----+-----+----+----+----------+----------+-------+-------+-----------+-----------+----------+---------+----------+----------+------------+------------+------------+------------+------------+---------------+------------+----------------+------------+----------+----------+----------+----------+-----------+----------------+----------------+--------------+----------+-----+\n",
            "|     srcip|sport|        dstip|dsport|proto|state|         dur|sbytes|dbytes|sttl|dttl|sloss|dloss| service|    Sload|    Dload|Spkts|Dpkts|swin|dwin|     stcpb|     dtcpb|smeansz|dmeansz|trans_depth|res_bdy_len|      Sjit|     Djit|     Stime|     Ltime|     Sintpkt|     Dintpkt|      tcprtt|      synack|      ackdat|is_sm_ips_ports|ct_state_ttl|ct_flw_http_mthd|is_ftp_login|ct_ftp_cmd|ct_srv_src|ct_srv_dst|ct_dst_ltm|ct_src_ ltm|ct_src_dport_ltm|ct_dst_sport_ltm|ct_dst_src_ltm|attack_cat|Label|\n",
            "+----------+-----+-------------+------+-----+-----+------------+------+------+----+----+-----+-----+--------+---------+---------+-----+-----+----+----+----------+----------+-------+-------+-----------+-----------+----------+---------+----------+----------+------------+------------+------------+------------+------------+---------------+------------+----------------+------------+----------+----------+----------+----------+-----------+----------------+----------------+--------------+----------+-----+\n",
            "|59.166.0.3|56716|149.171.126.8|   143|  tcp|  FIN|  0.82546002|  7812| 16236|  31|  29|   30|   32|       -| 75090.25|156111.73|  122|  126| 255| 255|2751097753|2748686736|     64|    129|          0|          0| 445.25928| 474.9451|1421970774|1421970775|   6.8190908|    6.599896|5.9700001E-4|4.6899999E-4|     1.28E-4|              0|           0|               0|           0|         0|         2|         7|         1|          4|               1|               1|             1|    Normal|    0|\n",
            "|59.166.0.0|43467|149.171.126.6| 49729|  tcp|  FIN|    0.101815|  4238| 65628|  31|  29|    7|   30|       -|328438.84|5087030.5|   72|   74| 255| 255| 961515433|3225510659|     59|    887|          0|          0|       0.0|91.579567|1421970775|1421970775|    1.429493|    1.387192|      6.8E-4|5.4600002E-4|     1.34E-4|              0|           0|               0|           0|         0|         7|         4|         1|          6|               1|               1|             1|    Normal|    0|\n",
            "|59.166.0.5|41289|149.171.126.2|  9574|  tcp|  FIN| 0.044002999|  2750| 29104|  31|  29|    7|   17|       -|488693.97|5181101.5|   44|   48| 255| 255|3291096757|1191410228|     63|    606|          0|          0| 78.126968|62.206562|1421970775|1421970775|    1.014977|  0.92583001|     0.00125|     4.85E-4|     7.65E-4|              0|           0|               0|           0|         0|         3|         5|         3|          3|               1|               1|             1|    Normal|    0|\n",
            "|59.166.0.9|43785|149.171.126.0|  6881|  tcp|  FIN|   2.7908299| 10476|395734|  31|  29|   16|  143|       -|29863.518|1130840.8|  180|  320| 255| 255|3934392726|3961690324|     58|   1237|          0|          0| 2707.4927| 2018.976|1421970772|1421970775|   15.589459|   8.7470121|6.8400003E-4|5.3199998E-4|1.5199999E-4|              0|           0|               0|           0|         0|        11|         4|         3|          2|               1|               1|             1|    Normal|    0|\n",
            "|59.166.0.8|40691|149.171.126.9|  6881|  tcp|  FIN|   2.6335001| 13350|548216|  31|  29|   21|  197|       -|40381.238|1661560.6|  232|  438| 255| 255|   1518931|  18267719|     58|   1252|          0|          0| 718.33679|500.57288|1421970773|1421970775|   11.399026|   6.0251832|     6.19E-4|     4.89E-4|      1.3E-4|              0|           0|               0|           0|         0|        16|         7|         7|          1|               1|               1|             1|    Normal|    0|\n",
            "|59.166.0.3|20393|149.171.126.3|  5190|  tcp|  FIN|    0.115048|  1958|  2308|  31|  29|    6|    6|       -|129963.15|153814.06|   22|   24| 255| 255|3646899201|3651364285|     89|     96|          0|          0| 435.26627|417.08563|1421970775|1421970775|    5.460381|    4.976913|7.0999999E-4|     5.73E-4|     1.37E-4|              0|           0|               0|           0|         0|         2|         6|         1|          4|               1|               1|             1|    Normal|    0|\n",
            "|59.166.0.7|19792|149.171.126.0|    53|  udp|  CON|    0.003362|   146|   178|  31|  29|    0|    0|     dns|173706.13| 211778.7|    2|    2|   0|   0|         0|         0|     73|     89|          0|          0|       0.0|      0.0|1421970775|1421970775|       0.011|0.0060000001|         0.0|         0.0|         0.0|              0|           0|               0|           0|         0|         3|         2|         3|          3|               3|               1|             1|    Normal|    0|\n",
            "|59.166.0.3|14382|149.171.126.9|  3354|  tcp|  FIN|  0.45305201|   424|  8824|  31|  29|    1|    4|ftp-data| 6551.124| 142835.7|    8|   12| 255| 255|2206905053|3307670308|     53|    735|          0|          0| 3906.7949|3074.6694|1421970775|1421970775|   64.671288|   41.134998|      6.8E-4|5.5900001E-4|     1.21E-4|              0|           0|               0|           0|         0|         4|         6|         7|          4|               1|               1|             2|    Normal|    0|\n",
            "|59.166.0.9|37074|149.171.126.2|    53|  udp|  CON|    0.001088|   146|   178|  31|  29|    0|    0|     dns|536764.69|654411.75|    2|    2|   0|   0|         0|         0|     73|     89|          0|          0|       0.0|      0.0|1421970775|1421970775|       0.001|0.0089999996|         0.0|         0.0|         0.0|              0|           0|               0|           0|         0|         2|         5|         3|          2|               1|               1|             1|    Normal|    0|\n",
            "|59.166.0.7|12569|149.171.126.5|    53|  udp|  CON|9.6899999E-4|   146|   178|  31|  29|    0|    0|     dns|602683.19|734778.13|    2|    2|   0|   0|         0|         0|     73|     89|          0|          0|       0.0|      0.0|1421970775|1421970775|0.0099999998|       0.003|         0.0|         0.0|         0.0|              0|           0|               0|           0|         0|         3|         1|         2|          3|               3|               1|             1|    Normal|    0|\n",
            "|59.166.0.1|12792|149.171.126.7|    53|  udp|  CON|0.0010629999|   146|   178|  31|  29|    0|    0|     dns|549388.56| 669802.5|    2|    2|   0|   0|         0|         0|     73|     89|          0|          0|       0.0|      0.0|1421970780|1421970780|0.0020000001|       0.003|         0.0|         0.0|         0.0|              0|           0|               0|           0|         0|         5|         3|         2|          4|               3|               1|             1|    Normal|    0|\n",
            "|59.166.0.0|63414|149.171.126.9| 10330|  tcp|  FIN|  0.26501101|  8928|   320|  31|  29|    4|    1|ftp-data|250283.94|8060.0425|   14|    6| 255| 255|2386904726|3699988372|    638|     53|          0|          0| 1725.2916|71.464249|1421970775|1421970776|   20.385462|   52.644802|7.7500002E-4|6.3299999E-4|     1.42E-4|              0|           0|               0|           0|         0|         3|         6|         6|          5|               1|               1|             2|    Normal|    0|\n",
            "|59.166.0.1|33555|149.171.126.3|  6881|  tcp|  FIN|  0.51712799|  1540|  1644|  31|  29|    4|    4|       -|22338.764|  24025.0|   16|   18| 255| 255|1741520309|3943579644|     96|     91|          0|          0| 2036.1301| 51.91766|1421970776|1421970776|   34.433331|   30.388353|6.5399997E-4|5.2200002E-4|     1.32E-4|              0|           0|               0|           0|         0|         4|         6|         5|          7|               4|               1|             4|    Normal|    0|\n",
            "|59.166.0.8|10867|149.171.126.8|   111|  udp|  CON|0.0053389999|   568|   312|  31|  29|    0|    0|       -|638321.81|350627.47|    4|    4|   0|   0|         0|         0|    142|     78|          0|          0| 1.7430201| 1.757632|1421970776|1421970776|        1.24|    1.252333|         0.0|         0.0|         0.0|              0|           0|               0|           0|         0|        16|         7|         5|          5|               1|               1|             4|    Normal|    0|\n",
            "|59.166.0.8|12411|149.171.126.8|  1715|  udp|  CON|    0.001739|   512|   304|  31|  29|    0|    0|       -|1766532.5|1048878.6|    4|    4|   0|   0|         0|         0|    128|     76|          0|          0|0.63026798| 0.318434|1421970776|1421970776|  0.44966701|    0.227667|         0.0|         0.0|         0.0|              0|           0|               0|           0|         0|        16|         7|         5|          5|               1|               1|             4|    Normal|    0|\n",
            "|59.166.0.8|46725|149.171.126.2|    53|  udp|  CON|    0.001018|   146|   178|  31|  29|    0|    0|     dns|573673.88|699410.63|    2|    2|   0|   0|         0|         0|     73|     89|          0|          0|       0.0|      0.0|1421970776|1421970776|       0.011|       0.011|         0.0|         0.0|         0.0|              0|           0|               0|           0|         0|         2|         5|         3|          5|               1|               1|             1|    Normal|    0|\n",
            "|59.166.0.1|51562|149.171.126.4|    53|  udp|  CON|    0.001044|   146|   178|  31|  29|    0|    0|     dns|559386.94|681992.31|    2|    2|   0|   0|         0|         0|     73|     89|          0|          0|       0.0|      0.0|1421970776|1421970776|       0.011|       0.003|         0.0|         0.0|         0.0|              0|           0|               0|           0|         0|         2|         3|         5|          7|               2|               1|             3|    Normal|    0|\n",
            "|59.166.0.3|48838|149.171.126.2|    53|  udp|  CON|9.8699995E-4|   146|   178|  31|  29|    0|    0|     dns| 591692.0|721377.94|    2|    2|   0|   0|         0|         0|     73|     89|          0|          0|       0.0|      0.0|1421970776|1421970776|0.0080000004|       0.003|         0.0|         0.0|         0.0|              0|           0|               0|           0|         0|         2|         5|         3|          3|               1|               1|             1|    Normal|    0|\n",
            "|59.166.0.0|16907|149.171.126.9|    21|  tcp|  FIN|   2.2547121|  2934|  3740|  31|  29|   11|   15|     ftp|10211.503|13025.166|   52|   54| 255| 255| 241515551|2584135680|     56|     69|          0|          0| 3141.3708| 99.93412|1421970773|1421970776|   44.203648|   42.531734|6.6100003E-4|5.2499998E-4|     1.36E-4|              0|           0|               0|           0|         0|         1|         3|         6|          5|               1|               1|             2|    Normal|    0|\n",
            "|59.166.0.0| 1915|149.171.126.4| 32945|  tcp|  FIN| 0.051220998|  2854| 29104|  31|  29|    7|   17|       -|436071.16|4450987.0|   46|   48| 255| 255|1921515932|1974066994|     62|    606|          0|          0| 78.226654|76.387978|1421970776|1421970776|   1.1294219|   1.0781699|      8.1E-4|     5.43E-4|     2.67E-4|              0|           0|               0|           0|         0|         7|         2|         5|          5|               1|               1|             2|    Normal|    0|\n",
            "+----------+-----+-------------+------+-----+-----+------------+------+------+----+----+-----+-----+--------+---------+---------+-----+-----+----+----+----------+----------+-------+-------+-----------+-----------+----------+---------+----------+----------+------------+------------+------------+------------+------------+---------------+------------+----------------+------------+----------+----------+----------+----------+-----------+----------------+----------------+--------------+----------+-----+\n",
            "only showing top 20 rows\n",
            "\n"
          ]
        }
      ]
    },
    {
      "cell_type": "code",
      "source": [
        "atck = spark.sql('select attack_cat,state,proto, count(*) as total from hiveunsw where attack_cat != \"Normal\" group by attack_cat,proto,state order by total desc Limit 50')"
      ],
      "metadata": {
        "id": "FaRuO7SMRW9k"
      },
      "execution_count": null,
      "outputs": []
    },
    {
      "cell_type": "markdown",
      "source": [
        "## This shows:\n",
        "\n",
        "* FIN and Tcp is the most used state and protocal when anomaly attack occur\n",
        "* INT and UDP is the most used attack tho where generic attack being done thorugh it"
      ],
      "metadata": {
        "id": "rYm2cU2eVySt"
      }
    },
    {
      "cell_type": "code",
      "source": [
        "atck.show()"
      ],
      "metadata": {
        "colab": {
          "base_uri": "https://localhost:8080/"
        },
        "id": "M9nramIhRHp5",
        "outputId": "718a0fe8-8d98-40e5-aac8-0a9e0e0a46fe"
      },
      "execution_count": null,
      "outputs": [
        {
          "output_type": "stream",
          "name": "stdout",
          "text": [
            "+---------------+-----+-----+------+\n",
            "|     attack_cat|state|proto| total|\n",
            "+---------------+-----+-----+------+\n",
            "|        Generic|  INT|  udp|210504|\n",
            "|       Exploits|  FIN|  tcp| 27317|\n",
            "|       Fuzzers |  FIN|  tcp| 12371|\n",
            "|       Exploits|  INT| unas|  6532|\n",
            "|Reconnaissance |  FIN|  tcp|  5942|\n",
            "|            DoS|  INT| unas|  5246|\n",
            "|       Fuzzers |  INT|  udp|  4781|\n",
            "|Reconnaissance |  INT|  udp|  4173|\n",
            "|            DoS|  FIN|  tcp|  3237|\n",
            "|        Generic|  FIN|  tcp|  3108|\n",
            "|        Fuzzers|  FIN|  tcp|  3090|\n",
            "|       Exploits|  INT| ospf|  1094|\n",
            "| Reconnaissance|  FIN|  tcp|  1014|\n",
            "|        Fuzzers|  INT|  udp|   941|\n",
            "|       Analysis|  INT| unas|   926|\n",
            "|Reconnaissance |  INT| unas|   840|\n",
            "|       Fuzzers |  INT| unas|   720|\n",
            "|        Generic|  INT| unas|   720|\n",
            "| Reconnaissance|  INT|  udp|   715|\n",
            "|            DoS|  INT| ospf|   676|\n",
            "+---------------+-----+-----+------+\n",
            "only showing top 20 rows\n",
            "\n"
          ]
        }
      ]
    },
    {
      "cell_type": "code",
      "source": [
        "atck = atck.toPandas()"
      ],
      "metadata": {
        "id": "Kpyf6nziSj3w"
      },
      "execution_count": null,
      "outputs": []
    },
    {
      "cell_type": "code",
      "source": [
        "fig, ax = plt.subplots(figsize = (15,8))\n",
        "sns.barplot(x='attack_cat', y = 'total',  \n",
        "            data = atck, palette=color_palette_list, \n",
        "            label=\"Multi Label\",ax=ax, \n",
        "            ci=None)"
      ],
      "metadata": {
        "colab": {
          "base_uri": "https://localhost:8080/",
          "height": 520
        },
        "id": "h69w1QxrTF5I",
        "outputId": "f500f241-2a96-4974-9639-c54857f00a3f"
      },
      "execution_count": null,
      "outputs": [
        {
          "output_type": "execute_result",
          "data": {
            "text/plain": [
              "<matplotlib.axes._subplots.AxesSubplot at 0x7f388615da50>"
            ]
          },
          "metadata": {},
          "execution_count": 140
        },
        {
          "output_type": "display_data",
          "data": {
            "image/png": "[encoded data removed]",
            "text/plain": [
              "<Figure size 1080x576 with 1 Axes>"
            ]
          },
          "metadata": {
            "needs_background": "dark"
          }
        }
      ]
    },
    {
      "cell_type": "markdown",
      "source": [
        "## ct_flw_http_mthd\n",
        "\n",
        "Numerical feature with small discreate set of values.\n",
        "\n",
        "## No. of flows that has methods such as Get and Post in http service.\n",
        "\n",
        "* For normal almost all the values are 0 and few 1.\n",
        "* In attack data everything is 0 and there is very very litle no of 1's"
      ],
      "metadata": {
        "id": "wofigsmtUBgE"
      }
    },
    {
      "cell_type": "code",
      "source": [
        "ct_flw_http_mthd = spark.sql(\"select ct_flw_http_mthd, Label  as total from hiveunsw\")"
      ],
      "metadata": {
        "id": "ZJ27cEekUw_r"
      },
      "execution_count": null,
      "outputs": []
    },
    {
      "cell_type": "code",
      "source": [
        "ct_flw_http_mthd = ct_flw_http_mthd.toPandas()"
      ],
      "metadata": {
        "id": "0pW0x2fXUUZV"
      },
      "execution_count": null,
      "outputs": []
    },
    {
      "cell_type": "code",
      "source": [
        "fig, ax = plt.subplots(figsize = (15,8))\n",
        "sns.countplot(x='ct_flw_http_mthd', hue = 'total',  \n",
        "            data = ct_flw_http_mthd, palette=color_palette_list,ax=ax)"
      ],
      "metadata": {
        "colab": {
          "base_uri": "https://localhost:8080/",
          "height": 533
        },
        "id": "c3PSJ25OUY2X",
        "outputId": "0e1735e5-759b-413f-e77c-51447d2053eb"
      },
      "execution_count": null,
      "outputs": [
        {
          "output_type": "execute_result",
          "data": {
            "text/plain": [
              "<matplotlib.axes._subplots.AxesSubplot at 0x7f38910a6c90>"
            ]
          },
          "metadata": {},
          "execution_count": 157
        },
        {
          "output_type": "display_data",
          "data": {
            "image/png": "[encoded data removed]",
            "text/plain": [
              "<Figure size 1080x576 with 1 Axes>"
            ]
          },
          "metadata": {
            "needs_background": "dark"
          }
        }
      ]
    },
    {
      "cell_type": "code",
      "source": [
        "import seaborn as sns"
      ],
      "metadata": {
        "id": "acUmqWwed6W7"
      },
      "execution_count": null,
      "outputs": []
    },
    {
      "cell_type": "markdown",
      "source": [
        "## ct_srv_src\n",
        "No. of connections that contain the same service and source address \n",
        "\n",
        "\n"
      ],
      "metadata": {
        "id": "fnujY1zIVlLn"
      }
    },
    {
      "cell_type": "code",
      "source": [
        "def dis_plot(col, label):\n",
        "  sns.displot(col, label=label)"
      ],
      "metadata": {
        "id": "wsViVWqbXoc5"
      },
      "execution_count": null,
      "outputs": []
    },
    {
      "cell_type": "code",
      "source": [
        "ct_srv_src = spark.sql(\"select ct_srv_src,Label from hiveunsw\")"
      ],
      "metadata": {
        "id": "fNMHpYkcXh8x"
      },
      "execution_count": null,
      "outputs": []
    },
    {
      "cell_type": "code",
      "source": [
        "ct_srv_src = ct_srv_src.toPandas()"
      ],
      "metadata": {
        "id": "8i9rehxui0y5"
      },
      "execution_count": null,
      "outputs": []
    },
    {
      "cell_type": "code",
      "source": [
        "ct_srv_src_normal = ct_srv_src[ct_srv_src[\"Label\"] == 0]\n",
        "ct_srv_src_attack = ct_srv_src[ct_srv_src[\"Label\"] == 1]"
      ],
      "metadata": {
        "id": "VgdXZcpVjuRl"
      },
      "execution_count": null,
      "outputs": []
    },
    {
      "cell_type": "markdown",
      "source": [
        "## For normal most of the values are from 0 to 15.\n"
      ],
      "metadata": {
        "id": "0I_P4ftykWnD"
      }
    },
    {
      "cell_type": "code",
      "source": [
        "dis_plot(ct_srv_src_normal['ct_srv_src'],'normal')"
      ],
      "metadata": {
        "colab": {
          "base_uri": "https://localhost:8080/",
          "height": 369
        },
        "id": "d1ngZLSAZ8mK",
        "outputId": "49e14073-57fa-4958-9748-96323d7df2a7"
      },
      "execution_count": null,
      "outputs": [
        {
          "output_type": "display_data",
          "data": {
            "image/png": "[encoded data removed]",
            "text/plain": [
              "<Figure size 360x360 with 1 Axes>"
            ]
          },
          "metadata": {
            "needs_background": "light"
          }
        }
      ]
    },
    {
      "cell_type": "markdown",
      "source": [
        "## For anomaly most of the values are from 0 to 10 with more distributed between 25 to 35"
      ],
      "metadata": {
        "id": "ojxF9hHMkaGb"
      }
    },
    {
      "cell_type": "code",
      "source": [
        "dis_plot(ct_srv_src_attack['ct_srv_src'],'attack')"
      ],
      "metadata": {
        "colab": {
          "base_uri": "https://localhost:8080/",
          "height": 369
        },
        "id": "sXf8PwH_aDvn",
        "outputId": "127b327c-59e8-4991-b820-edbdcb297690"
      },
      "execution_count": null,
      "outputs": [
        {
          "output_type": "display_data",
          "data": {
            "image/png": "[encoded data removed]",
            "text/plain": [
              "<Figure size 360x360 with 1 Axes>"
            ]
          },
          "metadata": {
            "needs_background": "light"
          }
        }
      ]
    },
    {
      "cell_type": "markdown",
      "source": [
        "## swin\n",
        "\n",
        "Source TCP window advertisement\n",
        "\n",
        "* 22 Unique Features"
      ],
      "metadata": {
        "id": "4crLMhyVkx50"
      }
    },
    {
      "cell_type": "code",
      "source": [
        "swin = spark.sql(\"select swin,Label from hiveunsw\")"
      ],
      "metadata": {
        "id": "fly1ROqdk1vN"
      },
      "execution_count": null,
      "outputs": []
    },
    {
      "cell_type": "code",
      "source": [
        "swin_ = swin.toPandas()"
      ],
      "metadata": {
        "id": "o-3XWLo2miiX"
      },
      "execution_count": null,
      "outputs": []
    },
    {
      "cell_type": "markdown",
      "source": [
        "* Most of the values of this feature are just 0 and 255\n",
        "* Normal cat data has most of its values 255\n",
        "* Attack act has large no of 0 and small no of 255, just the inverse of normal cat.\n",
        "\n",
        "\n"
      ],
      "metadata": {
        "id": "RRerPPqNpn0p"
      }
    },
    {
      "cell_type": "code",
      "source": [
        "fig, ax = plt.subplots(figsize = (15,8))\n",
        "sns.countplot(x='swin', hue = 'Label',  \n",
        "            data = swin_, palette=color_palette_list,ax=ax)"
      ],
      "metadata": {
        "colab": {
          "base_uri": "https://localhost:8080/",
          "height": 525
        },
        "outputId": "fa8e4cbc-4134-4589-e814-21a9b6dc79ff",
        "id": "Zn3MK4FJpXgP"
      },
      "execution_count": null,
      "outputs": [
        {
          "output_type": "execute_result",
          "data": {
            "text/plain": [
              "<matplotlib.axes._subplots.AxesSubplot at 0x7fd65429c590>"
            ]
          },
          "metadata": {},
          "execution_count": 21
        },
        {
          "output_type": "display_data",
          "data": {
            "image/png": "[encoded data removed]",
            "text/plain": [
              "<Figure size 1080x576 with 1 Axes>"
            ]
          },
          "metadata": {
            "needs_background": "light"
          }
        }
      ]
    },
    {
      "cell_type": "markdown",
      "source": [
        "## State (The state and its dependent protocol)"
      ],
      "metadata": {
        "id": "ObFppjdeujeH"
      }
    },
    {
      "cell_type": "code",
      "source": [
        "state = spark.sql(\"select state,Label from hiveunsw\")"
      ],
      "metadata": {
        "id": "VfkyqpT7ulNR"
      },
      "execution_count": null,
      "outputs": []
    },
    {
      "cell_type": "code",
      "source": [
        "state_ = state.toPandas()"
      ],
      "metadata": {
        "id": "c6gG3zRMutzV"
      },
      "execution_count": null,
      "outputs": []
    },
    {
      "cell_type": "code",
      "source": [
        "state_['state'].value_counts()"
      ],
      "metadata": {
        "colab": {
          "base_uri": "https://localhost:8080/"
        },
        "id": "AqIH9aeAuzr_",
        "outputId": "c9342276-4483-4833-8225-585a172c0a33"
      },
      "execution_count": null,
      "outputs": [
        {
          "output_type": "execute_result",
          "data": {
            "text/plain": [
              "FIN    1478689\n",
              "CON     560588\n",
              "INT     490469\n",
              "REQ       9043\n",
              "RST        528\n",
              "CLO        161\n",
              "ECO         96\n",
              "URH         54\n",
              "ACC         43\n",
              "PAR         26\n",
              "ECR          8\n",
              "TST          8\n",
              "URN          7\n",
              "MAS          7\n",
              "no           7\n",
              "TXD          5\n",
              "Name: state, dtype: int64"
            ]
          },
          "metadata": {},
          "execution_count": 26
        }
      ]
    },
    {
      "cell_type": "markdown",
      "source": [
        "## State\n",
        "\n",
        "* For non-attacks \"fin\" is very frequent then \"cons\" almost half of \"fin\" and few \"int\" also.\n",
        "* In attack \"int\" is higher than normal cat values. That could be really important feature to detect. There are very few \"fin\""
      ],
      "metadata": {
        "id": "uR6laITGvHrG"
      }
    },
    {
      "cell_type": "code",
      "source": [
        "fig, ax = plt.subplots(figsize = (15,8))\n",
        "sns.countplot(x='state', hue = 'Label',  \n",
        "            data = state_, palette=color_palette_list,ax=ax)"
      ],
      "metadata": {
        "colab": {
          "base_uri": "https://localhost:8080/",
          "height": 525
        },
        "id": "nSTfTqZZuwzF",
        "outputId": "f4222eb9-ba23-4c57-a42d-711cc832c8b1"
      },
      "execution_count": null,
      "outputs": [
        {
          "output_type": "execute_result",
          "data": {
            "text/plain": [
              "<matplotlib.axes._subplots.AxesSubplot at 0x7fd6589fb5d0>"
            ]
          },
          "metadata": {},
          "execution_count": 30
        },
        {
          "output_type": "display_data",
          "data": {
            "image/png": "[encoded data removed]",
            "text/plain": [
              "<Figure size 1080x576 with 1 Axes>"
            ]
          },
          "metadata": {
            "needs_background": "light"
          }
        }
      ]
    },
    {
      "cell_type": "markdown",
      "metadata": {
        "id": "1ZaeuIDhSnq1"
      },
      "source": [
        "## Apply Person Correlation to find the highly correlated features\n",
        "\n",
        "The correlation coefficient has a range of values from -1 to 1.\n",
        "\n",
        "* A number near 0 indicates a lesser connection (precise 0 indicates no association). \n",
        "* A value near 1 indicates a stronger positive correlation. \n",
        "\n",
        "* A number nearer to -1 denotes a more pronounced negative correlation.\n",
        "\n",
        "Formula is as follows: \n",
        "\n",
        "![39170Formula.JPG](data:image/jpeg;base64,/9j/4AAQSkZJRgABAQEAYABgAAD/4RDgRXhpZgAATU0AKgAAAAgABAE7AAIAAAAHAAAISodpAAQAAAABAAAIUpydAAEAAAAOAAAQyuocAAcAAAgMAAAAPgAAAAAc6gAAAAgAAAAAAAAAAAAAAAAAAAAAAAAAAAAAAAAAAAAAAAAAAAAAAAAAAAAAAAAAAAAAAAAAAAAAAAAAAAAAAAAAAAAAAAAAAAAAAAAAAAAAAAAAAAAAAAAAAAAAAAAAAAAAAAAAAAAAAAAAAAAAAAAAAAAAAAAAAAAAAAAAAAAAAAAAAAAAAAAAAAAAAAAAAAAAAAAAAAAAAAAAAAAAAAAAAAAAAAAAAAAAAAAAAAAAAAAAAAAAAAAAAAAAAAAAAAAAAAAAAAAAAAAAAAAAAAAAAAAAAAAAAAAAAAAAAAAAAAAAAAAAAAAAAAAAAAAAAAAAAAAAAAAAAAAAAAAAAAAAAAAAAAAAAAAAAAAAAAAAAAAAAAAAAAAAAAAAAAAAAAAAAAAAAAAAAAAAAAAAAAAAAAAAAAAAAAAAAAAAAAAAAAAAAAAAAAAAAAAAAAAAAAAAAAAAAAAAAAAAAAAAAAAAAAAAAAAAAAAAAAAAAAAAAAAAAAAAAAAAAAAAAAAAAAAAAAAAAAAAAAAAAAAAAAAAAAAAAAAAAAAAAAAAAAAAAAAAAAAAAAAAAAAAAAAAAAAAAAAAAAAAAAAAAAAAAAAAAAAAAAAAAAAAAAAAAAAAAAAAAAAAAAAAAAAAAAAAAAAAAAAAAAAAAAAAAAAAAAAAAAAAAAAAAAAAAAAAAAAAAAAAAAAAAAAAAAAAAAAAAAAAAAAAAAAAAAAAAAAAAAAAAAAAAAAAAAAAAAAAAAAAAAAAAAAAAAAAAAAAAAAAAAAAAAAAAAAAAAAAAAAAAAAAAAAAAAAAAAAAAAAAAAAAAAAAAAAAAAAAAAAAAAAAAAAAAAAAAAAAAAAAAAAAAAAAAAAAAAAAAAAAAAAAAAAAAAAAAAAAAAAAAAAAAAAAAAAAAAAAAAAAAAAAAAAAAAAAAAAAAAAAAAAAAAAAAAAAAAAAAAAAAAAAAAAAAAAAAAAAAAAAAAAAAAAAAAAAAAAAAAAAAAAAAAAAAAAAAAAAAAAAAAAAAAAAAAAAAAAAAAAAAAAAAAAAAAAAAAAAAAAAAAAAAAAAAAAAAAAAAAAAAAAAAAAAAAAAAAAAAAAAAAAAAAAAAAAAAAAAAAAAAAAAAAAAAAAAAAAAAAAAAAAAAAAAAAAAAAAAAAAAAAAAAAAAAAAAAAAAAAAAAAAAAAAAAAAAAAAAAAAAAAAAAAAAAAAAAAAAAAAAAAAAAAAAAAAAAAAAAAAAAAAAAAAAAAAAAAAAAAAAAAAAAAAAAAAAAAAAAAAAAAAAAAAAAAAAAAAAAAAAAAAAAAAAAAAAAAAAAAAAAAAAAAAAAAAAAAAAAAAAAAAAAAAAAAAAAAAAAAAAAAAAAAAAAAAAAAAAAAAAAAAAAAAAAAAAAAAAAAAAAAAAAAAAAAAAAAAAAAAAAAAAAAAAAAAAAAAAAAAAAAAAAAAAAAAAAAAAAAAAAAAAAAAAAAAAAAAAAAAAAAAAAAAAAAAAAAAAAAAAAAAAAAAAAAAAAAAAAAAAAAAAAAAAAAAAAAAAAAAAAAAAAAAAAAAAAAAAAAAAAAAAAAAAAAAAAAAAAAAAAAAAAAAAAAAAAAAAAAAAAAAAAAAAAAAAAAAAAAAAAAAAAAAAAAAAAAAAAAAAAAAAAAAAAAAAAAAAAAAAAAAAAAAAAAAAAAAAAAAAAAAAAAAAAAAAAAAAAAAAAAAAAAAAAAAAAAAAAAAAAAAAAAAAAAAAAAAAAAAAAAAAAAAAAAAAAAAAAAAAAAAAAAAAAAAAAAAAAAAAAAAAAAAAAAAAAAAAAAAAAAAAAAAAAAAAAAAAAAAAAAAAAAAAAAAAAAAAAAAAAAAAAAAAAAAAAAAAAAAAAAAAAAAAAAAAAAAAAAAAAAAAAAAAAAAAAAAAAAAAAAAAAAAAAAAAAAAAAAAAAAAAAAAAAAAAAAAAAAAAAAAAAAAAAAAAAAAAAAAAAAAAAAAAAAAAAAAAAAAAAAAAAAAAAAAAAAAAAAAAAAAAAAAAAAAAAAAAAAAAAAAAAAAAAAAAAAAAAAAAAAAAAAAAAAAAAAAAAAAAAAAAAAAAAAAAAAAAAAAAAAAAAAAAAAAAAAAAAAAAAAAAAAAAAAAAAAAAAAAAAAAAAAAAAAAAAAAAAAAAAAAAAAAAAAAAAAAAAAAAAAAAAAAAAAAAAAAAAAAAAAAAAAAAAAAAAAAAAAAAAAAAAAAAAAAAAAAAAAAAAAAAAAAAAAAAAAAAAAAAAAAAAAAAAAAAAAAAAAAAAAAAAAAAAAAAAAAAAAAAAAAAAAAAAAAAAAAAAAAAAAAAAAAAAAAAAAAAAAAAAAAAAAAAAAAAAAAAAAAAAAAAAAAAAAAAAAAAAAAAAAAAAAAAAAAAAAAAAAAAAAAAAAAAAAAAAAAAAAAAAAAAAAAAAAAAAAAAAAAAAAAAAAAAAAAAAAAAAAAAAAAAAAAAAAAAAAAAAAAAAAAAAAAAAAAAAAAAAAAAAAAAAAAAAAAAAAAAAAAAAAAAAAAAAAAAAAAAAAAAAAAAAAAAAAAAAAAAAAAAAAAAAAAAAAAAAAAAAAAAAAAAAAAAAAAAAAAAAAAAAAAAAAAAAAAAAAAAAAAAAAAAAAAAAAAAAAAAAAAAAAAAAAAAAAAAAAAAAAAAAAAAAAAAAAAAAAAAAAAAAAAAAAAAAAAAAAAAAAAAAAAAAAAAAAAAAAAAAAAAAAAAAAAAAAAAAAAAAAAAAAAAAAAAAAAAAAAAAAAAAAAAAAAAAAAAAAAAAEFwdXJ2YQAAAAWQAwACAAAAFAAAEKCQBAACAAAAFAAAELSSkQACAAAAAzE4AACSkgACAAAAAzE4AADqHAAHAAAIDAAACJQAAAAAHOoAAAAIAAAAAAAAAAAAAAAAAAAAAAAAAAAAAAAAAAAAAAAAAAAAAAAAAAAAAAAAAAAAAAAAAAAAAAAAAAAAAAAAAAAAAAAAAAAAAAAAAAAAAAAAAAAAAAAAAAAAAAAAAAAAAAAAAAAAAAAAAAAAAAAAAAAAAAAAAAAAAAAAAAAAAAAAAAAAAAAAAAAAAAAAAAAAAAAAAAAAAAAAAAAAAAAAAAAAAAAAAAAAAAAAAAAAAAAAAAAAAAAAAAAAAAAAAAAAAAAAAAAAAAAAAAAAAAAAAAAAAAAAAAAAAAAAAAAAAAAAAAAAAAAAAAAAAAAAAAAAAAAAAAAAAAAAAAAAAAAAAAAAAAAAAAAAAAAAAAAAAAAAAAAAAAAAAAAAAAAAAAAAAAAAAAAAAAAAAAAAAAAAAAAAAAAAAAAAAAAAAAAAAAAAAAAAAAAAAAAAAAAAAAAAAAAAAAAAAAAAAAAAAAAAAAAAAAAAAAAAAAAAAAAAAAAAAAAAAAAAAAAAAAAAAAAAAAAAAAAAAAAAAAAAAAAAAAAAAAAAAAAAAAAAAAAAAAAAAAAAAAAAAAAAAAAAAAAAAAAAAAAAAAAAAAAAAAAAAAAAAAAAAAAAAAAAAAAAAAAAAAAAAAAAAAAAAAAAAAAAAAAAAAAAAAAAAAAAAAAAAAAAAAAAAAAAAAAAAAAAAAAAAAAAAAAAAAAAAAAAAAAAAAAAAAAAAAAAAAAAAAAAAAAAAAAAAAAAAAAAAAAAAAAAAAAAAAAAAAAAAAAAAAAAAAAAAAAAAAAAAAAAAAAAAAAAAAAAAAAAAAAAAAAAAAAAAAAAAAAAAAAAAAAAAAAAAAAAAAAAAAAAAAAAAAAAAAAAAAAAAAAAAAAAAAAAAAAAAAAAAAAAAAAAAAAAAAAAAAAAAAAAAAAAAAAAAAAAAAAAAAAAAAAAAAAAAAAAAAAAAAAAAAAAAAAAAAAAAAAAAAAAAAAAAAAAAAAAAAAAAAAAAAAAAAAAAAAAAAAAAAAAAAAAAAAAAAAAAAAAAAAAAAAAAAAAAAAAAAAAAAAAAAAAAAAAAAAAAAAAAAAAAAAAAAAAAAAAAAAAAAAAAAAAAAAAAAAAAAAAAAAAAAAAAAAAAAAAAAAAAAAAAAAAAAAAAAAAAAAAAAAAAAAAAAAAAAAAAAAAAAAAAAAAAAAAAAAAAAAAAAAAAAAAAAAAAAAAAAAAAAAAAAAAAAAAAAAAAAAAAAAAAAAAAAAAAAAAAAAAAAAAAAAAAAAAAAAAAAAAAAAAAAAAAAAAAAAAAAAAAAAAAAAAAAAAAAAAAAAAAAAAAAAAAAAAAAAAAAAAAAAAAAAAAAAAAAAAAAAAAAAAAAAAAAAAAAAAAAAAAAAAAAAAAAAAAAAAAAAAAAAAAAAAAAAAAAAAAAAAAAAAAAAAAAAAAAAAAAAAAAAAAAAAAAAAAAAAAAAAAAAAAAAAAAAAAAAAAAAAAAAAAAAAAAAAAAAAAAAAAAAAAAAAAAAAAAAAAAAAAAAAAAAAAAAAAAAAAAAAAAAAAAAAAAAAAAAAAAAAAAAAAAAAAAAAAAAAAAAAAAAAAAAAAAAAAAAAAAAAAAAAAAAAAAAAAAAAAAAAAAAAAAAAAAAAAAAAAAAAAAAAAAAAAAAAAAAAAAAAAAAAAAAAAAAAAAAAAAAAAAAAAAAAAAAAAAAAAAAAAAAAAAAAAAAAAAAAAAAAAAAAAAAAAAAAAAAAAAAAAAAAAAAAAAAAAAAAAAAAAAAAAAAAAAAAAAAAAAAAAAAAAAAAAAAAAAAAAAAAAAAAAAAAAAAAAAAAAAAAAAAAAAAAAAAAAAAAAAAAAAAAAAAAAAAAAAAAAAAAAAAAAAAAAAAAAAAAAAAAAAAAAAAAAAAAAAAAAAAAAAAAAAAAAAAAAAAAAAAAAAAAAAAAAAAAAAAAAAAAAAAAAAAAAAAAAAAAAAAAAAAAAAAAAAAAAAAAAAAAAAAAAAAAAAAAAAAAAAAAAAAAAAAAAAAAAAAAAAAAAAAAAAAAAAAAAAAAAAAAAAAAAAAAAAAAAAAAAAAAAAAAAAAAAAAAAAAAAAAAAAAAAAAAAAAAAAAAAAAAAAAAAAAAAAAAAAAAAAAAAAAAAAAAAAAAAAAAAAAAAAAAAAAAAAAAAAAAAAAAAAAAAAAAAAAAAAAAAAAAAAAAAAAAAAAAAAAAAAAAAAAAAAAAAAAAAAAAAAAAAAAAAAAAAAAAAAAAAAAAAAAAAAAAAAAAAAAAAAAAAAAAAAAAAAAAAAAAAAAAAAAAAAAAAAAAAAAAAAAAAAAAAAAAAAAAAAAAAAAAAAAAAAAAAAAAAAAAAAAAAAAAAAAAAAAAAAAAAAAAAAAAAAAAAAAAAAAAAAAAAAAAAAAAAAAAAAAAAAAAAAAAAAAAAAAAAAAAAAAAAAAAAAAAAAAAAAAAAAAAAAAAAAAAAAAAAAAAAAAAAAAAAAAAAAAAAAAAAAAAAAAAAAAAAAAAAAAAAAAAAAAAAAAAAAAAAAAAAAAAAAAAAAAAAAAAAAAAAAAAAAAAAAAAAAAAAAAAAAAAAAAAAAAAAAAAAAAAAAAAAAAAAAAAAAAAAAAAAAAAAAAAAAAAAAAAAAAAAAAAAAAAAAAAAAAAAAAAAAAAAAAAAAAAAAAAAAAAAAAAAAAAAAAAAAAAAAAAAAAAAAAAAAAAAAAAAAAAAAAAAAAAAAAAAAAAAAAAAAAAAAAAAAAAAAAAAAAAAAAAAAAAAAAAAAAAAAAAAAAAAAAyMDIwOjExOjI4IDIxOjQ2OjMwADIwMjA6MTE6MjggMjE6NDY6MzAAAABBAHAAdQByAHYAYQAAAP/hCxlodHRwOi8vbnMuYWRvYmUuY29tL3hhcC8xLjAvADw/eHBhY2tldCBiZWdpbj0n77u/JyBpZD0nVzVNME1wQ2VoaUh6cmVTek5UY3prYzlkJz8+DQo8eDp4bXBtZXRhIHhtbG5zOng9ImFkb2JlOm5zOm1ldGEvIj48cmRmOlJERiB4bWxuczpyZGY9Imh0dHA6Ly93d3cudzMub3JnLzE5OTkvMDIvMjItcmRmLXN5bnRheC1ucyMiPjxyZGY6RGVzY3JpcHRpb24gcmRmOmFib3V0PSJ1dWlkOmZhZjViZGQ1LWJhM2QtMTFkYS1hZDMxLWQzM2Q3NTE4MmYxYiIgeG1sbnM6ZGM9Imh0dHA6Ly9wdXJsLm9yZy9kYy9lbGVtZW50cy8xLjEvIi8+PHJkZjpEZXNjcmlwdGlvbiByZGY6YWJvdXQ9InV1aWQ6ZmFmNWJkZDUtYmEzZC0xMWRhLWFkMzEtZDMzZDc1MTgyZjFiIiB4bWxuczp4bXA9Imh0dHA6Ly9ucy5hZG9iZS5jb20veGFwLzEuMC8iPjx4bXA6Q3JlYXRlRGF0ZT4yMDIwLTExLTI4VDIxOjQ2OjMwLjE4MjwveG1wOkNyZWF0ZURhdGU+PC9yZGY6RGVzY3JpcHRpb24+PHJkZjpEZXNjcmlwdGlvbiByZGY6YWJvdXQ9InV1aWQ6ZmFmNWJkZDUtYmEzZC0xMWRhLWFkMzEtZDMzZDc1MTgyZjFiIiB4bWxuczpkYz0iaHR0cDovL3B1cmwub3JnL2RjL2VsZW1lbnRzLzEuMS8iPjxkYzpjcmVhdG9yPjxyZGY6U2VxIHhtbG5zOnJkZj0iaHR0cDovL3d3dy53My5vcmcvMTk5OS8wMi8yMi1yZGYtc3ludGF4LW5zIyI+PHJkZjpsaT5BcHVydmE8L3JkZjpsaT48L3JkZjpTZXE+DQoJCQk8L2RjOmNyZWF0b3I+PC9yZGY6RGVzY3JpcHRpb24+PC9yZGY6UkRGPjwveDp4bXBtZXRhPg0KICAgICAgICAgICAgICAgICAgICAgICAgICAgICAgICAgICAgICAgICAgICAgICAgICAgICAgICAgICAgICAgICAgICAgICAgICAgICAgICAgICAgICAgICAgICAgICAgICAgIAogICAgICAgICAgICAgICAgICAgICAgICAgICAgICAgICAgICAgICAgICAgICAgICAgICAgICAgICAgICAgICAgICAgICAgICAgICAgICAgICAgICAgICAgICAgICAgICAgICAgCiAgICAgICAgICAgICAgICAgICAgICAgICAgICAgICAgICAgICAgICAgICAgICAgICAgICAgICAgICAgICAgICAgICAgICAgICAgICAgICAgICAgICAgICAgICAgICAgICAgICAKICAgICAgICAgICAgICAgICAgICAgICAgICAgICAgICAgICAgICAgICAgICAgICAgICAgICAgICAgICAgICAgICAgICAgICAgICAgICAgICAgICAgICAgICAgICAgICAgICAgIAogICAgICAgICAgICAgICAgICAgICAgICAgICAgICAgICAgICAgICAgICAgICAgICAgICAgICAgICAgICAgICAgICAgICAgICAgICAgICAgICAgICAgICAgICAgICAgICAgICAgCiAgICAgICAgICAgICAgICAgICAgICAgICAgICAgICAgICAgICAgICAgICAgICAgICAgICAgICAgICAgICAgICAgICAgICAgICAgICAgICAgICAgICAgICAgICAgICAgICAgICAKICAgICAgICAgICAgICAgICAgICAgICAgICAgICAgICAgICAgICAgICAgICAgICAgICAgICAgICAgICAgICAgICAgICAgICAgICAgICAgICAgICAgICAgICAgICAgICAgICAgIAogICAgICAgICAgICAgICAgICAgICAgICAgICAgICAgICAgICAgICAgICAgICAgICAgICAgICAgICAgICAgICAgICAgICAgICAgICAgICAgICAgICAgICAgICAgICAgICAgICAgCiAgICAgICAgICAgICAgICAgICAgICAgICAgICAgICAgICAgICAgICAgICAgICAgICAgICAgICAgICAgICAgICAgICAgICAgICAgICAgICAgICAgICAgICAgICAgICAgICAgICAKICAgICAgICAgICAgICAgICAgICAgICAgICAgICAgICAgICAgICAgICAgICAgICAgICAgICAgICAgICAgICAgICAgICAgICAgICAgICAgICAgICAgICAgICAgICAgICAgICAgIAogICAgICAgICAgICAgICAgICAgICAgICAgICAgICAgICAgICAgICAgICAgICAgICAgICAgICAgICAgICAgICAgICAgICAgICAgICAgICAgICAgICAgICAgICAgICAgICAgICAgCiAgICAgICAgICAgICAgICAgICAgICAgICAgICAgICAgICAgICAgICAgICAgICAgICAgICAgICAgICAgICAgICAgICAgICAgICAgICAgICAgICAgICAgICAgICAgICAgICAgICAKICAgICAgICAgICAgICAgICAgICAgICAgICAgICAgICAgICAgICAgICAgICAgICAgICAgICAgICAgICAgICAgICAgICAgICAgICAgICAgICAgICAgICAgICAgICAgICAgICAgIAogICAgICAgICAgICAgICAgICAgICAgICAgICAgICAgICAgICAgICAgICAgICAgICAgICAgICAgICAgICAgICAgICAgICAgICAgICAgICAgICAgICAgICAgICAgICAgICAgICAgCiAgICAgICAgICAgICAgICAgICAgICAgICAgICAgICAgICAgICAgICAgICAgICAgICAgICAgICAgICAgICAgICAgICAgICAgICAgICAgICAgICAgICAgICAgICAgICAgICAgICAKICAgICAgICAgICAgICAgICAgICAgICAgICAgICAgICAgICAgICAgICAgICAgICAgICAgICAgICAgICAgICAgICAgICAgICAgICAgICAgICAgICAgICAgICAgICAgICAgICAgIAogICAgICAgICAgICAgICAgICAgICAgICAgICAgICAgICAgICAgICAgICAgICAgICAgICAgICAgICAgICAgICAgICAgICAgICAgICAgICAgICAgICAgICAgICAgICAgICAgICAgCiAgICAgICAgICAgICAgICAgICAgICAgICAgICAgICAgICAgICAgICAgICAgICAgICAgICAgICAgICAgICAgICAgICAgICAgICAgICAgICAgICAgICAgICAgICAgICAgICAgICAKICAgICAgICAgICAgICAgICAgICAgICAgICAgICAgICAgICAgICAgICAgICAgICAgICAgICAgICAgICAgICAgICAgICAgICAgICAgICAgICAgICAgICAgICAgICAgICAgICAgIAogICAgICAgICAgICAgICAgICAgICAgICAgICAgICAgICAgICAgICAgICAgICAgICAgICAgICAgICAgICAgICAgICAgICAgICAgICAgICAgICAgICAgICAgICAgICAgICAgICAgCiAgICAgICAgICAgICAgICAgICAgICAgICAgICA8P3hwYWNrZXQgZW5kPSd3Jz8+/9sAQwAHBQUGBQQHBgUGCAcHCAoRCwoJCQoVDxAMERgVGhkYFRgXGx4nIRsdJR0XGCIuIiUoKSssKxogLzMvKjInKisq/9sAQwEHCAgKCQoUCwsUKhwYHCoqKioqKioqKioqKioqKioqKioqKioqKioqKioqKioqKioqKioqKioqKioqKioqKioq/8AAEQgBUQKPAwEiAAIRAQMRAf/EAB8AAAEFAQEBAQEBAAAAAAAAAAABAgMEBQYHCAkKC//EALUQAAIBAwMCBAMFBQQEAAABfQECAwAEEQUSITFBBhNRYQcicRQygZGhCCNCscEVUtHwJDNicoIJChYXGBkaJSYnKCkqNDU2Nzg5OkNERUZHSElKU1RVVldYWVpjZGVmZ2hpanN0dXZ3eHl6g4SFhoeIiYqSk5SVlpeYmZqio6Slpqeoqaqys7S1tre4ubrCw8TFxsfIycrS09TV1tfY2drh4uPk5ebn6Onq8fLz9PX29/j5+v/EAB8BAAMBAQEBAQEBAQEAAAAAAAABAgMEBQYHCAkKC//EALURAAIBAgQEAwQHBQQEAAECdwABAgMRBAUhMQYSQVEHYXETIjKBCBRCkaGxwQkjM1LwFWJy0QoWJDThJfEXGBkaJicoKSo1Njc4OTpDREVGR0hJSlNUVVZXWFlaY2RlZmdoaWpzdHV2d3h5eoKDhIWGh4iJipKTlJWWl5iZmqKjpKWmp6ipqrKztLW2t7i5usLDxMXGx8jJytLT1NXW19jZ2uLj5OXm5+jp6vLz9PX29/j5+v/aAAwDAQACEQMRAD8A+kaKKKACiiigAooooAKKKKACiiigAooooAKKKKACiiigAooooAKKKKACiiigAooooAKKKKACiiigAooooAKKKKACiiigAooooAKKKKACiiigAooooAKKKKACiiigAooooAKKKKACiiigAooooAKKKKACiiigAooooAKKKKACiiigAooooAKKKKACiiigAooooAKKKKACiiigAooooAKKKKACiiigAooooAKKKKACiiigAooooAKKKKACiiigAooooAKKKKACiiigAooooAiu5/stlPcCJ5jFGz+XGMs+BnAHcmvPdA+M+l+KJp4tB0bVryW34mRIOY+ccjPFej18/wDxZ8K6h8O/GNv8TfBcRSJJB/altHwrAnBYj+63Q+h5oA9Nn8eajCpKeCdflH+xCv8AjWZd/Fi7sYTLc/D/AMVLGOrLZbsfXBrsPC/iSw8XeG7PWtJk3211GGAJ5Q91PuDxWtQB5n4L+Ofh7xp4sXw9bWd9Y3ro7ILpAuWXkrwc5xk/hXplcH43+HdvquqWPibw9aW8HiTT7qKVJ87PPjDAOjkdcoWwTXdqSVBYYbHIz0oASWVIIXlmdUjQFmZjgADvWV4a8R23inTH1HToplszM0cE0i7RcKpx5i/7JOcHvjPSuI+LmqXN/faF4E0yV4ZvEFxi7kTgpaqfn/PpXpFnZwafYwWdnEsNvbxrFFGvRVUYA/IUATUVE11bpMInnjWVuiFwGP4Uv2mDzvJ86Pzf7m4bvyoAkooooAKKKKACiiigAoork/FNn4pl1FJtE8U2Wj2ZQL5VxaJIWfPJ3N+HFAHWVieJ/FVl4Ttba71ZJVs5phDJcouUt89Gf0XPeuYbSPiFGUMnj3TVD/d3adGN30ruNS0621bS7nT7+JZre5jMciMMhgRigCxHIksayRMro4DKynIYHoQadXmPwX1G6tbXXPBepMzXHhm9METOclrd8tFn8M/hivTqAM/XNbsPDujT6pq0whtoBlmxkk9AAO5J4Aqxp9097p1vcyW0lq00Ycwy43x5GcHHevNdYk/4TP47WXh+Zt2meG7YajPD/DLOTiPPrtznFeoswRSzEKoGSScAUALRTIpo5498MiSJ/eRgR+lO3qXKBhuAyVzyBQAtFFFABRRRQAUUUUAFFZviCLUJdFmXSNRi0y6423U0YdU9cg8VyMehfEWZA8XjyxdD0ZdMjINAHc3tw9pYXFxHBJcvDEzrDF9+QgZ2j3PSqXh3xFp3inQ4dV0ibzLeXIIIw0bDgow7MDwQab4cttWs9MMHiHVYtUvVkJM8UIiAU9F2j0rgoZh4K+Ph06FRFpfiq2M4RchUuk+8cerUAep0UUUAFFFFABRRRQAUUUUAFFFFABRRRQAUUUUAFFFFABRRRQAUUUUAFFFFABRRRQAUUUUAFFFFABRRRQAUUUUAFFFFABRRRQAUUUUAFFFFABRRRQAUUUUAFFFFABUF7ZW2o2M1nfQpPbToY5YnGQ6kYINT1leJPEen+FdDm1TVpCsMQwqINzyueFRF7sTwBQB4d4Vi1f4LfGFfCvlzXvhrX5s2W07jET3x/s9G9ua+hq4rwVoOoXF5L4t8WR7dZvlxBak5XT4P4Yl/2u7Hua7WgAoqnqmrWOi2DXuqXKW1urKpds8sxAUADkkkgYFW1YMoZehGRxQB5FqTm5/au0eNzlbXRpSoPuD0/OvVdRN4NNuP7MWJrzy28gTEhN+OMkZ4zXmHi2AaL+0P4R1yY7bbULaXTtx6eaQdo/HIrvfGV1rNl4O1K48MW6XGqxwk28b8gt9O5x2oA8l+KPhm08IfB2fVdRka68WSzwsNV3sZBcNIGIjJPyqApAUY4ArRsfhdr8up+D9attVSKSEpd6zPMN1xdOSrEbsfdwNu0EAZrmvEkHjPxp4W8MpqOmXmoRaJeRXesSm1eB7glyNsUTgM+1c5OB14zXqttq2q+JvEunDQobzTdAscyXk11bNA902MJCiOA20E5YkDpgdaAN7xHqmo6RpiT6Po0msXDTxx/Z0mEW1WOC5Yg8Ac1rV5d4h1TxHB8UtB0u21R45r69eX7HEA0KWEY+ZnGMl2I9QBXqNAEdzOLa1lnZXcRIXKoMs2BnAHc1xv/Cz7P/oXfEX/AIAD/wCKrtqKAOJ/4WdZ/wDQueIv/AAf/FVteHvFUHiN51h07UrIwgE/brfy92fTk56VuUUAFee3fhKK5XW/EnxHjttQ8hJGtbYMzQWlugLAhTgFzjJbGeBivQjnBxye2a8Iub74j+JfD3izw3f2MkupalMYbRfs7Q29pbjduJlYBW3gBQFLHJ5wKAMnwV4H1/xt8F0vbXU1/tVrgpp81+DILa3VvupnO0nruwT7ivoHR7S40/Q7Gzvbpry4t7dI5bhxzKwUAsfcnmvLPDN5rcPwz0Xwf4a0zUtP1pYUt7y7uLVoo7If8tJQ7Da567Qu7JxXrsaeXGqFmfaANzdT7mgDyPw5m2/ak8VxITtutMgmcDplQqjNevV5L4CiGs/Hnx5r0Db7W28jT437M6oPMH4EfrXrVAHjvwqY3nxk+It9ISWW8EChuoUE4H6V3fjLR77W/wCz7bzkh0RJWm1UeYUeWNRkRjH8JOc8jiuK8E2x0P8AaG8aWErYGowR6hFn+LJGcfTNeieLdOutW8H6rp+nOI7q5tXjiYnGGI4oA81+ATzXdt4p1iBvs+hXOpsunWg4jiRBgsvoCCo+qmj4NXd74l8deN/FN3NLJbyXa2VqC5KBYy2QB2A+U/8AAjWDo/i64+Hn7Psmj3fh7VbfWLKGeKZZLV0iXfI2JfOI2EfOOASeOmOa6n4TIPA/wc0VbiFptQ1acyRWyMA0skmT1OBwiFifRTQB6jBeW108qW1xFM0LbJRG4Yo3ocdD7VNXIfDe90HWfD0+teHdMbThf3Uj3aP1eYHDNnJB+o4rr6AOd1/xjB4fv0tZtJ1a8Z4xIJLK2EiAZIwTuHPFZf8Aws6z/wChc8Rf+AA/+KrtqKAOMi+JdpLMkf8Awj/iBN7BdzWIAGe5+auzByKKKAOE+IOmS3kxvtbaM+F9LspLma2EpBubjnarrjBQADjPJY5HFc98CLm60/4OXWs6qStrJc3N5bxYwIoQPuj2yrY9K6/4paLqPiL4Y63pWjJ5l5cW+2OPIG/BBK5PqBXkvijx2fDX7PsPh630PVrS/a2SwmNzaPDHCzZ3YdgA5IDYC5684oA639n03eo+F9Y8RX9xNPJq2pSOpmcthF4GM9uf0qH42SGw8XfD7U48+ZFrATA6kcEiu6+HOhL4b+HWi6YAA0Nqpc46sRkk/nXFfEqIa58ZPAOiR/O1vcNqMqgZwiev1xQB63RRRQAUUUUAFFFFABRRRQAUUUUAFFFFABRRRQAUUUUAFFFFABRRRQAUUUUAFFFFABRRRQAUUUUAFFFFABVe+v7TTLOS71G5itbaIZeaZwiqPcnpViuW8ZaL/a0unz6hLEujaY7Xt3BIu7z2RcoCOmAeTnrQBqSeKdAi0hNVl1qwTT3OFumuUEbfRs4rQtrqC9tY7mzmjngkG5JI2DKw9QR1r57+DvgdfF3gjxDr/mGyvtUvLgabMRuWyDEbnRTwGJyCRzhRXsvgDwl/whHg210RryS+kiZ3luHzl2ZiSeenWgDpKKr38H2qwmhFxJa71I86JtrJ7g9q5f8A4RRv+hy1j/wLFAHYUVx//CKN/wBDlrH/AIFitHRNDOnX5mPiDUNRzGV8m5nDqOR82PXj9aAN+iisPxXr194e0kXemaDea5KZAptrMgOAf4ue1AG5RXmP/C1PE/8A0SvxF/30lH/C1PE//RK/EX/fSUAenUV5j/wtTxP/ANEr8Rf99JR/wtTxP/0SvxF/30lAHp1FeY/8LU8T/wDRK/EX/fSUf8LU8T/9Er8Rf99JQB6VcTx2trLcTttihQu7YzgAZJrwQ/FHS9V8btrfiPRtbmttPcrpNmli7InYzvxgue3oK7H/AIWn4n/6JX4i/wC+ko/4Wn4n/wCiV+If++koAZF8etAd8Po2vRj+8dOc/wAhUN78ftIgjJs/DfiC8fsq2LJ+rYqz/wALT8T/APRK/EP/AH0lH/C0/E//AESvxD/30lAHEaN4r8T/ABd+KmjWmo6JcaT4f0uVr94ZEYeayDCFiRgkMRgfWvoWvMf+Fp+J/wDolfiH/vpKP+FqeJ/+iV+Iv++koA6X4g+D/wDhM/DJs7ecWuoW0q3Nlckf6qZDlc+x6Gr3hPW59b0RX1K0kstTt28i+tpFxsmX7231U9VI4IIrjP8Ahanif/olfiL/AL6Sj/hafif/AKJX4i/76SgD06ivMf8Ahanif/olfiL/AL6Sj/hanif/AKJX4i/76SgDX1vwDcan44k1231LyUubJbKdGXLxxhtzeWf4dw4NdsqhVCqMADAHpXmX/C1PE/8A0SvxF/30lH/C1PE//RK/EX/fSUAenUV5j/wtTxP/ANEr8Rf99JR/wtTxP/0SvxF/30lAHp1FeY/8LU8T/wDRK/EX/fSUf8LU8T/9Er8Rf99JQB6dRXmP/C1PE/8A0SvxF/30lH/C1PE//RK/EX/fSUAenVzvjTXrrRdFEekWj3urXzfZ7KBRwZCPvMeiqvUk1yf/AAtTxP8A9Er8Rf8AfSUf8LT8T/8ARK/EX/fSUAdT4B8JL4N8Jw6a0gnvJHa4vZx/y2nc5dvpngewFdLXmP8AwtTxP/0SvxF/30lH/C1PE/8A0SvxF/30lAGr478PXy6zpXjHw7CZtU0csJrZB815bN9+MerY5HuKr/EjRtU8feArIeFbyeFZZoriRYmEUkkXUqCxADexx71S/wCFqeJ/+iV+Iv8AvpKP+Fp+J/8AolfiL/vpKAIL/wAJeJPH8WmaRr9o+h+GdP8ALaaCW4SW61BkAADlCVVeMnnJzXV/EFLuz+Guq/2BZGa9gtGjtI4ky0eRsLKP9lWY8dhXN/8AC1PE/wD0SvxF/wB9JR/wtPxP/wBEr8Rf99JQBt/DGKSy8LR6bDYvb6dYIkFrNKjJJdED95IVI+6WPB712deY/wDC0/E//RK/EX/fSUf8LU8T/wDRK/EX/fSUAenUV5j/AMLU8T/9Er8Rf99JR/wtTxP/ANEr8Rf99JQB6dRXmP8AwtTxP/0SvxF/30lH/C1PE/8A0SvxF/30lAEvxb8J+IvEdx4fuvD81w0Gm3Rlu7S1uFhkmX5SNrMQCflIwT3pl14P1v4heJdO1DxtZppeiaTJ51rpInEsk8vGHlZSVwPQE9/Wm/8AC1PE/wD0SvxF/wB9JR/wtTxP/wBEr8Rf99JQB6Rc3EVjYzXM52wwRmRyq5wqjJ4HsK4bwPoV/qXijUPHfiK1Npd36CCws3+9bWo+6W9HbqR2ziqH/C0/E/8A0SvxF/30lH/C0/E//RK/EX/fSUAenUV5j/wtTxP/ANEr8Rf99JR/wtTxP/0SvxF/30lAHp1FeY/8LU8T/wDRK/EX/fSUf8LU8T/9Er8Rf99JQB6dRXmP/C1PE/8A0SvxF/30lH/C1PE//RK/EX/fSUAenUV5j/wtTxP/ANEr8Rf99JXaeFdcvfEGj/bNS0O70ObzGT7LdkF8D+LjsaANqiiigAooooAKKKKACiiigAooooAKKKKACiiigAooooAKKKKACiiigAooooAK5P4o2+q3nwz1u00C2kub64tmiSOMgMQ3Bxn2rrKKAOa+HXhw+E/h3oujSRrFPb2y+eqnIErfM/Pf5ia6WiigCvf2NvqdhNZXsZkt51KSIGK5B9wQR+Fcx/wqrwb/ANAl/wDwNn/+Lrr6KAOQ/wCFVeDf+gS//gbP/wDF1oaL4H8P+Hb83uj2LW9wYzGXNxK/ykgkYZiOwrfooAKKKKACiiigAoorH8Waz/wj/hPUdTVd8sEDGKMdXfGFUe5OBQByN98bNCstSurNNF8RXn2aZ4WntNNMkTsrFTtbdyMjrVf/AIXron/QteLP/BSf/iq7jwto/wDYHhXTdL3b2tbdUdycl3x8zH3JyfxrWoA8x/4Xron/AELXiz/wUn/4qj/heuif9C14s/8ABSf/AIqvTqKAPMf+F66J/wBC14s/8FJ/+Ko/4Xron/QteLP/AAUn/wCKr06igDzH/heuif8AQteLP/BSf/iqP+F66J/0LXiz/wAFJ/8Aiq9OooA8x/4Xron/AELXiz/wUn/4qj/heuif9C14s/8ABSf/AIqvTqKAPMf+F66J/wBC14s/8FJ/+Ko/4Xron/QteLP/AAUn/wCKr06igDzH/heuif8AQteLP/BSf/iqP+F66J/0LXiz/wAFJ/8Aiq9OooA8x/4Xron/AELXiz/wUn/4qj/heuif9C14s/8ABSf/AIqvTqKAPMf+F66J/wBC14s/8FJ/+Ko/4Xron/QteLP/AAUn/wCKr06igDzH/heuif8AQteLP/BSf/iqP+F66J/0LXiz/wAFJ/8Aiq9OooA8x/4Xron/AELXiz/wUn/4qj/heuif9C14s/8ABSf/AIqvTqKAPMf+F66J/wBC14s/8FJ/+Ko/4Xron/QteLP/AAUn/wCKr06igDzH/heuif8AQteLP/BSf/iqP+F66J/0LXiz/wAFJ/8Aiq9OooA8x/4Xron/AELXiz/wUn/4qj/heuif9C14s/8ABSf/AIqvTqKAPMf+F66J/wBC14s/8FJ/+Ko/4Xron/QteLP/AAUn/wCKr06igDzH/heuif8AQteLP/BSf/iqP+F66J/0LXiz/wAFJ/8Aiq9OooA8x/4Xron/AELXiz/wUn/4qj/heuif9C14s/8ABSf/AIqvTqKAPMf+F66J/wBC14s/8FJ/+Ko/4Xron/QteLP/AAUn/wCKr06igDzH/heuif8AQteLP/BSf/iqP+F66J/0LXiz/wAFJ/8Aiq9OooA8x/4Xron/AELXiz/wUn/4qj/heuif9C14s/8ABSf/AIqvTqKAPMf+F66J/wBC14s/8FJ/+Ko/4Xron/QteLP/AAUn/wCKr06igDzH/heuif8AQteLP/BSf/iqP+F66J/0LXiz/wAFJ/8Aiq9OooA8x/4Xron/AELXiz/wUn/4qvSbS4W7s4rhEdFlQOFkXawBHQjsalooAKKKKACiiigAooooAKKKKACiiigAooooAKKKKACiiigAooooAKKKKACiiigAooooAKKKKACiiigAooooAKKKKACiiigArjPGbHVfE/hvw4nKTXYvrodvKg+cZ+rhRXZ1xXhcf218QPEWvn5obVhpVqfZDmXn/fxQB0mp+IdG0WRE1jVbOxaQZRbmdYyw9snmqP8AwnnhL/oZdJ/8DI/8awvi38Obf4h+EXt41RNUtQZLKc8EN/dJ9DXG/BHxDpPiSwn8MeJ9GsovEWj/ALqUS267p0U43HI5YdD+B70Aen/8J54S/wChl0n/AMDI/wDGk/4T3wl/0M2k/wDgbH/jVpvCnh91Kvomnsp6g2yf4Vy3iT4J+BfElpJG+h2+nzt0uLCMQup9eOD+IoA7mzvbbULSO6sLiK5t5BlJYnDKw9iOtTV5x8ItI1Hwba6l4M1MtNHpk5lsbrbhZoJPmH4gkgivR6AILy+tdPt/Pv7iK2h3BfMlcKuScAZPqTipwQQCOQelea6RO3xC+J19eTNv0LwvL9ntYcZWe8I+eQ+uwcD0JJr0qgAooooAKKKKACiiigAooooAKKjuJWhtpJI4mlZFLCNerH0FcJ/wsDxL/wBE51f/AL/JQB39Q215bXiyNaTxziNzG5jcNtYdVOOh9qxfC/iHU9da5GqeG7zRBCFKG5dW83Oc4x6YH51xvji4b4d+PNL8X2bGPTNYuE0/WoR9wkg+VNjsVOQT6HFAHX+Phr7eCdQTwjEZdVdAsQWURsAThirHowGcH1rzHx3Hd/DvUPCOseG3ns7zULpba+0w3BkS4yBkc9SCTz9K9g1vXtO8PaFcavq1wsFlbpveQ+nYD1J7CvJtK8b+C/EXi+18QaxrljPrBYQaXYFy0diD3PYyHue3QUAe1Vn6pr2k6J5f9sanaWHm58v7TMse/HXGTz1rQGcDPXviuK+Knw8tviL4Om09gsd/D+9spyOUkA6E+h6H8+1AGt/wnnhL/oZdJ/8AAyP/ABo/4Tzwl/0Muk/+Bkf+NeVfBLxDputJceEPF+k2KeItKJjzNbpvuEXg5yOWHf1HNevN4V8PupV9E09geoNsn+FAFX/hPfCX/QzaT/4Gx/41s2V9a6lZx3en3MV1bSjKTQuGVh04I4NcV4j+C3gXxHaSRy6Da2Uzji4soxC6n1+Xg/jWf8JNEvvAs+r+Cb+SS5t7VxeafdFMCSF+CuemVKjI/wBqgD0yoLy9tdOtWub+4itoE+9JK4VR+JqevM7eT/hYfxUvEn+bQvCkwjWE8rcXuMlmHfZ2HrQB6YCGAIOQeQaKKKACiiigAooooAKKKKACiisHxPr2paHHbnSvD13rbSlg62zqvlAY5OfXP6UAb1Q3N5bWYjN3cRwCWQRx+Y4Xe5OAoz1J9K4b/hP/ABP/ANE51b/wIT/CukvdNg8Z+DWs9dsJLZL+3Hm20hBeFiPX+8D39qANuuCvfD2qeJPiBqUHiOzkfw6lrH9gmjuim2Tnd8oOd3P3vYUvwv8AEt7qNpqfh7Xrg3GseHrprOeZvvXEYP7uU+7LjJ9ap/ET4j6Lpl8fCz67b6XdTx5u7t25toz2Ud3Izj060AVfgrq+qXX/AAk2j6heyajZ6PqH2eyupSSzIc5Uk8nbgD8a9Srhfhhqvhm4sbzSfA6I+kaaIsXaNnz5X3F855LDaMk9d1d1QAUUUUAFFFFABRRRQAUUUUAFFFFABRRRQAUUUUAFFFFABRRRQAUUUUAFFFFABRRRQAUUUUAFFFFABRRRQAUUUUAZPibxLpnhHQLjWNbuFgtYFySert2UDuTUvh/WrfxF4dsNYswRDewLMqk8rkdD7g8fhXN/EPwDa+NNMuzfTSSeXYyR2tuT+7jlPPm47twAPSuV/Zs117/4ayaPdZW50a7e3KN1VCdw/UsPwoA9N8Rauug+GtQ1Rl3fZLd5VT++wHyr9ScD8ap+CNHbQ/B2n2cxL3Hl+ZO56vI3zMT75NZ/jY/2nqGg+HF5F/ercXC/9MIP3h/N1jX/AIFXXAYGBwKACvCvjb4MvdA1q1+Jvg1PKv7BgdQijBHmqON5x7fKfbB7V7rXK+OPEq6VZxaRYWyahrWrBobOxblWHRpJPSNc8nvwO9AE3gPxrp/jzwrbaxprqGYbZ4M/NDJ3U/0rpK5X4feA9P8AAHh82NiFa4uH867mAx5kh64HZR0A7CuqoAKp6xdGx0O+uwcGC3kkB91Un+lXKoa7aG/8PajaAbjPayRgepKkCgDzz9nlGb4Vi9lH7zUL+e6c+pYgf0rqfFGqatJrOn+HfD2+2ub5Wmn1Ew70tIU64zwXY4UA9M5wcYrmP2e5H/4VLb2svElldz2zj0KtyP1ra1v4jx6P8RbHwt/Zc8oni86e+ztito+csxIwAMetAHJN4m8XxfFK6+H+n62L0CBbptTuLZPOtk27im1VCMxHAJHGec10nwl1vxVrejahJ4usrq38q7MdpJeKizSRgAHcEVVzuB5AA59snifhHqdlqHxG8eeLdWuo7dvOCR/aGCeXb5yjZOOCMc969GsPG8974Om186RLHHNOY9NgLEvdIW2xucD5A3XvgYPtQBu2XiHS9R1zUNHsrtJr7TQhu4VBzFvBKgnpkgZrSrjvh94mHij+2pn0mCyubO+NpcT253JcOqjOGwC20nbz6fhXY0AVrrUbKxKi9vLe2Lfd86VUz9MmoP8AhING/wCgvY/+BKf41Hq/hnRtfeNtZ06C8aIEIZVztrN/4Vx4P/6F+y/74oA1f+Eg0b/oL2H/AIEp/jWgrB1DKQykZBB4Irmj8OPB5GD4esv++K6SONIYkjiUKiKFVR2A6CgDD8Ya9d6BoZm0vT5NR1G4kW3tLdFOGkY4Bc/wqOpPpXnPjjxN4x+HWo+HAmtDX7nWZWt5rOa2jijV8D5o9g3AAt0Yt9a7T4i+P4/h/pVndNplzqU17ci3hgtx8zMRn0rzrVdTg8X/ALTvh2DJS10mzaRd5G1pwNzLkcFl3AEAnBFAHWeFtT8aR/FK80TWBdXmlW9mJJb+aOOOF5jsIEIVAQvLDDMx4Jz0FXfjZYpqHwb8QxugYpbiVcjoUdWz+la+j+L01/xbqGm6Rbrc6dp0arPqSSgo0558pMDDYXknPBIFZvxkuxZfB3xJKSBm0MfP+0wX+tAGh4Nli8UfDTQ7nVreG7W6soZZEmjDqx2g5wfetOPwxoEMiyRaHpqOpyrLaRgg+oOKzvhzYyab8NPD1nOu2SHT4kYHsdorpaACiiigDw/45eBr2xvLf4j+DgYtX0phJcpGv+tQfx474HX1Ga9H+HvjvTviB4Ut9VsHRZyoW6tg3zQydwR6eh7ipfGfiYaFYR2llbLqGsaixgsbDP8ArWI5LeiKOWPpVX4eeALDwFobwWyo99dv517OgwryHqFHZB0A9KAOuooooAiu51tbOa4k4SJGdvoBmvLP2dg9x8OLjVZx++1LUZ55G/vNvI/pXqN9bLe6fcWr/dmiaM/QjFeYfs6tJD8Lf7OnG2awvriGRf7rbySP1oA2/Gmv6sl7e2emXUmk2Ol2Bvb3UhCrMzHPlwx7wV/hJY4PBXGKj+H/AI41DVvg2nivxJEsc0VvNM7jgTKmcNjtnGMe1Zf7Rd5dWnwhuUtWZEurqKCdgM7YySTn2yBWF8UfEuj+Hf2fbTQtIvrd7rUbSC2tYYH3M6/KXYAduCPq1AHZfBzxRrPjLwO2t6+yGS4u5RAqR7AsQPy131cToqab4J+F2laRf6rDpL/YfKjmdhuV9hYuB328sfQDJ4rpfD9jNpvh+ztLnU5dVljiAa9lADTH+9xxQBo1Rl1vSoJWin1OzjkU4ZHuEBB9wTV6ufvPAnhe/vJbq80S0mnmbdJIycsfU0AaH/CQaN/0F7H/AMCU/wAakg1jTLqYRW2o2k0rdEjnVmP4A1i/8K48H/8AQv2X/fFWdP8ABPhvSr5LzTtGtba5jzsljXBFAG7XlHxE8Z6/YWXiO/0y8bSNO8PpHGkhgDPfXL4O0bwR5YDDOBknPIxXq9eQftDuZdB8N6fcN5enXetwreSN90Jzwx9OT+VAHSHxve2PwN/4S/U4ki1BdMNwY3Hy+aRhARxwWK/nWj8NNU1bW/hzpGqeIZVlvryATMyoEyG5HA9q84/aA1q0uPCmjeCNBvYHvNWvYIBbxOGKxAjaTjoN2zHrXs2l2EWl6RaWNuu2K2hWJR6ADFAHlljO2lftWanaxgJFrGkRyv8A7TRgAH+dem3Ph3Rb25e4vNHsLieQ5eWW1RmbjHJIyeAK8xihfUf2sLiVRuj0vRlVz/dLjI/ma9foAq2WmWGmIyabZW9ornLLBEsYY++BVqiigAooooAKKKKACiiigAooooAKKKKACiiigAooooAKKKKACiiigAooooAKKKKACiiigAooooAKKKKACiiigAooooAK8D8C/wDFD/tNeJfDzHy7TW4vtUA7M33xj/vqQfhXvleC/tArP4X8ZeEfHlhHuks5jby4HUdVH4hpBQB6Vojf2z8SNb1TO6HTIk02D2cnfL/KOuwrm/AOmyad4Ptjc7jc3jNdzlupaQ7ufoNo/CukoAxPFviqx8IaDJqOoEsciOCBOXnkP3UUeprmfB50iyuLjxB4j1zTZ/EOogecwukK2sf8MEfP3V7kdTk10XibwR4f8YeR/wAJHYC+WDPlpI7bVJ6nAOM+9YH/AApD4ef9C1bfm3+NAHTSeLvDkS5l17TUHq10g/rXP678Y/Aeg2kk1x4jsrl0HENnKJnJ9MLnH41D/wAKQ+Hn/Qs2v5t/jS/8KR+Hn/Qs2v8A49/jQBR+EGtaj41j1bxpqIaGDUJzBYWu7KxQR/L/AN9FgcmvS6paPo9hoOlQabpFslrZwLtjiQcKKu0Aea+FIf8AhBfiXrHh2dDHpmvSHUtMlP3TNjE0Wf733WHtmu01fwtoevXEU+saXbXksP8Aq3lTJWrWpaTZavDHFqNuk6xSrNGWHMbqchlPUH3HqauDigDD1DwX4b1XUEvtR0SzuLlAAsrxDIA4FXdYjuh4fvU0hE+1i3cWynhd+07f1q/RQBwHwq0jV9E0GCxvbVrS1itw0wnXE0947M0zn/ZGQB68+ld/RRQAUUUUAFFFFAFLVtG07XbE2esWcN5bkhvLlXIyOhqhceCvDd1pcGnXGi2b2duSYojGMIT1x9a3KKAKunabZaRYpZ6ZaxWttH92KJdqivN/iUreN/Fei+A7ENLbLcJf60yD5YoEyVRj6uwGB7V6lVLT9IsdLkupLKBY5LyUzTv1aR8YySeaALaIscaogwqgAD0FOoooAKyPFHiWx8J+H59V1JvkjwscS/emkPCoo7kmtesLxN4M0HxjFBF4jsFvo7di0aOxCgnvgHr/APXoA5jwe2mQX0/iXxTrmmy69fLjYLpCllF1EKc/me5rrJPF3h2Jcya7pyD1a6Qf1rmf+FIfDz/oWrb82/xo/wCFIfDz/oWbX82/xoAs638YPAmhWrzXPiWxnZP+WNpMJpCfTauTWN8JddvPHmpa340uleCzmkWx062J4SKP5mYj1YsOfbFaP/Ckfh5/0LNr/wCPf411+i6Lp/h7SYdM0a1S1s4ARHEg4GTk/wA6AL1ea6DB/wAIL8VtV0yVDHpXieX7bZSn7i3OP3keexPUDvXpVU9U0ix1qz+y6pbJcQh1kVXH3XU5VgexB6EUAef/ABK8V6ro3i3QdK8jT4vD14rPqV3qW0Q7QcFNzcBsYIHU5rlR4O0fx9460z/hE9Ej0/wppVx9ru79YTGuoTj7qJn7yjuRxya912gjBGfrSgY6UAeW/Gayil020tLFS2r686aLbkt8sUUjBpWC9vlU5PpXf+HLjT7jQLb+xyWsoV8mFiCAQny5Geo44Pena1oGl+IbNbXWrKK8hR96rKucHpn8iR9DV22tobO1jtrSJIYIlCRxxqFVFHQADoKAJKKKKACiiigAryjxd4vuoPiomg+JItMtvB62QmuJdQ2jz3O7Gwt1YEYwMmvV6QgHqAaAPDfDfgOx8V/FCx8S6RoaaP4V0bL2X7kxPfTnnzNp52ggEE+le0apqdnoulXOo6nOtvaW0Zklkc8KoFW6p6npNjrNstvqdutzAsiyeU/KsynIyOh57GgDg/hNpF1cSa3421WCSC68SXRmgilGHjtV4hB/4Dz+NekUUUAFFFFABRRRQAUUUUAFFFFABRRRQAUUUUAFFFFABRRRQAUUUUAFFFFABRRRQAUUUUAFFFFABRRRQAUUUUAFFFFABRRRQAVgeMPCNj400iDTtULiCK6juRs6lkOQPxzit+igBERY0VEGFUYAHYUtFFABRRRQAUUUUAFFFFABRRRQAUUUUAFFFFABRRRQAUUUUAFFFFABRRRQAUUUUAFFFFABRRRQAUUUUAFFFFABRRRQAUUUUAFFFFABRRRQAUUUUAFFFFABRRRQAUUUUAFFFFABRRRQAUUUUAFFFFABRRRQAUUUUAFFFFABRRRQAUUUUAFFFFABRRRQAUUUUAFFFFABRRRQAUUUUAFFFFABRRRQAUUUUAFFFFABRRRQAUUUUAFFFFABRRRQAUUUUAFFFFABRRRQAUUUUAFFFFABRRRQAUUUUAFFFFABRRRQAUUUUAFFFFABRRRQAUUUUAFFFFABRRRQAUUUUAFFFFABRRRQAUUUUAFFFFABRRRQAUUUUAFFFFABRRRQAUUUUAFFFFABRRRQAUUUUAFFFFABRTJXMULyLG0hVSwRMbmx2GeM1ytz8SdCtPDfh7XJ/tC2viC4gt7Zdi742lBP7wbsKFwdxBOMd6AOtorlfFPjq28NxassdnLeXOl6el/KgcIm13KKpbkhjtY/dPC/SuqoAKKKKACiiigAooooAKKKKACiiigAooooAKKKKACiiigAooooAKKKKACiiigAooooAKKKKACiiigAooooAKKKKACiiigAooooAKKKKACiiigAooooAKKKKACiiigAooooAKKKKACiiigAooooAKKKKACiiigAooooAKKKKACiiigAooooAKKKKACiiigAooooAKKKKACiiigAooooAK8fj8GX+s6nr/he8s54NM0yG/8A7LuZIisTPeFZIzG/QmI+YvHTIr2CigDx6Sw1vxD8I/F2s6jpF7BrOuRxoLA2zLMixRpGECY3cuJXHs+RWrrXhW/0vVvEMPgOyfT5b7w26xvbDyklvBI21i/A84hj87HdyCTxmvTKKAPFdN8PMND8Qvo0TWvneHLm2bS7Pwnd6YLmQp8jO0rsJZV+ZRjLHeeTWl4i8JGw8KeG4dM0qFNP84T61C+lSX/nyGHCyTwRusk58zGcliDtYg7ePWKKAOB8H3cPhbR7Cwllubwaxq0sVlBFpEtgtmpjaQqIJm3pEvlucjIG8ADFd9UbW0D3Udy8MbTxKyRylAWRWwWAPUA7VyO+B6VJQAUUUUAFFFFABRRRQAUUUUAFFFFABRRRQAUUUUAFFFFABRRRQAUUUUAFFFFABRRRQAUUUUAFFFFABRRRQAUUUUAFFFFABRRRQAUUUUAFFFFABRRRQAUUUUAFFFFABRRRQAUUUUAFFFFABRRRQAUUUUAFFFFABRRRQAUUUUAFFFFABRRRQAUUUUAFFFFABRRRQAUUUUAFFFFABRRWbrmv6f4dso7rVZJUjlmWCMQ28k7vI33VCRqzEnHYUAaVFZui+INN8QW80ulzO/kSmGaOaF4ZYXAB2vHIFZTgg8gZBB6VpUAFFFFABRRRQAUVFd3dvYWct1fXEVtbQqXlmmcIkajqSx4A9zWXo/izSdduvs1i92k/leckd5YT2rSR5ALoJUXeAWXJXONy5xkZANmiiigAoorNs9ctr3xDqWjxJKLjTY4ZJmYDYwlDFdpzk/cOcgdutAGlRUV1dW9lbNcXs8VvCmN0srhFXJwMk8dTiq51ixGvLopn/wCJg1sbsQ7G5iDBC27GPvEDGc+1AF2iiigAorO1jXtO0GCKXU52QzP5cMUULzSzN12pGgLucZJ2g4AJPAJp+k6zZa5Ztc6dJIyJIY5EmheGSJx1V43AdDgg4YDIIPQg0AXqKKzNf1238PaWLy5hnuC80dvDBbqDJNJI4REXcQMkkckgDuaANOiuYuPHVnZXdzFfadqFvHp9it7qdwyxMmnoyuwWTa5Z2xGeIg45HODmukhmS4gjmhbdHIodTjGQRkUAPoqlp2sWOrNeLp8/nGxuWtLj5GXZKoBK8gZ4YcjI561doAKKiuru3srdp7yeK3hUgGSVwqgkgDk8ckgfU1LQAUUUUAFFFFABRRRQAUUUUAFFFFABRRRQAUUUUAFFFFABRRRQAUUUUAFFFFABRRRQAUUUUAFFFFABRRRQAUUUUAFFFFABRRRQAUUUUAFFFFABRRRQAUUUUAFFFFABRRRQAUUUUAFFFFABXEfCe3ll8B6dq99qOo6hfahbq00l5eSSjgkAKhO1eO4ALdWJPNdvRQBwlx4a1qTxBLdJp2YGujIJP+E11JMrvznyBH5a8f8ALMHaOmcVN8TluX0/w+tjLFDcnX7MRSTRGRFbccEqGUsPYMPrXa0UAeYeLNM1jwvoN1qg1Nbi+1nVLYaveRu9hDDbKuwBWXzWgQAIGkyxG5m3LwVoW+vy6d4L1S5n1uzvtLm1GC3t20/xLJcpZBwodZ79o/MijLc7uWXeACMjHr1FAHiGmazqepeH5bFNZuYoB4vt7KGey1WW6YW0kUbFFuXUPIpLsQxHcYOAproPEl1beHfGenx/2w+oxItrBDoqeIbiK+iYy480RByboNvBYSnhYzgkEivT6KAPGtZ1tzb+IZG1++g8a22qyRaVpKX0ke+MSqIFW0DbJY3jIZnKN99zkbfll8Ryah9m+JOsx63qsVxoNwsmmxxX0iQwFbWGQ/u1IV1Y9VfcvXABZi3sFFAHJ/Eq2uLjwgslvby3UdrqFnd3NtCpZpoIrhHkUKOW+VScd8YGTVHxH480/UfB+qP4H1mHUb+G1E5fTcXLW8e9QzHaCFcKWKq3J2nAO1sd1RQB5G2q28V1qw8C+IrzVtKXw3dTXk/9qSXq21yuPIZZXdjHIQZcqCOFBxwDVi7sbmPR/Adumua2G1rUI21Cf+0pfMnDWcrsmc/IpIHCBcdVwwDD1SigDxrxff6hZ+KtT0uXW7bR4LSzgTRp9U8Tz6eAfLOZceWwumDjDeYzfdGQNxLXrzVptG1Txtf3zvJOun6Ss0ljL5S7m8xWbzCp8uPklnxlUyw5Ar1eigDwWa7fWvBXji2nvpLjTdPezu7ZrPXbm+jQEfvStywV5EGwkqcqrBu68dRq2r3trqcq+A9Qn1SNPCd5c2CrePerPOsyBXBZm8xgSQMknt7V6lRQB5Vo2q6fJ4g00eCPEt7rlpNptxJqpk1KS8EWEUxO25m8iQsSNi7c/Nx8vDPBpvrWD4c6i+s6peT65ZsmoC8vZJkmH2UyqQjHYrKYwNygMRncWJJPrFFAHEeJLy30H4maNrmuSLb6R/ZtzZreTHENrO8kTDex4TeqEBjgZUDuKpeJ/FWland6FINee28K3E9xHeanaXL28UkqIpiT7UpXCEl/mRgCybM5yp9EooA8WvNc1eHw2PsmpSzeGW8RvBHqd3qktuGsvJ3JuvVV5FiNxlBLyWG1d2GzSXlpJrHhPSTf6zBqNqPFdrHZvpOvz3fkwvJHuje4GxncNuIZssoIwa9qooA8f1LTU0e/+Kd/p13qUV1Z6KskEp1K4YoxtZTu+ZzkggFSeV/hxV651S0fxHLD4u8R3+kLHp1pJpCwXrwG4dlJkZFU/wCkybwo8tlf+EbTv59SooA8f1vXNbh03WTFeyCzXxebW7mnv5LZLa0+zo23z1VmgjMmwFlAxvPIzuDYrzU5vDdrHbeJoJrK68TW1tBLo+uPqEkELqPMhe5dQzfMSwDAkBwM8Lj2KigDx3xTY7fDnjTSri/1KbT9JvrG4t/N1CdngRliaTdKX3sgy7YYkL142gj1TRGsH0W2bR7z7dYlP3Nx9ra68wZ6+azMX+pJq9RQAUUUUAFFFFABRRRQAUUUUAFFFFABRRRQAUUUUAFFFFABRRRQAUUUUAFFFFABRRRQAUUUUAFFFFABRRRQAUUUUAFFFFABRRRQAUUUUAFFFFABRRRQAUUUUAFFFFABRRRQAUUUUAFFFFABRRRQAUUUUAFFFFABRRRQAUUUUAFFFFABRRRQAUUUUAFFFFABRRRQAUUUUAFFFFABRRRQAUUUUAFFFFABRRXj3j/4h+INM0nWte0i7Sw0/SL0WMED26u2oTA7WyWGQoOR8uM4zmgD2GiuI8aeOrjwv8JX8TvarDfvaxtHby8hJnUfKfoSfyrd8HXuoaj4L0i91kqb65tI5Ziq7QSy56duDQBtUUUUAFFFFABRRRQAUUUUAFFFFABRRRQAUUUUAFFFFABRRRQAUUUUAFFFFABRRRQAUUUUAFFFFABRRRQAUUUUAFFFFABRRRQAUUUUAFFFFABRRRQAUUUUAFFFFABRRRQBU1dr9NFvm0dI5NQFvIbVJThGl2nYGPpuxmvEPitoa+BPh9Z6xDqF1N4ua7hC6m0pLySFsuAP7vXC17N4nur2y8I6xdaSM38FjPJbAruzKsZKcd+QOK8N8UXWu+MpfBuoarp1xe6TolzDJrFzDbsiySnG4pGQGKgcE4/CgDqLD4d+KrHx74d1a1v0+ypCJdZnlbM1zOSS4P8As5OABwMV6P4g1q40WKya00i71Rrq7S3ZLUD9yrA5kbP8Ixz9axdO1/VPFHiyCTQxJbeG7SNjcXE0GxryU9EQMMhVHJOASTisO717xRH8WtG0Zb9V+1tPcXFgsatHDZJhUYtjdvZsnOcDpigD02iiigAooooAKKKKACiqWmal/aS3R+xXlp9nuZLfF1FsMuw48xOeUPUN3FU9a8Qf2RrOhWH2bzv7XvHtt/mbfK2wyS7sYO7/AFeMcdc9sUAbNFY/iDXv7CbSh9m8/wDtHUYrH/WbfL3hjv6HONvTjr1rYoAKKKKACiiigAoorH8Ka9/wk/hez1j7N9l+1Kx8nzN+3DFeuBnp6UAbFFFFABRRRQAUUUUAFFFFABRRRQAV4t8b3Oo+OvAegX3yaVdairzs3CsdwG0n6V7TXkOv+KLTW/iTqXhzxvpmlweGdMjEq3V9P5czSbcgx/MCc/7INAGf8eNTj1zXPC3gewuEknvdQWW6gQ5KqpG3I9/m/KvTPEjf8SyPRNG1630LUZti20jIsjKoPKhCe4Ugfj6V5p8P/B1rr3xSm8Z2GlyafoFhGbfSzOXMl42Tmc78tg5OCecYq18QLCxk+JGkafPMxi+0HX9TupOWtoLdAkSKRyFLljjuWPXOKAPYYlZIUWR97KoDNjG4+tOqOCeO5t454W3RyoHQ4IyCMjg1JQAUUUUAFFFFABRVLSNS/tfTVvPsV5Y7nkTyL2Ly5RsdkyVyeDt3A91IPeql/r/2HxZo+i/Zt/8AacVzJ53mY8vyghxtxznf6jGO9AGxRWPq2v8A9l+INB0z7N5v9sXEsHmeZt8nZA8ucYO7Pl4xkdc+1bFABRRRQAUUUUAFFQ3lx9ksZ7nbv8mNpNucZwM4zVPw5q//AAkHhXStZ8j7P/aNlDd+Tv3+X5iB9u7AzjOM4FAGlRRRQAUUUUAFFFFABRRRQAUUUUAFFFFABRRRQAUUUUAFFFFABRRRQAUUUUAFFFFABRRRQAUUUUAFFFFABRRRQAUUUUAFcNfeA764+IF5r0GookF/BbwS5U+bEkTMxSMjgK5Kk/Q+tdzRQBleItH/ALc0OXTxFpsocqdmp2P2yA4IPzRb1yeOPm4PNZ3hLwl/wjMt0/2bw7D56qP+JNon2AnGfvnzX3jnjpjn1rpqKAPKb7Sbz/hZjahHpOoN4X/tWL7XaLG2Jr4RkLeCLbkxK3lqSDguBJj5Nx6Tx7HeaXcaV4r0mwuL+60p3hntbWJpJJ7eZdrKFXk4kET8ZwFJrsqKAPJNY8P3NhpOg6NqejW+oiS2nub29udIn1WFr2R1Z18iJ1CMzPIRM5woBUEbjTfCnhe51bUPBf8Awl+kXF0lp4YlW4GoQsyLcCWDasgbgvgMQGyflyORkeu0UAeSXtnf2+i6jbXWgvdWt34pupJTdabPexJEQSkjWsZDXCFgAOqhir9VFY9tol4PD/hyHW9Av7vTrPxNeyS2kGmyoqWhjm2EQZZlh+Yfu8tkHZhidp9zooA8jsdEulS2fSNIvLPRG8YQ3VhZtavEba3EO2R/KIBhjModgCF+9nA3c0tO8Pak3jDfq0n2LWk1x5/7QTwxdTzyw+aSiC/WQxCJoSqbSAEGVK5UmvaaKAOG+J2n2t9Z6c9zG9zJayySw2kuhT6razNsK/vYohwRu+Viwwc9eRXHeOrXVNY0sW83hGK0ul0CM2aDSZ9S8m4KvmG3eNljtHQhR5hHzfJ1EaivaqKAPJb7widf1XxDca9o018zeF7RLdriFmBuQtxuKZ485SRyPnXdwRuObun+HDo2s6DeWWmzW73nh+7/ALYuNjbp58W5Q3DnlpMmXBc7vve9em02SNZYnjkGUdSrD1BoA8U+HWm2s9n8P7nw/od7Zanb2yyavqMlo8azWxtiuxpyNswZzCUQM2wKOE2ELENB1ZfDvhGPV9N36XbWt0s1rfaDPqaRXJlyjPaxsrZ2bwrkELkjjeDXtGl6baaNpNrpmmxeTZ2cKwwR7i2xFGAMkkngdSatUAeN6toC2vhLQjKJ/El7YWtyLWy1HwtdT21wrvuSMxkE2zrtSNXkY4XJIINewW5drWIyxCGQoC0QbcEOOVz3x0zUlFABRRRQAUUUUAFFFFABRRRQAVUutK0++lWS9sba4dDlWlhViv0JFW6KAEVQihVAVQMAAcCsXVvB+h65qkOoanYpPcQoIwxJG5QwcK2OoDANj1rbooAzfEGk/wBtaDcacI9Pk87b8mpWX2u3OGDfNFuXd04+YYOD2xVPwn4c/wCEasZ4PI0SHzZN+NH0r7Ch4x8y+Y+4++RxW9RQB5X4f0y4/wCE9j8ISwsdK8LXUuqQSZ+VknB+zR/8AL3A5/54ofps+PI9X0bWLLxL4ZsJr69ktZtMlghjL53qXgkYAcKkqgE9hKx6Zrr7TSbKx1C+vbWHZc6g6yXMhdmLlVCL1PAAA4GB1PUmrlAHjXjTw3LZ6Za+GrfQ1v4LTRPKtby40efUjPcncCE2Oq20hOGMz4yXHICVtaD4bfVfHmn6l4m0qW6a38MacVmvoWZUu1kmZj83HnLkHP3l3HpuOfS6KAPGxZX1t4I0XTtR8P8Am28mpanJcPf6NcalHADdStFutIyrMXDZWQ5Cgf7YNU7DRp10fwEPF/h3Ur+x0+LUoby2/s+WcQJ5yLArwruLJgLtX5+ACMhdw9wooA8o0DRdQg1PwlJFpl5babDr2oz20EsTA2do9tMIgykfulJPCtjG5VwDxWd4K8PajDr+jyaxIbLXbe5ke/nj8M3QlvMh9yS3/mNFJG2Qw7DagAUgAe0UUAed/E/ToLm4srwWJ1a9tbeYW+mXehTajaXJbaQCUG2GQlFUSMflDNkEGuY+JVtq+p3mo/ZvDnlajawW0mnTJo9xfTs4Admgu0YR22xgRtxlihODvAr2uigDyDxd4RbUn+I+pHRri51FI4ZNGmELs6yrap89v6PvUAsnJKgHpirviXw5b+Hz4r/sXTTZadceErjz3iQiOadfMwzt0aXaxyxyxB5Jr1Kq9/Y2+qabc2F9H5ttdQvDNHuK7kYFWGRyMgnkUAeUaDpdvNeaXceGdAv9OdNGuF1ieW0kh+1O0a+WrOwxcvv3MHUvxn5vmGcyXw/qR07wrHr2nJJpkXhaztkgvvDtzqq290F/fAwxOrRSbfLG9l/hIBBBz7db28draxW9uuyKFAiLknCgYAyfapKAMnwrazWPhHSrW6v7jUZYbSNGu7mBoZZsKMM6P8ytjqG+bPXnNa1FFABRRRQAUUUUAFFFFABRRRQAUUUUAFFFFABRRRQAUUUUAFFFFABRRRQAUUUUAFFFFABRRRQAUUUUAFFFFABRRXOeLbXWp44JNG8Tw6AiE+a8ttHKJPTl+lAHR0V51Jo3jeO2E7/E22SJ+FlbTLcKfocYr0C13fY4d8yzvsAaVQAHOOTxxzQBLRRRQAUUUUAFFFFABRRRQAUUUUAFFFFABRRRQAUUUUAFFFFABRRRQAUUUUAFFFFABRRRQAUUVxHxIn8HyW1rZeMIpbsrunitbcO0m0DDOVXnaPU0AdvRXmWm/DP4Z6voEWtWOnLJp8sRmWbz3A2Dqevsa6rwHqHh7UPCNsfB7l9JgZ4YSc8YbnryeTQB0dFFFABRRRQAUUUUAFFFFABRRRQAUUUUAFFFFABRRRQAUUUUAFFFFABRRRQAUUUUAFFFFABRRRQAUUUUAFFFFABRRRQAUUUUAFFFFABRRRQAUUUUAFFFFABRRRQAUUUUAFcdceEpNa8XXmq+LhbXmlWqCPTdPILxoMZeWRTwzk8AEEAe9djXjd/4j8f/APCYeK9IktGkhnRrfRYEt32kt92VpsbFXB5yc+3egDlvh74UvPG2g+M59MuUW1i1Ge20BLtfNt7XLhnYRtkH5SgGc7ecV7h4J0K68M+C9N0e/vPtlxaw7JJsYDHJPHtzXlnw/u9W8GfC9PCOm6Jft4sM80ZDWzC3iYuQJmlPylAuDwSTjGK9j0e1urLRrS21G8a+u44gJrhgAZG7nAoAu0UUUAFFFFABRRRQAUUVj+Kdf/4RvQWv0tvtUzTw20EBk8sSSyyrGgLYO0ZcEnBwAeD0oA2KKhtGuXs4mv4YobkqDLHDKZEVu4DFVLD3Kj6VNQAUVj69r/8AYd3okH2bz/7V1FbHd5m3ysxSSb+hz/qsY469eK2KACiiigAoqkNSzrzaX9ivBtthcfazF/o5yxXyw+fv8Z246EGrtABRRRQAUUUUAFFUrbUvtOr31h9ivIvsaxt9pli2wz7wTiNs/MVx83pkVU8Va/8A8Iz4fbU/s32rbcW8Hl+Zs/1s6RZzg9N+cY5xjjrQBsUVj+LNf/4RfwnqGtfZvtX2KLzPJ8zZv5AxuwcdfStigAooooAK8k+M8Nv4W8I+I9ft5ZZdU1yOLTk3kEQoflKpxkDqxznmvW682+L1hpHiq10/wrJrsGm67PcLcafHKpfzGU9CB2Pv+tAGV4kX/hV37Mw0/wAzbdJZLbA/9NpSSw/MtXW/CbRToHwq0Gxddsn2YSv7lyW/kRXk3xVm8ZeJfFXhXwZrS6WpurpbiS106R5CyKR+8csBtH38Ljj1NfQ8MSQQJDEu1I1CqB2AGBQA+iiigAooooAKKKKACiisHwl4guvE+knVZLGG0sZ2Y2TLcmWSWIMwDOuwBCQAdoZ+vXigDeooqvqF39g0y6vNnmfZ4Xl2Zxu2qTjPbpQBYorP0DVP7c8N6bq3k+R9vtIrnyt27ZvQNtzgZxnGcCtCgAooqlqup/2XbxS/Yry8824jg2WcXmMm9gu9hkYRc5Y9gCaALtFFFABRRRQAUUVS1LUv7N+yf6FeXf2m5S3/ANFi3+Vuz+8fn5UGOW7ZFAF2iisbwx4g/wCEk0y4u/s32byb65s9nmb93kzNHuzgdducds4yaANmisfw/r39utqo+zeR/Z2oy2P+s3eZsCnf0GM7unPTrWxQAUUUUAFFFFABRRRQAUUUUAFFFFABRRRQAUUUUAFFFFABRRRQAUUUUAFFFFABRRRQAUUUUAFMmBaFlCB9w24IBHPHIyMj2p9FAHDaF8Pf7H1y2v8A7F4Nj8lid2n+GPss4yCPkl89tp5/unjI70vifw5Dr/xO8PHVNL+36XDpt6JhLEXt95eDYsg+63QkK2eV3AZUEdxRQB5L4e8InSdM8G31rpFxDqkOrSQXNw0bmdLMLcKsbsfmEIVYgFPyj5cdqo6B4e1EeK7aXVpPsOtxau8895H4ZunmuY97Yja/EhiMTRkLggBRtG0Fa9oooA8Yt7TVLn4iaPqUWgtp92utzLfNHo9wJxb7ZlUy37OUnjbEZCqMLlFBAQA2dF8INZ6DoWrJo08Oup4mlea58hhcJbNdzKQSRuWExsDjhTu3d8n16igDjPiBafabnQm1LTrjVNAiunOpWcFu1zv+Q+UzwqC0iK/JABwdrY4yOLvfCK6j4Yu0t/DjnRn8UWc+lafcWBDW9sZIFuGWFlzDGzCZipC/KWJGG59nooA5bxtokk3gsDQbZVvNGaK902CBABvg5ESqOAGUNHj0bFcnf2+oTeFbjV7zQpLiXxBq4luYLywmuhZ2iqUh820jKvKNqITH2eUsfu16rRQB434c0jV49P0GJ9NuI4LXxnLcQxx6fJbRw2rW0xDrCxYwxFn4Un5S2Dg8VNBFfW2l2nhz+xtWe8tvF32yWVbGTyBbm/MolEpGxl2uvCksOcgBWI9eooA8XXw9qU3jO6fVpPseqnXjPa6knhi6up/I84GJFvUkMaRGLEbKwAUFww6sd/w3YJYfFC8k07TPtsV5LdTXOpXuhzWt1aEspCC6kULPGWyqooBVQvLBcn0migDzbx5peoXmreKXtLG5nWfwXcW0TRQswkmLSYjXA5c5HyjnmrGheGI/D/jzRJ9I0x7OC60OcalKkbYmnDwFGmf+KX5pfmcljlueteg0UAeW/EXSdQvvEzXOi6ZfyWsNpGPEC26lRqlr5oItkG0+Y4USk7SDtYpnMgx1PjfTJtR8GfaNFgY3+mPHqOnxLGVYyRfMIwpGRuXdHjj7+K6migDyjULa/uPDUurX+gyXD6/q/nXMN5p892LO1RGSDzbOMq8o2oh2HhXk3nlay9J8MXuoaR4e0/VdHuH0+LxZcym3+wyW8KWrQTFf3JJMcLFgNjEjDbD1K17XRQB5jqun3mk3/jNtK0CSe0ay0y3tbeKBxC0amRXCpHgyLGpyYkPzAbP4q5VtD1RvCPjC0sdFumsri+0qezttM0ibS1l2zx+c0MDvujYCP5myv3d3Awx94ooA8W1fQ1udE8XnwV4dvdP0i40iGFbJdNktftF2JGLMluyqxIQqC4XngZO04k8aaBfX/jLX21b91HcLCNJv18NXeqTWiCIAtBLBJ/o7rKHblQSSpyRgD2WigBkKukEazSebIqgM+3G445OO2afRRQAVxPiP4cprHjS18Vaffx2Wq2sHkxvPa/aEXn7wXcuG56121FAHK+GfAdnoGp3Gs3t1Nq+uXQCzajcgbto6IijhF9hWv4i0j+3NDn0/y9Ol80qdup2X2uA4YH5ot67unHzDBwe1adFAHlviDwJc6V8PvEENjp+hm4u4YkSPw9oTWUrYkU8lZXLYHIxjHJp158OtFfxdr1sPDcb6U+hwvDF5BMD3ZedXkC/dM+0R/P8AfAPX5jn1CigDxbVtJ1e/k0CfxPaC7sm8OW0ZXUfD1zq/l3nJnLRROrRyEFPnYfwkAg5y/wAVaVfT6DpOi3lg2uqmhBYtT1HQLm9e5nI2hBEHX7JLjBMkvJ3DJGxq9mooA8s0jwn/AMJJ4i0yTxlpE19H/wAIlZJMdQhZk+07n37gwx5o3Hr8y7j0ya29GtvEU3wJtbW3a5g8RtoQjjNySkqXHlYXcW5Dbscnv1ruKKAPKtC0LSL7xDon/CPeFrnTLMWM0evJfaXJbLco8YCxTeYoFw+/nd8/Rsn5ueh+FXh+HRfhjplpLpMen3E0O68ha2ETu5yCZFwCTjA57V2lFAHl3hnR9Yi1SHSbzTrqSy8HQ3Cae0gMa3rPlbbZI3BKW+UJB4Z+elYHh3TtTfxB9rttEaxjvPD94l7HbaFc2X+kERFUmklZjcyAl8SYG75yCcnHuFFAHlvh/wC1+GNT8P3uoaTqsiTeErSxCW1jJKyXETZMT7R+7J8wYL7V4bJGDWANA1WPwz4Ii1nTlfTbTRBFNa32gT6okN38vL20TqwbaGAcghfmHBbn3GigDxrVdBFn4f0F2in8U6hY2UkdtY6n4YuZYJ1aUMi/MD9llAVYw8jHC8sD1ruPiFaXd/4a09LW1lmmXV9OleOFTIUVbqNmPA6AAknsBmutooA8i1Dwg0+m+MNV/sad9aTX1m0258hjMiKbc7oDjIUkNkp94Ag5xXafEKylk8L/ANq2S5vtDmTU7cf3/KyXj/4HGZE/4FXU1U1TTLTWtJutM1KMy2l5E0M8Ydk3owwy5UgjIOODQBz3w+t2uNAuNeuoilx4iuW1F0kHzLEwCwIfpCsYI9c1znhvRtVg8Q2+hXNhcf2V4TluZ7GSSMrHdeYMWqox+VvLjklQ+hVcgdT6ciLHGqRqERQAqqMAD0FLQB4p4WsNTbxfp19FobacJ9Nu01JIdFubZhKyoVSe4lc/a33Bv3uOTuOTurR0fwl/Zfw38CrZ6JJBqJvdMm1Ii3bz8oDkykjdhMkfNwo4GAMV61RQB4wLTVLr4i6ZqMWgtY3ceuyfa5I9HuPP+zYlUNJfs5SWNhsIjUYQFFGAgqtY6CvkzQweGdSg8Vv4oluLTU5LGVRHbfbS7OLkgqkRi8weXkbixIQ7wze4UUAeOazoutPY3+bKQ6a3i2e4vYJ9NlvEntzDiNzboyvPGJdhwpPIDEEKRXafDfTTpmg3aJctJbS3jywWw0ebTI7RSq5jjhmJYJu3N6ZY4rr6KACiiigAooooAKKKKACiiigAooooAKKKKACiiigAooooAKKKKACiiigAooooAKKKKACiiigAooooAKKKKACiiigAooooAKKKKACiiigAooooAKKKKACiiigAooooAKKKKACiiigAooooAKKKKACiiigAooooAKKKKACiiigAooooAKKKKACiiigAooooAKKKKACiiigAooooAKKKKACiiigAooooAKKKKACiiigAooooAKKKKACiiigAooooAKKKKACiiigAooooAKKKKACiiigAooooAKKKKACiiigAooooAKKKKACiiigAooooAKKKKACiiigAooooAKKKKACiiigAooooAKKKKACiiigAooooAKKKKACiiigAooooAKKKKACiiigAooooAKKKKACiiigAooooAKKKKACiiigAooooAKKKKACiiigAooooAKKKKACiiigAooooAKKKKACiiigAooooAKKKKACiiigAooooA//Z)\n",
        "\n",
        "\n"
      ]
    },
    {
      "cell_type": "code",
      "execution_count": null,
      "metadata": {
        "id": "KJBOMh04PkcM"
      },
      "outputs": [],
      "source": [
        "df_pd = data.toPandas()"
      ]
    },
    {
      "cell_type": "code",
      "execution_count": null,
      "metadata": {
        "id": "uhmG0VwTPkcN",
        "outputId": "944ac302-3cec-484e-ee17-3a7e9557cc57"
      },
      "outputs": [
        {
          "data": {
            "text/plain": [
              "<matplotlib.axes._subplots.AxesSubplot at 0x22a8bc98c48>"
            ]
          },
          "execution_count": 24,
          "metadata": {},
          "output_type": "execute_result"
        },
        {
          "data": {
            "image/png": "[encoded data removed]",
            "text/plain": [
              "<Figure size 1296x576 with 2 Axes>"
            ]
          },
          "metadata": {
            "needs_background": "light"
          },
          "output_type": "display_data"
        }
      ],
      "source": [
        "import seaborn as sns\n",
        "import matplotlib.pyplot as plt\n",
        "fig, ax = plt.subplots(figsize = (18,8))\n",
        "sns.heatmap(df_pd.corr())"
      ]
    },
    {
      "cell_type": "markdown",
      "source": [
        "## Pair Plots of High Correlation Features"
      ],
      "metadata": {
        "id": "cEvpG7lBwZbC"
      }
    },
    {
      "cell_type": "code",
      "source": [
        "data_ = spark.sql(\"select \"'sbytes'\",\"'sloss'\" from hiveunsw\")"
      ],
      "metadata": {
        "id": "4SAwzDjHwhB4"
      },
      "execution_count": null,
      "outputs": []
    },
    {
      "cell_type": "code",
      "source": [
        "data_ = data_.toPandas()"
      ],
      "metadata": {
        "id": "VIn1-dOWwmwY"
      },
      "execution_count": null,
      "outputs": []
    },
    {
      "cell_type": "code",
      "source": [
        "sns.set_style(\"whitegrid\")\n",
        "sns.pairplot(data=data_, vars=['sbytes', 'sloss'])\n",
        "plt.show()"
      ],
      "metadata": {
        "colab": {
          "base_uri": "https://localhost:8080/",
          "height": 374
        },
        "id": "PDjPEXAHwejJ",
        "outputId": "bdafea3d-2169-4746-97d9-5259e70f6cc3"
      },
      "execution_count": null,
      "outputs": [
        {
          "output_type": "display_data",
          "data": {
            "image/png": "[encoded data removed]",
            "text/plain": [
              "<Figure size 360x360 with 6 Axes>"
            ]
          },
          "metadata": {}
        }
      ]
    },
    {
      "cell_type": "markdown",
      "source": [
        "## Binary Classification"
      ],
      "metadata": {
        "id": "0l7gT3tsx30c"
      }
    },
    {
      "cell_type": "markdown",
      "source": [
        "## Convert Categorical into One HOt Coder\n",
        "\n",
        "Inmachine learning, a one-hot is a group of bits among which the legal combinations of values are only those with a single high (1) bit and all the others low (0)"
      ],
      "metadata": {
        "id": "Ajk_7pRB05J_"
      }
    },
    {
      "cell_type": "code",
      "source": [
        "from pyspark.ml.feature import OneHotEncoder"
      ],
      "metadata": {
        "id": "SX7G_Nwi0ydA"
      },
      "execution_count": null,
      "outputs": []
    },
    {
      "cell_type": "code",
      "source": [
        "from pyspark.ml import Pipeline"
      ],
      "metadata": {
        "id": "WKq40tplwiEo"
      },
      "execution_count": null,
      "outputs": []
    },
    {
      "cell_type": "markdown",
      "source": [
        "## But to Convert into One Hot First the String need to be converted into Numeric using String Indexer"
      ],
      "metadata": {
        "id": "ySz3f36718TL"
      }
    },
    {
      "cell_type": "code",
      "source": [
        "dstip_s = StringIndexer(inputCol=\"dstip\", outputCol=\"dstips\")\n",
        "proto_s = StringIndexer(inputCol=\"proto\", outputCol=\"protos\")\n",
        "state_s = StringIndexer(inputCol=\"state\", outputCol=\"states\")\n",
        "service_s = StringIndexer(inputCol=\"service\", outputCol=\"services\")\n",
        "attack_cat_s = StringIndexer(inputCol=\"attack_cat\", outputCol=\"attack_cat_s\")\n",
        "srcip_sr = StringIndexer(inputCol=\"srcip\", outputCol=\"srcips\")"
      ],
      "metadata": {
        "id": "3TE5HiOt164_"
      },
      "execution_count": null,
      "outputs": []
    },
    {
      "cell_type": "code",
      "source": [
        "pipe = Pipeline(stages = [dstip_s,proto_s,state_s,service_s,attack_cat_s,srcip_sr])"
      ],
      "metadata": {
        "id": "g2l9Ikc7164_"
      },
      "execution_count": null,
      "outputs": []
    },
    {
      "cell_type": "code",
      "source": [
        "datas = pipe.fit(data).transform(data)\n",
        "datas.show()"
      ],
      "metadata": {
        "colab": {
          "base_uri": "https://localhost:8080/"
        },
        "outputId": "1d2f2599-4d00-4537-aee0-cf23bdb1a739",
        "id": "cVqM37cZ165A"
      },
      "execution_count": null,
      "outputs": [
        {
          "output_type": "stream",
          "name": "stdout",
          "text": [
            "+----------+-----+-------------+------+-----+-----+------------+------+------+----+----+-----+-----+--------+---------+---------+-----+-----+----+----+----------+----------+-------+-------+-----------+-----------+----------+---------+----------+----------+------------+------------+------------+------------+------------+---------------+------------+----------------+------------+----------+----------+----------+----------+-----------+----------------+----------------+--------------+----------+-----+------+------+------+--------+------------+------+\n",
            "|     srcip|sport|        dstip|dsport|proto|state|         dur|sbytes|dbytes|sttl|dttl|sloss|dloss| service|    Sload|    Dload|Spkts|Dpkts|swin|dwin|     stcpb|     dtcpb|smeansz|dmeansz|trans_depth|res_bdy_len|      Sjit|     Djit|     Stime|     Ltime|     Sintpkt|     Dintpkt|      tcprtt|      synack|      ackdat|is_sm_ips_ports|ct_state_ttl|ct_flw_http_mthd|is_ftp_login|ct_ftp_cmd|ct_srv_src|ct_srv_dst|ct_dst_ltm|ct_src_ ltm|ct_src_dport_ltm|ct_dst_sport_ltm|ct_dst_src_ltm|attack_cat|Label|dstips|protos|states|services|attack_cat_s|srcips|\n",
            "+----------+-----+-------------+------+-----+-----+------------+------+------+----+----+-----+-----+--------+---------+---------+-----+-----+----+----+----------+----------+-------+-------+-----------+-----------+----------+---------+----------+----------+------------+------------+------------+------------+------------+---------------+------------+----------------+------------+----------+----------+----------+----------+-----------+----------------+----------------+--------------+----------+-----+------+------+------+--------+------------+------+\n",
            "|59.166.0.3|56716|149.171.126.8|   143|  tcp|  FIN|  0.82546002|  7812| 16236|  31|  29|   30|   32|       -| 75090.25|156111.73|  122|  126| 255| 255|2751097753|2748686736|     64|    129|          0|          0| 445.25928| 474.9451|1421970774|1421970775|   6.8190908|    6.599896|5.9700001E-4|4.6899999E-4|     1.28E-4|              0|           0|               0|           0|         0|         2|         7|         1|          4|               1|               1|             1|    Normal|    0|   9.0|   0.0|   0.0|     0.0|         0.0|   5.0|\n",
            "|59.166.0.0|43467|149.171.126.6| 49729|  tcp|  FIN|    0.101815|  4238| 65628|  31|  29|    7|   30|       -|328438.84|5087030.5|   72|   74| 255| 255| 961515433|3225510659|     59|    887|          0|          0|       0.0|91.579567|1421970775|1421970775|    1.429493|    1.387192|      6.8E-4|5.4600002E-4|     1.34E-4|              0|           0|               0|           0|         0|         7|         4|         1|          6|               1|               1|             1|    Normal|    0|   8.0|   0.0|   0.0|     0.0|         0.0|   4.0|\n",
            "|59.166.0.5|41289|149.171.126.2|  9574|  tcp|  FIN| 0.044002999|  2750| 29104|  31|  29|    7|   17|       -|488693.97|5181101.5|   44|   48| 255| 255|3291096757|1191410228|     63|    606|          0|          0| 78.126968|62.206562|1421970775|1421970775|    1.014977|  0.92583001|     0.00125|     4.85E-4|     7.65E-4|              0|           0|               0|           0|         0|         3|         5|         3|          3|               1|               1|             1|    Normal|    0|   1.0|   0.0|   0.0|     0.0|         0.0|   2.0|\n",
            "|59.166.0.9|43785|149.171.126.0|  6881|  tcp|  FIN|   2.7908299| 10476|395734|  31|  29|   16|  143|       -|29863.518|1130840.8|  180|  320| 255| 255|3934392726|3961690324|     58|   1237|          0|          0| 2707.4927| 2018.976|1421970772|1421970775|   15.589459|   8.7470121|6.8400003E-4|5.3199998E-4|1.5199999E-4|              0|           0|               0|           0|         0|        11|         4|         3|          2|               1|               1|             1|    Normal|    0|   5.0|   0.0|   0.0|     0.0|         0.0|   6.0|\n",
            "|59.166.0.8|40691|149.171.126.9|  6881|  tcp|  FIN|   2.6335001| 13350|548216|  31|  29|   21|  197|       -|40381.238|1661560.6|  232|  438| 255| 255|   1518931|  18267719|     58|   1252|          0|          0| 718.33679|500.57288|1421970773|1421970775|   11.399026|   6.0251832|     6.19E-4|     4.89E-4|      1.3E-4|              0|           0|               0|           0|         0|        16|         7|         7|          1|               1|               1|             1|    Normal|    0|   6.0|   0.0|   0.0|     0.0|         0.0|   8.0|\n",
            "|59.166.0.3|20393|149.171.126.3|  5190|  tcp|  FIN|    0.115048|  1958|  2308|  31|  29|    6|    6|       -|129963.15|153814.06|   22|   24| 255| 255|3646899201|3651364285|     89|     96|          0|          0| 435.26627|417.08563|1421970775|1421970775|    5.460381|    4.976913|7.0999999E-4|     5.73E-4|     1.37E-4|              0|           0|               0|           0|         0|         2|         6|         1|          4|               1|               1|             1|    Normal|    0|   0.0|   0.0|   0.0|     0.0|         0.0|   5.0|\n",
            "|59.166.0.7|19792|149.171.126.0|    53|  udp|  CON|    0.003362|   146|   178|  31|  29|    0|    0|     dns|173706.13| 211778.7|    2|    2|   0|   0|         0|         0|     73|     89|          0|          0|       0.0|      0.0|1421970775|1421970775|       0.011|0.0060000001|         0.0|         0.0|         0.0|              0|           0|               0|           0|         0|         3|         2|         3|          3|               3|               1|             1|    Normal|    0|   5.0|   1.0|   1.0|     1.0|         0.0|   9.0|\n",
            "|59.166.0.3|14382|149.171.126.9|  3354|  tcp|  FIN|  0.45305201|   424|  8824|  31|  29|    1|    4|ftp-data| 6551.124| 142835.7|    8|   12| 255| 255|2206905053|3307670308|     53|    735|          0|          0| 3906.7949|3074.6694|1421970775|1421970775|   64.671288|   41.134998|      6.8E-4|5.5900001E-4|     1.21E-4|              0|           0|               0|           0|         0|         4|         6|         7|          4|               1|               1|             2|    Normal|    0|   6.0|   0.0|   0.0|     3.0|         0.0|   5.0|\n",
            "|59.166.0.9|37074|149.171.126.2|    53|  udp|  CON|    0.001088|   146|   178|  31|  29|    0|    0|     dns|536764.69|654411.75|    2|    2|   0|   0|         0|         0|     73|     89|          0|          0|       0.0|      0.0|1421970775|1421970775|       0.001|0.0089999996|         0.0|         0.0|         0.0|              0|           0|               0|           0|         0|         2|         5|         3|          2|               1|               1|             1|    Normal|    0|   1.0|   1.0|   1.0|     1.0|         0.0|   6.0|\n",
            "|59.166.0.7|12569|149.171.126.5|    53|  udp|  CON|9.6899999E-4|   146|   178|  31|  29|    0|    0|     dns|602683.19|734778.13|    2|    2|   0|   0|         0|         0|     73|     89|          0|          0|       0.0|      0.0|1421970775|1421970775|0.0099999998|       0.003|         0.0|         0.0|         0.0|              0|           0|               0|           0|         0|         3|         1|         2|          3|               3|               1|             1|    Normal|    0|   4.0|   1.0|   1.0|     1.0|         0.0|   9.0|\n",
            "|59.166.0.1|12792|149.171.126.7|    53|  udp|  CON|0.0010629999|   146|   178|  31|  29|    0|    0|     dns|549388.56| 669802.5|    2|    2|   0|   0|         0|         0|     73|     89|          0|          0|       0.0|      0.0|1421970780|1421970780|0.0020000001|       0.003|         0.0|         0.0|         0.0|              0|           0|               0|           0|         0|         5|         3|         2|          4|               3|               1|             1|    Normal|    0|   7.0|   1.0|   1.0|     1.0|         0.0|   1.0|\n",
            "|59.166.0.0|63414|149.171.126.9| 10330|  tcp|  FIN|  0.26501101|  8928|   320|  31|  29|    4|    1|ftp-data|250283.94|8060.0425|   14|    6| 255| 255|2386904726|3699988372|    638|     53|          0|          0| 1725.2916|71.464249|1421970775|1421970776|   20.385462|   52.644802|7.7500002E-4|6.3299999E-4|     1.42E-4|              0|           0|               0|           0|         0|         3|         6|         6|          5|               1|               1|             2|    Normal|    0|   6.0|   0.0|   0.0|     3.0|         0.0|   4.0|\n",
            "|59.166.0.1|33555|149.171.126.3|  6881|  tcp|  FIN|  0.51712799|  1540|  1644|  31|  29|    4|    4|       -|22338.764|  24025.0|   16|   18| 255| 255|1741520309|3943579644|     96|     91|          0|          0| 2036.1301| 51.91766|1421970776|1421970776|   34.433331|   30.388353|6.5399997E-4|5.2200002E-4|     1.32E-4|              0|           0|               0|           0|         0|         4|         6|         5|          7|               4|               1|             4|    Normal|    0|   0.0|   0.0|   0.0|     0.0|         0.0|   1.0|\n",
            "|59.166.0.8|10867|149.171.126.8|   111|  udp|  CON|0.0053389999|   568|   312|  31|  29|    0|    0|       -|638321.81|350627.47|    4|    4|   0|   0|         0|         0|    142|     78|          0|          0| 1.7430201| 1.757632|1421970776|1421970776|        1.24|    1.252333|         0.0|         0.0|         0.0|              0|           0|               0|           0|         0|        16|         7|         5|          5|               1|               1|             4|    Normal|    0|   9.0|   1.0|   1.0|     0.0|         0.0|   8.0|\n",
            "|59.166.0.8|12411|149.171.126.8|  1715|  udp|  CON|    0.001739|   512|   304|  31|  29|    0|    0|       -|1766532.5|1048878.6|    4|    4|   0|   0|         0|         0|    128|     76|          0|          0|0.63026798| 0.318434|1421970776|1421970776|  0.44966701|    0.227667|         0.0|         0.0|         0.0|              0|           0|               0|           0|         0|        16|         7|         5|          5|               1|               1|             4|    Normal|    0|   9.0|   1.0|   1.0|     0.0|         0.0|   8.0|\n",
            "|59.166.0.8|46725|149.171.126.2|    53|  udp|  CON|    0.001018|   146|   178|  31|  29|    0|    0|     dns|573673.88|699410.63|    2|    2|   0|   0|         0|         0|     73|     89|          0|          0|       0.0|      0.0|1421970776|1421970776|       0.011|       0.011|         0.0|         0.0|         0.0|              0|           0|               0|           0|         0|         2|         5|         3|          5|               1|               1|             1|    Normal|    0|   1.0|   1.0|   1.0|     1.0|         0.0|   8.0|\n",
            "|59.166.0.1|51562|149.171.126.4|    53|  udp|  CON|    0.001044|   146|   178|  31|  29|    0|    0|     dns|559386.94|681992.31|    2|    2|   0|   0|         0|         0|     73|     89|          0|          0|       0.0|      0.0|1421970776|1421970776|       0.011|       0.003|         0.0|         0.0|         0.0|              0|           0|               0|           0|         0|         2|         3|         5|          7|               2|               1|             3|    Normal|    0|   2.0|   1.0|   1.0|     1.0|         0.0|   1.0|\n",
            "|59.166.0.3|48838|149.171.126.2|    53|  udp|  CON|9.8699995E-4|   146|   178|  31|  29|    0|    0|     dns| 591692.0|721377.94|    2|    2|   0|   0|         0|         0|     73|     89|          0|          0|       0.0|      0.0|1421970776|1421970776|0.0080000004|       0.003|         0.0|         0.0|         0.0|              0|           0|               0|           0|         0|         2|         5|         3|          3|               1|               1|             1|    Normal|    0|   1.0|   1.0|   1.0|     1.0|         0.0|   5.0|\n",
            "|59.166.0.0|16907|149.171.126.9|    21|  tcp|  FIN|   2.2547121|  2934|  3740|  31|  29|   11|   15|     ftp|10211.503|13025.166|   52|   54| 255| 255| 241515551|2584135680|     56|     69|          0|          0| 3141.3708| 99.93412|1421970773|1421970776|   44.203648|   42.531734|6.6100003E-4|5.2499998E-4|     1.36E-4|              0|           0|               0|           0|         0|         1|         3|         6|          5|               1|               1|             2|    Normal|    0|   6.0|   0.0|   0.0|     5.0|         0.0|   4.0|\n",
            "|59.166.0.0| 1915|149.171.126.4| 32945|  tcp|  FIN| 0.051220998|  2854| 29104|  31|  29|    7|   17|       -|436071.16|4450987.0|   46|   48| 255| 255|1921515932|1974066994|     62|    606|          0|          0| 78.226654|76.387978|1421970776|1421970776|   1.1294219|   1.0781699|      8.1E-4|     5.43E-4|     2.67E-4|              0|           0|               0|           0|         0|         7|         2|         5|          5|               1|               1|             2|    Normal|    0|   2.0|   0.0|   0.0|     0.0|         0.0|   4.0|\n",
            "+----------+-----+-------------+------+-----+-----+------------+------+------+----+----+-----+-----+--------+---------+---------+-----+-----+----+----+----------+----------+-------+-------+-----------+-----------+----------+---------+----------+----------+------------+------------+------------+------------+------------+---------------+------------+----------------+------------+----------+----------+----------+----------+-----------+----------------+----------------+--------------+----------+-----+------+------+------+--------+------------+------+\n",
            "only showing top 20 rows\n",
            "\n"
          ]
        }
      ]
    },
    {
      "cell_type": "code",
      "source": [
        "dstip_one = OneHotEncoder(inputCol=\"dstips\", outputCol=\"dstipone\")\n",
        "proto_one = OneHotEncoder(inputCol=\"protos\", outputCol=\"protoone\")\n",
        "state_one = OneHotEncoder(inputCol=\"states\", outputCol=\"stateone\")\n",
        "service_one = OneHotEncoder(inputCol=\"services\", outputCol=\"serviceone\")\n",
        "attack_cat_one = OneHotEncoder(inputCol=\"attack_cat_s\", outputCol=\"attack_catsone\")\n",
        "srcip_one = OneHotEncoder(inputCol=\"srcips\", outputCol=\"srcipone\")"
      ],
      "metadata": {
        "id": "loCcJ0ZRvW1C"
      },
      "execution_count": null,
      "outputs": []
    },
    {
      "cell_type": "code",
      "source": [
        "pipe = Pipeline(stages = [dstip_one,state_one,proto_one,service_one,attack_cat_one,srcip_one])"
      ],
      "metadata": {
        "id": "lSC-JQMVwsJZ"
      },
      "execution_count": null,
      "outputs": []
    },
    {
      "cell_type": "markdown",
      "source": [
        "## Converting into One Hot"
      ],
      "metadata": {
        "id": "LOn1aJUf1yw6"
      }
    },
    {
      "cell_type": "code",
      "source": [
        "data_one = pipe.fit(datas).transform(datas)\n",
        "data_one.show(5)"
      ],
      "metadata": {
        "colab": {
          "base_uri": "https://localhost:8080/"
        },
        "id": "bznnln-Mr_av",
        "outputId": "5064fd13-bf96-4069-97fc-3f2890c9c9bf"
      },
      "execution_count": null,
      "outputs": [
        {
          "output_type": "stream",
          "name": "stdout",
          "text": [
            "+----------+-----+-------------+------+-----+-----+-----------+------+------+----+----+-----+-----+-------+---------+---------+-----+-----+----+----+----------+----------+-------+-------+-----------+-----------+---------+---------+----------+----------+---------+----------+------------+------------+------------+---------------+------------+----------------+------------+----------+----------+----------+----------+-----------+----------------+----------------+--------------+----------+-----+------+------+------+--------+------------+------+--------------+--------------+---------------+--------------+--------------+--------------+\n",
            "|     srcip|sport|        dstip|dsport|proto|state|        dur|sbytes|dbytes|sttl|dttl|sloss|dloss|service|    Sload|    Dload|Spkts|Dpkts|swin|dwin|     stcpb|     dtcpb|smeansz|dmeansz|trans_depth|res_bdy_len|     Sjit|     Djit|     Stime|     Ltime|  Sintpkt|   Dintpkt|      tcprtt|      synack|      ackdat|is_sm_ips_ports|ct_state_ttl|ct_flw_http_mthd|is_ftp_login|ct_ftp_cmd|ct_srv_src|ct_srv_dst|ct_dst_ltm|ct_src_ ltm|ct_src_dport_ltm|ct_dst_sport_ltm|ct_dst_src_ltm|attack_cat|Label|dstips|protos|states|services|attack_cat_s|srcips|      dstipone|      stateone|       protoone|    serviceone|attack_catsone|      srcipone|\n",
            "+----------+-----+-------------+------+-----+-----+-----------+------+------+----+----+-----+-----+-------+---------+---------+-----+-----+----+----+----------+----------+-------+-------+-----------+-----------+---------+---------+----------+----------+---------+----------+------------+------------+------------+---------------+------------+----------------+------------+----------+----------+----------+----------+-----------+----------------+----------------+--------------+----------+-----+------+------+------+--------+------------+------+--------------+--------------+---------------+--------------+--------------+--------------+\n",
            "|59.166.0.3|56716|149.171.126.8|   143|  tcp|  FIN| 0.82546002|  7812| 16236|  31|  29|   30|   32|      -| 75090.25|156111.73|  122|  126| 255| 255|2751097753|2748686736|     64|    129|          0|          0|445.25928| 474.9451|1421970774|1421970775|6.8190908|  6.599896|5.9700001E-4|4.6899999E-4|     1.28E-4|              0|           0|               0|           0|         0|         2|         7|         1|          4|               1|               1|             1|    Normal|    0|   9.0|   0.0|   0.0|     0.0|         0.0|   5.0|(46,[9],[1.0])|(15,[0],[1.0])|(133,[0],[1.0])|(12,[0],[1.0])|(13,[0],[1.0])|(42,[5],[1.0])|\n",
            "|59.166.0.0|43467|149.171.126.6| 49729|  tcp|  FIN|   0.101815|  4238| 65628|  31|  29|    7|   30|      -|328438.84|5087030.5|   72|   74| 255| 255| 961515433|3225510659|     59|    887|          0|          0|      0.0|91.579567|1421970775|1421970775| 1.429493|  1.387192|      6.8E-4|5.4600002E-4|     1.34E-4|              0|           0|               0|           0|         0|         7|         4|         1|          6|               1|               1|             1|    Normal|    0|   8.0|   0.0|   0.0|     0.0|         0.0|   4.0|(46,[8],[1.0])|(15,[0],[1.0])|(133,[0],[1.0])|(12,[0],[1.0])|(13,[0],[1.0])|(42,[4],[1.0])|\n",
            "|59.166.0.5|41289|149.171.126.2|  9574|  tcp|  FIN|0.044002999|  2750| 29104|  31|  29|    7|   17|      -|488693.97|5181101.5|   44|   48| 255| 255|3291096757|1191410228|     63|    606|          0|          0|78.126968|62.206562|1421970775|1421970775| 1.014977|0.92583001|     0.00125|     4.85E-4|     7.65E-4|              0|           0|               0|           0|         0|         3|         5|         3|          3|               1|               1|             1|    Normal|    0|   1.0|   0.0|   0.0|     0.0|         0.0|   2.0|(46,[1],[1.0])|(15,[0],[1.0])|(133,[0],[1.0])|(12,[0],[1.0])|(13,[0],[1.0])|(42,[2],[1.0])|\n",
            "|59.166.0.9|43785|149.171.126.0|  6881|  tcp|  FIN|  2.7908299| 10476|395734|  31|  29|   16|  143|      -|29863.518|1130840.8|  180|  320| 255| 255|3934392726|3961690324|     58|   1237|          0|          0|2707.4927| 2018.976|1421970772|1421970775|15.589459| 8.7470121|6.8400003E-4|5.3199998E-4|1.5199999E-4|              0|           0|               0|           0|         0|        11|         4|         3|          2|               1|               1|             1|    Normal|    0|   5.0|   0.0|   0.0|     0.0|         0.0|   6.0|(46,[5],[1.0])|(15,[0],[1.0])|(133,[0],[1.0])|(12,[0],[1.0])|(13,[0],[1.0])|(42,[6],[1.0])|\n",
            "|59.166.0.8|40691|149.171.126.9|  6881|  tcp|  FIN|  2.6335001| 13350|548216|  31|  29|   21|  197|      -|40381.238|1661560.6|  232|  438| 255| 255|   1518931|  18267719|     58|   1252|          0|          0|718.33679|500.57288|1421970773|1421970775|11.399026| 6.0251832|     6.19E-4|     4.89E-4|      1.3E-4|              0|           0|               0|           0|         0|        16|         7|         7|          1|               1|               1|             1|    Normal|    0|   6.0|   0.0|   0.0|     0.0|         0.0|   8.0|(46,[6],[1.0])|(15,[0],[1.0])|(133,[0],[1.0])|(12,[0],[1.0])|(13,[0],[1.0])|(42,[8],[1.0])|\n",
            "+----------+-----+-------------+------+-----+-----+-----------+------+------+----+----+-----+-----+-------+---------+---------+-----+-----+----+----+----------+----------+-------+-------+-----------+-----------+---------+---------+----------+----------+---------+----------+------------+------------+------------+---------------+------------+----------------+------------+----------+----------+----------+----------+-----------+----------------+----------------+--------------+----------+-----+------+------+------+--------+------------+------+--------------+--------------+---------------+--------------+--------------+--------------+\n",
            "only showing top 5 rows\n",
            "\n"
          ]
        }
      ]
    },
    {
      "cell_type": "markdown",
      "source": [
        "## Creating Feature Vector for Model To train on\n",
        "\n",
        "In Pyspark Model Need Two Things\n",
        "\n",
        "* Feature Vector\n",
        "* Label\n",
        "\n",
        "So For Feature Vector is created through Vector Assembler"
      ],
      "metadata": {
        "id": "BLzI0m2x3q5I"
      }
    },
    {
      "cell_type": "code",
      "source": [
        "col = ['dstip', 'proto','state','service','attack_cat','srcip']\n",
        "data_one = data_one.drop(*col)"
      ],
      "metadata": {
        "id": "qJ4d4tUi379X"
      },
      "execution_count": null,
      "outputs": []
    },
    {
      "cell_type": "code",
      "source": [
        "col=data_one.columns\n",
        "va = VectorAssembler(inputCols=col,outputCol='features')\n",
        "data_one = va.transform(data_one)\n",
        "new_data = data_one.select('features', 'Label').show() #we can apply truncate=False to see all features"
      ],
      "metadata": {
        "colab": {
          "base_uri": "https://localhost:8080/"
        },
        "id": "glWnm8DL4EnN",
        "outputId": "798d6494-93c8-4213-b61e-682e5bd11014"
      },
      "execution_count": null,
      "outputs": [
        {
          "output_type": "stream",
          "name": "stdout",
          "text": [
            "+--------------------+-----+\n",
            "|            features|Label|\n",
            "+--------------------+-----+\n",
            "|(310,[0,1,2,3,4,5...|    0|\n",
            "|(310,[0,1,2,3,4,5...|    0|\n",
            "|(310,[0,1,2,3,4,5...|    0|\n",
            "|(310,[0,1,2,3,4,5...|    0|\n",
            "|(310,[0,1,2,3,4,5...|    0|\n",
            "|(310,[0,1,2,3,4,5...|    0|\n",
            "|(310,[0,1,2,3,4,5...|    0|\n",
            "|(310,[0,1,2,3,4,5...|    0|\n",
            "|(310,[0,1,2,3,4,5...|    0|\n",
            "|(310,[0,1,2,3,4,5...|    0|\n",
            "|(310,[0,1,2,3,4,5...|    0|\n",
            "|(310,[0,1,2,3,4,5...|    0|\n",
            "|(310,[0,1,2,3,4,5...|    0|\n",
            "|(310,[0,1,2,3,4,5...|    0|\n",
            "|(310,[0,1,2,3,4,5...|    0|\n",
            "|(310,[0,1,2,3,4,5...|    0|\n",
            "|(310,[0,1,2,3,4,5...|    0|\n",
            "|(310,[0,1,2,3,4,5...|    0|\n",
            "|(310,[0,1,2,3,4,5...|    0|\n",
            "|(310,[0,1,2,3,4,5...|    0|\n",
            "+--------------------+-----+\n",
            "only showing top 20 rows\n",
            "\n"
          ]
        }
      ]
    },
    {
      "cell_type": "markdown",
      "source": [
        "## Min Max Scaler\n",
        "\n",
        "### For scaling we are using **MINMAX** Method"
      ],
      "metadata": {
        "id": "MMPmDNqJ4iRp"
      }
    },
    {
      "cell_type": "code",
      "source": [
        "from pyspark.ml.feature import MinMaxScaler"
      ],
      "metadata": {
        "id": "sRFydtg94j-f"
      },
      "execution_count": null,
      "outputs": []
    },
    {
      "cell_type": "code",
      "source": [
        "MinMaxScaler = MinMaxScaler(inputCol=\"features\", outputCol=\"features_minmax\")\n",
        "data_mm=MinMaxScaler.fit(data_one).transform(data_one)"
      ],
      "metadata": {
        "id": "LXh5cFTL49JJ"
      },
      "execution_count": null,
      "outputs": []
    },
    {
      "cell_type": "markdown",
      "source": [
        "## SPlit dataset"
      ],
      "metadata": {
        "id": "0Wz2AZij4Tq_"
      }
    },
    {
      "cell_type": "code",
      "source": [
        "traindata,testdata=data_mm.randomSplit([0.80,0.20])"
      ],
      "metadata": {
        "id": "B5TrftK54UvR"
      },
      "execution_count": null,
      "outputs": []
    },
    {
      "cell_type": "markdown",
      "source": [
        "## Train Model"
      ],
      "metadata": {
        "id": "CV6lHHa35R71"
      }
    },
    {
      "cell_type": "markdown",
      "source": [
        "### Logistic Regression"
      ],
      "metadata": {
        "id": "3zpxAwTM5TJx"
      }
    },
    {
      "cell_type": "code",
      "source": [
        "from pyspark.ml.classification import LogisticRegression\n",
        "lr=LogisticRegression(featuresCol='features_minmax', labelCol='Label').fit(traindata)"
      ],
      "metadata": {
        "id": "-4cGWCYM5Ujg"
      },
      "execution_count": null,
      "outputs": []
    },
    {
      "cell_type": "code",
      "source": [
        "from pyspark.ml.evaluation import MulticlassClassificationEvaluator"
      ],
      "metadata": {
        "id": "jWivZjbS69t6"
      },
      "execution_count": null,
      "outputs": []
    },
    {
      "cell_type": "markdown",
      "source": [
        "## Evalution"
      ],
      "metadata": {
        "id": "JMCY6Bi56-FQ"
      }
    },
    {
      "cell_type": "code",
      "source": [
        "lr_pred=lr.transform(testdata)\n",
        "lr_pred.show()"
      ],
      "metadata": {
        "colab": {
          "base_uri": "https://localhost:8080/"
        },
        "id": "N6R4JImm7Apz",
        "outputId": "afd8d041-e07b-4f03-f3e0-dab2e9dcfc5a"
      },
      "execution_count": null,
      "outputs": [
        {
          "output_type": "stream",
          "name": "stdout",
          "text": [
            "+-----+------+---+------+------+----+----+-----+-----+-----+-----+-----+-----+----+----+-----+-----+-------+-------+-----------+-----------+----+----+----------+----------+---------+-------+------+------+------+---------------+------------+----------------+------------+----------+----------+----------+----------+-----------+----------------+----------------+--------------+-----+------+------+------+--------+------------+------+---------------+--------------+---------------+--------------+--------------+---------------+--------------------+--------------------+--------------------+--------------------+----------+\n",
            "|sport|dsport|dur|sbytes|dbytes|sttl|dttl|sloss|dloss|Sload|Dload|Spkts|Dpkts|swin|dwin|stcpb|dtcpb|smeansz|dmeansz|trans_depth|res_bdy_len|Sjit|Djit|     Stime|     Ltime|  Sintpkt|Dintpkt|tcprtt|synack|ackdat|is_sm_ips_ports|ct_state_ttl|ct_flw_http_mthd|is_ftp_login|ct_ftp_cmd|ct_srv_src|ct_srv_dst|ct_dst_ltm|ct_src_ ltm|ct_src_dport_ltm|ct_dst_sport_ltm|ct_dst_src_ltm|Label|dstips|protos|states|services|attack_cat_s|srcips|       dstipone|      stateone|       protoone|    serviceone|attack_catsone|       srcipone|            features|     features_minmax|       rawPrediction|         probability|prediction|\n",
            "+-----+------+---+------+------+----+----+-----+-----+-----+-----+-----+-----+----+----+-----+-----+-------+-------+-----------+-----------+----+----+----------+----------+---------+-------+------+------+------+---------------+------------+----------------+------------+----------+----------+----------+----------+-----------+----------------+----------------+--------------+-----+------+------+------+--------+------------+------+---------------+--------------+---------------+--------------+--------------+---------------+--------------------+--------------------+--------------------+--------------------+----------+\n",
            "|    0|     0|0.0|    46|     0|   0|   0|    0|    0|  0.0|  0.0|    1|    0|   0|   0|    0|    0|     46|      0|          0|          0| 0.0| 0.0|1421970316|1421970316| 60000.43|    0.0|   0.0|   0.0|   0.0|              1|           2|               0|           0|         0|         1|         1|         1|          1|               1|               1|             1|    0|  27.0|   3.0|   2.0|     0.0|         0.0|  24.0|(46,[27],[1.0])|(15,[2],[1.0])|(133,[3],[1.0])|(12,[0],[1.0])|(13,[0],[1.0])|(42,[24],[1.0])|(310,[3,11,17,23,...|(310,[3,11,17,23,...|[20.8682740381051...|[0.99999999913498...|       0.0|\n",
            "|    0|     0|0.0|    46|     0|   0|   0|    0|    0|  0.0|  0.0|    1|    0|   0|   0|    0|    0|     46|      0|          0|          0| 0.0| 0.0|1421972176|1421972176|      0.0|    0.0|   0.0|   0.0|   0.0|              1|           2|               0|           0|         0|         2|         2|         2|          2|               2|               2|             2|    0|  24.0|   3.0|   2.0|     0.0|         0.0|  23.0|(46,[24],[1.0])|(15,[2],[1.0])|(133,[3],[1.0])|(12,[0],[1.0])|(13,[0],[1.0])|(42,[23],[1.0])|(310,[3,11,17,23,...|(310,[3,11,17,23,...|[20.5539550629468...|[0.99999999881551...|       0.0|\n",
            "|    0|     0|0.0|    46|     0|   0|   0|    0|    0|  0.0|  0.0|    1|    0|   0|   0|    0|    0|     46|      0|          0|          0| 0.0| 0.0|1421972176|1421972176|      0.0|    0.0|   0.0|   0.0|   0.0|              1|           2|               0|           0|         0|         2|         2|         2|          2|               2|               2|             2|    0|  27.0|   3.0|   2.0|     0.0|         0.0|  24.0|(46,[27],[1.0])|(15,[2],[1.0])|(133,[3],[1.0])|(12,[0],[1.0])|(13,[0],[1.0])|(42,[24],[1.0])|(310,[3,11,17,23,...|(310,[3,11,17,23,...|[20.5969073488697...|[0.99999999886531...|       0.0|\n",
            "|    0|     0|0.0|    46|     0|   0|   0|    0|    0|  0.0|  0.0|    1|    0|   0|   0|    0|    0|     46|      0|          0|          0| 0.0| 0.0|1421972176|1421972176|      0.0|    0.0|   0.0|   0.0|   0.0|              1|           2|               0|           0|         0|         2|         2|         2|          2|               2|               2|             2|    0|  27.0|   3.0|   2.0|     0.0|         0.0|  24.0|(46,[27],[1.0])|(15,[2],[1.0])|(133,[3],[1.0])|(12,[0],[1.0])|(13,[0],[1.0])|(42,[24],[1.0])|(310,[3,11,17,23,...|(310,[3,11,17,23,...|[20.5969073488697...|[0.99999999886531...|       0.0|\n",
            "|    0|     0|0.0|    46|     0|   0|   0|    0|    0|  0.0|  0.0|    1|    0|   0|   0|    0|    0|     46|      0|          0|          0| 0.0| 0.0|1421972356|1421972356|      0.0|    0.0|   0.0|   0.0|   0.0|              1|           2|               0|           0|         0|         2|         2|         2|          2|               2|               2|             2|    0|  27.0|   3.0|   2.0|     0.0|         0.0|  24.0|(46,[27],[1.0])|(15,[2],[1.0])|(133,[3],[1.0])|(12,[0],[1.0])|(13,[0],[1.0])|(42,[24],[1.0])|(310,[3,11,17,23,...|(310,[3,11,17,23,...|[20.5968850761594...|[0.99999999886528...|       0.0|\n",
            "|    0|     0|0.0|    46|     0|   0|   0|    0|    0|  0.0|  0.0|    1|    0|   0|   0|    0|    0|     46|      0|          0|          0| 0.0| 0.0|1421972656|1421972656|60000.008|    0.0|   0.0|   0.0|   0.0|              1|           2|               0|           0|         0|         2|         2|         2|          2|               2|               2|             2|    0|  24.0|   3.0|   2.0|     0.0|         0.0|  23.0|(46,[24],[1.0])|(15,[2],[1.0])|(133,[3],[1.0])|(12,[0],[1.0])|(13,[0],[1.0])|(42,[23],[1.0])|(310,[3,11,17,23,...|(310,[3,11,17,23,...|[20.6956083220405...|[0.99999999897195...|       0.0|\n",
            "|    0|     0|0.0|    46|     0|   0|   0|    0|    0|  0.0|  0.0|    1|    0|   0|   0|    0|    0|     46|      0|          0|          0| 0.0| 0.0|1421972716|1421972716|60000.637|    0.0|   0.0|   0.0|   0.0|              1|           2|               0|           0|         0|         2|         2|         2|          2|               2|               2|             2|    0|  27.0|   3.0|   2.0|     0.0|         0.0|  24.0|(46,[27],[1.0])|(15,[2],[1.0])|(133,[3],[1.0])|(12,[0],[1.0])|(13,[0],[1.0])|(42,[24],[1.0])|(310,[3,11,17,23,...|(310,[3,11,17,23,...|[20.7385546693474...|[0.99999999901517...|       0.0|\n",
            "|    0|     0|0.0|    46|     0|   0|   0|    0|    0|  0.0|  0.0|    1|    0|   0|   0|    0|    0|     46|      0|          0|          0| 0.0| 0.0|1424219111|1424219111|60000.688|    0.0|   0.0|   0.0|   0.0|              1|           2|               0|           0|         0|         8|         8|         1|          1|               1|               1|             8|    0|  27.0|   3.0|   2.0|     0.0|         0.0|  24.0|(46,[27],[1.0])|(15,[2],[1.0])|(133,[3],[1.0])|(12,[0],[1.0])|(13,[0],[1.0])|(42,[24],[1.0])|(310,[3,11,17,23,...|(310,[3,11,17,23,...|[20.3998532099245...|[0.99999999861816...|       0.0|\n",
            "|    0|     0|0.0|    46|     0|   0|   0|    0|    0|  0.0|  0.0|    1|    0|   0|   0|    0|    0|     46|      0|          0|          0| 0.0| 0.0|1424219291|1424219291|60000.719|    0.0|   0.0|   0.0|   0.0|              1|           2|               0|           0|         0|         8|        11|         1|          1|               1|               1|             8|    0|  24.0|   3.0|   2.0|     0.0|         0.0|  23.0|(46,[24],[1.0])|(15,[2],[1.0])|(133,[3],[1.0])|(12,[0],[1.0])|(13,[0],[1.0])|(42,[23],[1.0])|(310,[3,11,17,23,...|(310,[3,11,17,23,...|[20.3126238401754...|[0.99999999849221...|       0.0|\n",
            "|    0|     0|0.0|    46|     0|   0|   0|    0|    0|  0.0|  0.0|    1|    0|   0|   0|    0|    0|     46|      0|          0|          0| 0.0| 0.0|1424219591|1424219591|60000.707|    0.0|   0.0|   0.0|   0.0|              1|           2|               0|           0|         0|         5|         5|         1|          1|               1|               1|             5|    0|  27.0|   3.0|   2.0|     0.0|         0.0|  24.0|(46,[27],[1.0])|(15,[2],[1.0])|(133,[3],[1.0])|(12,[0],[1.0])|(13,[0],[1.0])|(42,[24],[1.0])|(310,[3,11,17,23,...|(310,[3,11,17,23,...|[20.4812917161113...|[0.99999999872623...|       0.0|\n",
            "|    0|     0|0.0|    46|     0|   0|   0|    0|    0|  0.0|  0.0|    1|    0|   0|   0|    0|    0|     46|      0|          0|          0| 0.0| 0.0|1424219651|1424219651|60000.727|    0.0|   0.0|   0.0|   0.0|              1|           2|               0|           0|         0|         5|         5|         1|          1|               1|               1|             5|    0|  27.0|   3.0|   2.0|     0.0|         0.0|  24.0|(46,[27],[1.0])|(15,[2],[1.0])|(133,[3],[1.0])|(12,[0],[1.0])|(13,[0],[1.0])|(42,[24],[1.0])|(310,[3,11,17,23,...|(310,[3,11,17,23,...|[20.4812843391120...|[0.99999999872622...|       0.0|\n",
            "|    0|     0|0.0|    46|     0|   0|   0|    0|    0|  0.0|  0.0|    1|    0|   0|   0|    0|    0|     46|      0|          0|          0| 0.0| 0.0|1424219891|1424219891|60000.547|    0.0|   0.0|   0.0|   0.0|              1|           2|               0|           0|         0|         1|         1|         1|          1|               1|               1|             1|    0|  27.0|   3.0|   2.0|     0.0|         0.0|  24.0|(46,[27],[1.0])|(15,[2],[1.0])|(133,[3],[1.0])|(12,[0],[1.0])|(13,[0],[1.0])|(42,[24],[1.0])|(310,[3,11,17,23,...|(310,[3,11,17,23,...|[20.5899180239674...|[0.99999999885735...|       0.0|\n",
            "|    0|     0|0.0|    46|     0|   0|   0|    0|    0|  0.0|  0.0|    1|    0|   0|   0|    0|    0|     46|      0|          0|          0| 0.0| 0.0|1424220011|1424220011|60000.664|    0.0|   0.0|   0.0|   0.0|              1|           2|               0|           0|         0|         1|         1|         1|          1|               1|               1|             1|    0|  27.0|   3.0|   2.0|     0.0|         0.0|  24.0|(46,[27],[1.0])|(15,[2],[1.0])|(133,[3],[1.0])|(12,[0],[1.0])|(13,[0],[1.0])|(42,[24],[1.0])|(310,[3,11,17,23,...|(310,[3,11,17,23,...|[20.5899034518335...|[0.99999999885733...|       0.0|\n",
            "|    0|     0|0.0|    46|     0|   0|   0|    0|    0|  0.0|  0.0|    1|    0|   0|   0|    0|    0|     46|      0|          0|          0| 0.0| 0.0|1424220251|1424220251|60000.668|    0.0|   0.0|   0.0|   0.0|              1|           2|               0|           0|         0|         1|         1|         1|          1|               1|               1|             1|    0|  27.0|   3.0|   2.0|     0.0|         0.0|  24.0|(46,[27],[1.0])|(15,[2],[1.0])|(133,[3],[1.0])|(12,[0],[1.0])|(13,[0],[1.0])|(42,[24],[1.0])|(310,[3,11,17,23,...|(310,[3,11,17,23,...|[20.5898737643340...|[0.99999999885730...|       0.0|\n",
            "|    0|     0|0.0|    46|     0|   0|   0|    0|    0|  0.0|  0.0|    1|    0|   0|   0|    0|    0|     46|      0|          0|          0| 0.0| 0.0|1424220311|1424220311|60000.734|    0.0|   0.0|   0.0|   0.0|              1|           2|               0|           0|         0|         1|         1|         1|          1|               1|               1|             1|    0|  24.0|   3.0|   2.0|     0.0|         0.0|  23.0|(46,[24],[1.0])|(15,[2],[1.0])|(133,[3],[1.0])|(12,[0],[1.0])|(13,[0],[1.0])|(42,[23],[1.0])|(310,[3,11,17,23,...|(310,[3,11,17,23,...|[20.5469142100582...|[0.99999999880714...|       0.0|\n",
            "|    0|     0|0.0|    46|     0|   0|   0|    0|    0|  0.0|  0.0|    1|    0|   0|   0|    0|    0|     46|      0|          0|          0| 0.0| 0.0|1424222231|1424222231|60000.762|    0.0|   0.0|   0.0|   0.0|              1|           2|               0|           0|         0|         1|         1|         1|          1|               1|               1|             1|    0|  27.0|   3.0|   2.0|     0.0|         0.0|  24.0|(46,[27],[1.0])|(15,[2],[1.0])|(133,[3],[1.0])|(12,[0],[1.0])|(13,[0],[1.0])|(42,[24],[1.0])|(310,[3,11,17,23,...|(310,[3,11,17,23,...|[20.5896289865371...|[0.99999999885702...|       0.0|\n",
            "|    0|     0|0.0|    46|     0|   0|   0|    0|    0|  0.0|  0.0|    1|    0|   0|   0|    0|    0|     46|      0|          0|          0| 0.0| 0.0|1424222490|1424222490|      0.0|    0.0|   0.0|   0.0|   0.0|              0|           2|               0|           0|         0|         1|         1|         1|          1|               1|               1|             1|    0|  44.0|   3.0|   2.0|     0.0|         0.0|  23.0|(46,[44],[1.0])|(15,[2],[1.0])|(133,[3],[1.0])|(12,[0],[1.0])|(13,[0],[1.0])|(42,[23],[1.0])|(310,[3,11,17,23,...|(310,[3,11,17,23,...|[26.4717807955776...|[0.99999999999681...|       0.0|\n",
            "|    0|     0|0.0|    46|     0|   0|   0|    0|    0|  0.0|  0.0|    1|    0|   0|   0|    0|    0|     46|      0|          0|          0| 0.0| 0.0|1424222711|1424222711|      0.0|    0.0|   0.0|   0.0|   0.0|              1|           2|               0|           0|         0|         1|         1|         1|          1|               1|               1|             1|    0|  24.0|   3.0|   2.0|     0.0|         0.0|  23.0|(46,[24],[1.0])|(15,[2],[1.0])|(133,[3],[1.0])|(12,[0],[1.0])|(13,[0],[1.0])|(42,[23],[1.0])|(310,[3,11,17,23,...|(310,[3,11,17,23,...|[20.4049028728767...|[0.99999999862512...|       0.0|\n",
            "|    0|     0|0.0|    46|     0|   0|   0|    0|    0|  0.0|  0.0|    1|    0|   0|   0|    0|    0|     46|      0|          0|          0| 0.0| 0.0|1424223011|1424223011| 60000.68|    0.0|   0.0|   0.0|   0.0|              1|           2|               0|           0|         0|         1|         1|         1|          1|               1|               1|             1|    0|  27.0|   3.0|   2.0|     0.0|         0.0|  24.0|(46,[27],[1.0])|(15,[2],[1.0])|(133,[3],[1.0])|(12,[0],[1.0])|(13,[0],[1.0])|(42,[24],[1.0])|(310,[3,11,17,23,...|(310,[3,11,17,23,...|[20.5895322777851...|[0.99999999885691...|       0.0|\n",
            "|    0|     0|0.0|    46|     0|   0|   0|    0|    0|  0.0|  0.0|    1|    0|   0|   0|    0|    0|     46|      0|          0|          0| 0.0| 0.0|1424223551|1424223551|60000.754|    0.0|   0.0|   0.0|   0.0|              1|           2|               0|           0|         0|         1|         1|         1|          1|               1|               1|             1|    0|  27.0|   3.0|   2.0|     0.0|         0.0|  24.0|(46,[27],[1.0])|(15,[2],[1.0])|(133,[3],[1.0])|(12,[0],[1.0])|(13,[0],[1.0])|(42,[24],[1.0])|(310,[3,11,17,23,...|(310,[3,11,17,23,...|[20.5894656344331...|[0.99999999885683...|       0.0|\n",
            "+-----+------+---+------+------+----+----+-----+-----+-----+-----+-----+-----+----+----+-----+-----+-------+-------+-----------+-----------+----+----+----------+----------+---------+-------+------+------+------+---------------+------------+----------------+------------+----------+----------+----------+----------+-----------+----------------+----------------+--------------+-----+------+------+------+--------+------------+------+---------------+--------------+---------------+--------------+--------------+---------------+--------------------+--------------------+--------------------+--------------------+----------+\n",
            "only showing top 20 rows\n",
            "\n"
          ]
        }
      ]
    },
    {
      "cell_type": "markdown",
      "metadata": {
        "id": "815seMBp-5tP"
      },
      "source": [
        "## **Confusion Matrix**\n",
        "\n",
        "Confusion Matrix is baesd on four conditions:\n",
        "\n",
        "* TP: Cancellation that are detected Correctly\n",
        "* TN: Non Cancellation  that are detected Correctly\n",
        "* FP: Cancellation  that are detected incorrectly as Non Cancellation\n",
        "* FN: Non Cancellation that are detected incorrectly as Cancellation"
      ]
    },
    {
      "cell_type": "code",
      "source": [
        "lr_accuracy=MulticlassClassificationEvaluator(labelCol='Label',metricName='accuracy').evaluate(lr_pred)\n",
        "print('The Model Accuracy is',lr_accuracy)"
      ],
      "metadata": {
        "colab": {
          "base_uri": "https://localhost:8080/"
        },
        "id": "M71A2Xec7K_i",
        "outputId": "d38e6a7d-2aa7-4b4e-f5e1-ab908661b863"
      },
      "execution_count": null,
      "outputs": [
        {
          "output_type": "stream",
          "name": "stdout",
          "text": [
            "The Model Accuracy is 1.0\n"
          ]
        }
      ]
    },
    {
      "cell_type": "code",
      "source": [
        "actual = lr_pred.select('Label').toPandas()\n",
        "pred = lr_pred.select('prediction').toPandas()"
      ],
      "metadata": {
        "id": "3iFid3Wj7VQF"
      },
      "execution_count": null,
      "outputs": []
    },
    {
      "cell_type": "code",
      "source": [
        "def plot_confusion_matrix(data, labels, output_filename):\n",
        "    sns.set(color_codes=True)\n",
        "    plt.figure(1, figsize=(9, 6))\n",
        " \n",
        "    plt.title(\"Confusion Matrix\")\n",
        " \n",
        "    sns.set(font_scale=1.4)\n",
        "    ax = sns.heatmap(data, annot=True, cmap=\"YlGnBu\", cbar_kws={'label': 'Scale'})\n",
        " \n",
        "    ax.set_xticklabels(labels)\n",
        "    ax.set_yticklabels(labels)\n",
        " \n",
        "    ax.set(ylabel=\"True Label\", xlabel=\"Predicted Label\")\n",
        " \n",
        "    plt.savefig(output_filename, bbox_inches='tight', dpi=300)\n",
        "    plt.show()\n",
        "    plt.close()"
      ],
      "metadata": {
        "id": "DAnSsucy7jU3"
      },
      "execution_count": null,
      "outputs": []
    },
    {
      "cell_type": "code",
      "source": [
        "from sklearn.metrics import confusion_matrix,classification_report"
      ],
      "metadata": {
        "id": "PNxU-0BD9JRg"
      },
      "execution_count": null,
      "outputs": []
    },
    {
      "cell_type": "code",
      "source": [
        "labels = ['Normal','Actual']\n",
        "cnmatrix = confusion_matrix(actual, pred)\n",
        "plot_confusion_matrix(cnmatrix, labels, \"confusion_matrix.png\")"
      ],
      "metadata": {
        "colab": {
          "base_uri": "https://localhost:8080/",
          "height": 410
        },
        "id": "aHhcKZWC7uQJ",
        "outputId": "e2ade9e7-c082-4080-bd75-c1e931a100ef"
      },
      "execution_count": null,
      "outputs": [
        {
          "output_type": "display_data",
          "data": {
            "image/png": "[encoded data removed]",
            "text/plain": [
              "<Figure size 648x432 with 2 Axes>"
            ]
          },
          "metadata": {}
        }
      ]
    },
    {
      "cell_type": "code",
      "source": [
        "print(classification_report(actual,pred,target_names=['Normal','Attack']))"
      ],
      "metadata": {
        "colab": {
          "base_uri": "https://localhost:8080/"
        },
        "id": "xQ0akkJa9Ssi",
        "outputId": "e5eb3ed1-d19f-40b6-bcc9-b7302a5ad2d3"
      },
      "execution_count": null,
      "outputs": [
        {
          "output_type": "stream",
          "name": "stdout",
          "text": [
            "              precision    recall  f1-score   support\n",
            "\n",
            "      Normal       1.00      1.00      1.00    443524\n",
            "      Attack       1.00      1.00      1.00     63752\n",
            "\n",
            "    accuracy                           1.00    507276\n",
            "   macro avg       1.00      1.00      1.00    507276\n",
            "weighted avg       1.00      1.00      1.00    507276\n",
            "\n"
          ]
        }
      ]
    },
    {
      "cell_type": "markdown",
      "source": [
        "## Multi CLassification"
      ],
      "metadata": {
        "id": "l9lcQV2K9eqv"
      }
    },
    {
      "cell_type": "code",
      "source": [
        "datams = data_mm.select('features_minmax', 'attack_cat_s')"
      ],
      "metadata": {
        "id": "SrLYSv_r7m8S"
      },
      "execution_count": null,
      "outputs": []
    },
    {
      "cell_type": "code",
      "metadata": {
        "colab": {
          "base_uri": "https://localhost:8080/"
        },
        "outputId": "415d320f-72c2-4f76-a140-798864bfc2e2",
        "id": "qIZRsF698O_l"
      },
      "source": [
        "newmdata = datams.withColumnRenamed(\"features_minmax\",\"features\")\n",
        "newmdata = newmdata.withColumnRenamed(\"attack_cat_s\",\"Label\")\n",
        "newmdata.show()"
      ],
      "execution_count": null,
      "outputs": [
        {
          "output_type": "stream",
          "name": "stdout",
          "text": [
            "+--------------------+-----+\n",
            "|            features|Label|\n",
            "+--------------------+-----+\n",
            "|(310,[0,1,2,3,4,5...|  0.0|\n",
            "|(310,[0,1,2,3,4,5...|  0.0|\n",
            "|(310,[0,1,2,3,4,5...|  0.0|\n",
            "|(310,[0,1,2,3,4,5...|  0.0|\n",
            "|(310,[0,1,2,3,4,5...|  0.0|\n",
            "|(310,[0,1,2,3,4,5...|  0.0|\n",
            "|(310,[0,1,2,3,4,5...|  0.0|\n",
            "|(310,[0,1,2,3,4,5...|  0.0|\n",
            "|(310,[0,1,2,3,4,5...|  0.0|\n",
            "|(310,[0,1,2,3,4,5...|  0.0|\n",
            "|(310,[0,1,2,3,4,5...|  0.0|\n",
            "|(310,[0,1,2,3,4,5...|  0.0|\n",
            "|(310,[0,1,2,3,4,5...|  0.0|\n",
            "|(310,[0,1,2,3,4,5...|  0.0|\n",
            "|(310,[0,1,2,3,4,5...|  0.0|\n",
            "|(310,[0,1,2,3,4,5...|  0.0|\n",
            "|(310,[0,1,2,3,4,5...|  0.0|\n",
            "|(310,[0,1,2,3,4,5...|  0.0|\n",
            "|(310,[0,1,2,3,4,5...|  0.0|\n",
            "|(310,[0,1,2,3,4,5...|  0.0|\n",
            "+--------------------+-----+\n",
            "only showing top 20 rows\n",
            "\n"
          ]
        }
      ]
    },
    {
      "cell_type": "code",
      "source": [
        "traindata,testdata=newmdata.randomSplit([0.80,0.20])"
      ],
      "metadata": {
        "id": "XeizqgCFFeVP"
      },
      "execution_count": null,
      "outputs": []
    },
    {
      "cell_type": "code",
      "source": [
        "from pyspark.ml.classification import OneVsRest\n",
        "\n",
        "lr=LogisticRegression(featuresCol='features', labelCol='Label')\n",
        "lrr = OneVsRest(classifier=lr)\n",
        "lrr_model = lrr.fit(traindata) "
      ],
      "metadata": {
        "id": "hcwW3cGN9orL"
      },
      "execution_count": null,
      "outputs": []
    },
    {
      "cell_type": "markdown",
      "source": [
        "## Evalution"
      ],
      "metadata": {
        "id": "XtuYbFA09orL"
      }
    },
    {
      "cell_type": "code",
      "source": [
        "lr_pred=lrr_model.transform(testdata)\n",
        "lr_pred.show()"
      ],
      "metadata": {
        "colab": {
          "base_uri": "https://localhost:8080/"
        },
        "id": "J1huB-G9C8sH",
        "outputId": "4b103367-59e3-4550-c355-6c9faf206920"
      },
      "execution_count": null,
      "outputs": [
        {
          "output_type": "stream",
          "name": "stdout",
          "text": [
            "+--------------------+-----+--------------------+----------+\n",
            "|            features|Label|       rawPrediction|prediction|\n",
            "+--------------------+-----+--------------------+----------+\n",
            "|(310,[0,1,2,3,4,5...|  2.0|[-25.017156638007...|       2.0|\n",
            "|(310,[0,1,2,3,4,5...|  2.0|[-24.183186569746...|       2.0|\n",
            "|(310,[0,1,2,3,4,5...|  2.0|[-24.183186569746...|       2.0|\n",
            "|(310,[0,1,2,3,4,5...|  2.0|[-25.485532154027...|       2.0|\n",
            "|(310,[0,1,2,3,4,5...|  2.0|[-25.485532154027...|       2.0|\n",
            "|(310,[0,1,2,3,4,5...|  2.0|[-25.485532154027...|       2.0|\n",
            "|(310,[0,1,2,3,4,5...|  2.0|[-26.444569720622...|       2.0|\n",
            "|(310,[0,1,2,3,4,5...|  2.0|[-24.702652697810...|       2.0|\n",
            "|(310,[0,1,2,3,4,5...|  2.0|[-25.602265407568...|       2.0|\n",
            "|(310,[0,1,2,3,4,5...|  2.0|[-26.216196680897...|       2.0|\n",
            "|(310,[0,1,2,3,4,5...|  2.0|[-25.053170258451...|       2.0|\n",
            "|(310,[0,1,2,3,4,5...|  8.0|[-41.417767136538...|       8.0|\n",
            "|(310,[0,1,2,3,4,5...|  2.0|[-24.858631931028...|       2.0|\n",
            "|(310,[0,1,2,3,4,5...|  2.0|[-23.510317688950...|       2.0|\n",
            "|(310,[0,1,2,3,4,5...|  2.0|[-21.597321965426...|       2.0|\n",
            "|(310,[0,1,2,3,4,5...|  2.0|[-21.597321965426...|       2.0|\n",
            "|(310,[0,1,2,3,4,5...|  2.0|[-23.293484679954...|       2.0|\n",
            "|(310,[0,1,2,3,4,5...|  3.0|[-25.045090162171...|       3.0|\n",
            "|(310,[0,1,2,3,4,5...|  7.0|[-33.407492403709...|       7.0|\n",
            "|(310,[0,1,2,3,4,5...|  7.0|[-33.407492403709...|       7.0|\n",
            "+--------------------+-----+--------------------+----------+\n",
            "only showing top 20 rows\n",
            "\n"
          ]
        }
      ]
    },
    {
      "cell_type": "code",
      "source": [
        "lr_accuracy=MulticlassClassificationEvaluator(labelCol='Label',metricName='accuracy').evaluate(lr_pred)\n",
        "print('The Model Accuracy is',lr_accuracy)"
      ],
      "metadata": {
        "colab": {
          "base_uri": "https://localhost:8080/"
        },
        "outputId": "ce7fb4bc-9a18-4390-c2de-6809a2f23936",
        "id": "ezNgU3rH9orM"
      },
      "execution_count": null,
      "outputs": [
        {
          "output_type": "stream",
          "name": "stdout",
          "text": [
            "The Model Accuracy is 1.0\n"
          ]
        }
      ]
    },
    {
      "cell_type": "code",
      "source": [
        "actual = lr_pred.select('Label').toPandas()\n",
        "pred = lr_pred.select('prediction').toPandas()"
      ],
      "metadata": {
        "id": "YJPnVD049orM"
      },
      "execution_count": null,
      "outputs": []
    },
    {
      "cell_type": "code",
      "source": [
        "cnmatrix = confusion_matrix(actual, pred)"
      ],
      "metadata": {
        "id": "90ktRFS39orM"
      },
      "execution_count": null,
      "outputs": []
    },
    {
      "cell_type": "code",
      "source": [
        "sns.set(color_codes=True)\n",
        "plt.figure(1, figsize=(12, 12))\n",
        " \n",
        "plt.title(\"Multi Confusion Matrix\")\n",
        " \n",
        "sns.set(font_scale=1.4)\n",
        "ax = sns.heatmap(cnmatrix, annot=True, cmap=\"YlGnBu\", cbar_kws={'label': 'Scale'})\n",
        "ax.set(ylabel=\"True Label\", xlabel=\"Predicted Label\")\n",
        "plt.savefig(\"confusion_matrix mulit.png\", bbox_inches='tight', dpi=300)\n",
        "plt.show()\n",
        "plt.close()"
      ],
      "metadata": {
        "colab": {
          "base_uri": "https://localhost:8080/",
          "height": 736
        },
        "id": "V1yoBXQYkZ_x",
        "outputId": "76a617f5-abfe-4ab4-d78e-aa51aa8dba2a"
      },
      "execution_count": null,
      "outputs": [
        {
          "output_type": "display_data",
          "data": {
            "image/png": "[encoded data removed]",
            "text/plain": [
              "<Figure size 864x864 with 2 Axes>"
            ]
          },
          "metadata": {}
        }
      ]
    },
    {
      "cell_type": "code",
      "source": [
        "print(classification_report(actual,pred))"
      ],
      "metadata": {
        "colab": {
          "base_uri": "https://localhost:8080/"
        },
        "outputId": "98730dde-4aec-4849-f6d6-3b42d8bb9ac9",
        "id": "qCNgC26A9orM"
      },
      "execution_count": null,
      "outputs": [
        {
          "output_type": "stream",
          "name": "stdout",
          "text": [
            "              precision    recall  f1-score   support\n",
            "\n",
            "         0.0       1.00      1.00      1.00    443732\n",
            "         1.0       1.00      1.00      1.00     42915\n",
            "         2.0       1.00      1.00      1.00      9012\n",
            "         3.0       1.00      1.00      1.00      3813\n",
            "         4.0       1.00      1.00      1.00      3322\n",
            "         5.0       1.00      1.00      1.00      2492\n",
            "         6.0       1.00      1.00      1.00      1001\n",
            "         7.0       1.00      1.00      1.00       535\n",
            "         8.0       1.00      1.00      1.00       348\n",
            "         9.0       1.00      1.00      1.00       356\n",
            "        10.0       1.00      1.00      1.00       248\n",
            "        11.0       1.00      1.00      1.00        94\n",
            "        12.0       1.00      1.00      1.00        38\n",
            "        13.0       1.00      1.00      1.00        39\n",
            "\n",
            "    accuracy                           1.00    507945\n",
            "   macro avg       1.00      1.00      1.00    507945\n",
            "weighted avg       1.00      1.00      1.00    507945\n",
            "\n"
          ]
        }
      ]
    }
  ]
}